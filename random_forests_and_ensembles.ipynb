{
 "cells": [
  {
   "cell_type": "markdown",
   "metadata": {},
   "source": [
    "# Random Forests and Ensembles\n",
    "* By Wai Ping Jerry KWOK\n",
    "* Created on 2023-10-08"
   ]
  },
  {
   "cell_type": "markdown",
   "metadata": {},
   "source": [
    "### Objective:\n",
    "\n",
    "The goal of the project is to successfully train and test a random forest, compare it to a decision tree and knn classifier. Also to train a simple stacking ensemble using a dt, knn and svm as base learners and a random forest as the meta-model."
   ]
  },
  {
   "cell_type": "markdown",
   "metadata": {},
   "source": [
    "### Instructions:\n",
    "\n",
    "1. From the Caltech-UCSD CUB-200-2011 data set you will need *image_attribute_labels.txt* and *image_class_labels.txt* they can be found at the following links:\n",
    "* http://www.vision.caltech.edu/datasets/cub_200_2011/\n",
    "* https://drive.google.com/drive/folders/1kFzIqZL_pEBVR7Ca_8IKibfWoeZc3GT1\n",
    "2. Follow the guidelines for the data preprocessing phase given below. You are welcome to preprocess the data as you wish, but good preprocessing is crucial for this project."
   ]
  },
  {
   "cell_type": "code",
   "execution_count": 4,
   "metadata": {},
   "outputs": [],
   "source": [
    "# import libraries\n",
    "import pandas as pd\n",
    "import numpy as np\n",
    "import matplotlib.pyplot as plt\n",
    "from mpl_toolkits.mplot3d import Axes3D\n",
    "import seaborn as sns\n",
    "from prettytable import PrettyTable\n",
    "import joblib\n",
    "\n",
    "# import from sklearn\n",
    "from sklearn.model_selection import train_test_split\n",
    "from sklearn.model_selection import cross_val_score\n",
    "from sklearn.model_selection import KFold\n",
    "from sklearn.model_selection import GridSearchCV\n",
    "from sklearn.model_selection import StratifiedGroupKFold\n",
    "from sklearn.model_selection import StratifiedKFold\n",
    "from sklearn.model_selection import RepeatedStratifiedKFold\n",
    "\n",
    "from sklearn.ensemble import StackingClassifier\n",
    "from sklearn.ensemble import VotingClassifier\n",
    "from sklearn.ensemble import RandomForestClassifier\n",
    "from sklearn.ensemble import GradientBoostingClassifier\n",
    "from sklearn.ensemble import AdaBoostClassifier\n",
    "from sklearn.ensemble import BaggingClassifier\n",
    "\n",
    "from sklearn.svm import SVC\n",
    "from sklearn.tree import DecisionTreeClassifier\n",
    "from sklearn.neighbors import KNeighborsClassifier\n",
    "from sklearn.naive_bayes import GaussianNB\n",
    "\n",
    "from sklearn.metrics import confusion_matrix"
   ]
  },
  {
   "cell_type": "markdown",
   "metadata": {},
   "source": [
    "### 1. Data Preprocessing"
   ]
  },
  {
   "cell_type": "markdown",
   "metadata": {},
   "source": [
    "**A correspondence should set up between the attributes and the labels. The aim is to set up a structure where each image's attributes can be related to its label. By the end, there are separate numpy arrays for training/testing attributes and their corresponding labels. In other words, your code takes two separate data sources – one with image attributes and the other with image labels – and processes them to form training and testing datasets where machine learning algorithms can learn the relationship between attributes and their corresponding labels.**"
   ]
  },
  {
   "cell_type": "markdown",
   "metadata": {},
   "source": [
    "#### 1.1 The Data:"
   ]
  },
  {
   "cell_type": "markdown",
   "metadata": {},
   "source": [
    "**1. The first file *image_attribute_labels.txt* contains information about image attributes. It is read with space as a delimiter (*\\s+*)**"
   ]
  },
  {
   "cell_type": "code",
   "execution_count": 5,
   "metadata": {},
   "outputs": [
    {
     "data": {
      "text/plain": [
       "\"df1 = pd.read_csv(\\n    'image_attribute_labels.txt', \\n    sep='\\\\s+')\""
      ]
     },
     "execution_count": 5,
     "metadata": {},
     "output_type": "execute_result"
    }
   ],
   "source": [
    "# read the first file *image_attribute_labels.txt* preliminarily \n",
    "# with specifying the separator\n",
    "# it triggers the error of \"ParserError: Error tokenizing data. C error: Expected 5 fields in line 709498, saw 6\"\n",
    "\n",
    "'''df1 = pd.read_csv(\n",
    "    'image_attribute_labels.txt', \n",
    "    sep='\\s+')'''"
   ]
  },
  {
   "cell_type": "markdown",
   "metadata": {},
   "source": [
    "**Discussion**\n",
    "1. Specifying the separator to 'space' triggers a Parser Error. We should be aware that there are lines with data entry error.\n",
    "2. We can load the file without specifying the separator to check first.\n",
    "3. Looking at the preliminary load, we can see that there is no header row."
   ]
  },
  {
   "cell_type": "code",
   "execution_count": 6,
   "metadata": {},
   "outputs": [
    {
     "data": {
      "text/html": [
       "<div>\n",
       "<style scoped>\n",
       "    .dataframe tbody tr th:only-of-type {\n",
       "        vertical-align: middle;\n",
       "    }\n",
       "\n",
       "    .dataframe tbody tr th {\n",
       "        vertical-align: top;\n",
       "    }\n",
       "\n",
       "    .dataframe thead th {\n",
       "        text-align: right;\n",
       "    }\n",
       "</style>\n",
       "<table border=\"1\" class=\"dataframe\">\n",
       "  <thead>\n",
       "    <tr style=\"text-align: right;\">\n",
       "      <th></th>\n",
       "      <th>1 1 0 3 27.7080</th>\n",
       "    </tr>\n",
       "  </thead>\n",
       "  <tbody>\n",
       "    <tr>\n",
       "      <th>0</th>\n",
       "      <td>1 2 0 3 27.7080</td>\n",
       "    </tr>\n",
       "    <tr>\n",
       "      <th>1</th>\n",
       "      <td>1 3 0 3 27.7080</td>\n",
       "    </tr>\n",
       "    <tr>\n",
       "      <th>2</th>\n",
       "      <td>1 4 0 3 27.7080</td>\n",
       "    </tr>\n",
       "    <tr>\n",
       "      <th>3</th>\n",
       "      <td>1 5 1 3 27.7080</td>\n",
       "    </tr>\n",
       "    <tr>\n",
       "      <th>4</th>\n",
       "      <td>1 6 0 3 27.7080</td>\n",
       "    </tr>\n",
       "    <tr>\n",
       "      <th>...</th>\n",
       "      <td>...</td>\n",
       "    </tr>\n",
       "    <tr>\n",
       "      <th>3677850</th>\n",
       "      <td>11788 308 1 4 4.9890</td>\n",
       "    </tr>\n",
       "    <tr>\n",
       "      <th>3677851</th>\n",
       "      <td>11788 309 0 4 8.3090</td>\n",
       "    </tr>\n",
       "    <tr>\n",
       "      <th>3677852</th>\n",
       "      <td>11788 310 0 4 8.3090</td>\n",
       "    </tr>\n",
       "    <tr>\n",
       "      <th>3677853</th>\n",
       "      <td>11788 311 0 4 8.3090</td>\n",
       "    </tr>\n",
       "    <tr>\n",
       "      <th>3677854</th>\n",
       "      <td>11788 312 1 4 8.3090</td>\n",
       "    </tr>\n",
       "  </tbody>\n",
       "</table>\n",
       "<p>3677855 rows × 1 columns</p>\n",
       "</div>"
      ],
      "text/plain": [
       "              1 1 0 3 27.7080\n",
       "0             1 2 0 3 27.7080\n",
       "1             1 3 0 3 27.7080\n",
       "2             1 4 0 3 27.7080\n",
       "3             1 5 1 3 27.7080\n",
       "4             1 6 0 3 27.7080\n",
       "...                       ...\n",
       "3677850  11788 308 1 4 4.9890\n",
       "3677851  11788 309 0 4 8.3090\n",
       "3677852  11788 310 0 4 8.3090\n",
       "3677853  11788 311 0 4 8.3090\n",
       "3677854  11788 312 1 4 8.3090\n",
       "\n",
       "[3677855 rows x 1 columns]"
      ]
     },
     "execution_count": 6,
     "metadata": {},
     "output_type": "execute_result"
    }
   ],
   "source": [
    "# again, read the first file *image_attribute_labels.txt* preliminarily \n",
    "# without specifying the separator\n",
    "df1 = pd.read_csv(\n",
    "    'image_attribute_labels.txt')\n",
    "df1"
   ]
  },
  {
   "cell_type": "markdown",
   "metadata": {},
   "source": [
    "**2. Only the first three columns should be loaded (*imgid*, *attid*, *present*)**"
   ]
  },
  {
   "cell_type": "code",
   "execution_count": 7,
   "metadata": {},
   "outputs": [
    {
     "data": {
      "text/html": [
       "<div>\n",
       "<style scoped>\n",
       "    .dataframe tbody tr th:only-of-type {\n",
       "        vertical-align: middle;\n",
       "    }\n",
       "\n",
       "    .dataframe tbody tr th {\n",
       "        vertical-align: top;\n",
       "    }\n",
       "\n",
       "    .dataframe thead th {\n",
       "        text-align: right;\n",
       "    }\n",
       "</style>\n",
       "<table border=\"1\" class=\"dataframe\">\n",
       "  <thead>\n",
       "    <tr style=\"text-align: right;\">\n",
       "      <th></th>\n",
       "      <th>imgid</th>\n",
       "      <th>attid</th>\n",
       "      <th>present</th>\n",
       "    </tr>\n",
       "  </thead>\n",
       "  <tbody>\n",
       "    <tr>\n",
       "      <th>0</th>\n",
       "      <td>1</td>\n",
       "      <td>1</td>\n",
       "      <td>0</td>\n",
       "    </tr>\n",
       "    <tr>\n",
       "      <th>1</th>\n",
       "      <td>1</td>\n",
       "      <td>2</td>\n",
       "      <td>0</td>\n",
       "    </tr>\n",
       "    <tr>\n",
       "      <th>2</th>\n",
       "      <td>1</td>\n",
       "      <td>3</td>\n",
       "      <td>0</td>\n",
       "    </tr>\n",
       "    <tr>\n",
       "      <th>3</th>\n",
       "      <td>1</td>\n",
       "      <td>4</td>\n",
       "      <td>0</td>\n",
       "    </tr>\n",
       "    <tr>\n",
       "      <th>4</th>\n",
       "      <td>1</td>\n",
       "      <td>5</td>\n",
       "      <td>1</td>\n",
       "    </tr>\n",
       "    <tr>\n",
       "      <th>...</th>\n",
       "      <td>...</td>\n",
       "      <td>...</td>\n",
       "      <td>...</td>\n",
       "    </tr>\n",
       "    <tr>\n",
       "      <th>3677851</th>\n",
       "      <td>11788</td>\n",
       "      <td>308</td>\n",
       "      <td>1</td>\n",
       "    </tr>\n",
       "    <tr>\n",
       "      <th>3677852</th>\n",
       "      <td>11788</td>\n",
       "      <td>309</td>\n",
       "      <td>0</td>\n",
       "    </tr>\n",
       "    <tr>\n",
       "      <th>3677853</th>\n",
       "      <td>11788</td>\n",
       "      <td>310</td>\n",
       "      <td>0</td>\n",
       "    </tr>\n",
       "    <tr>\n",
       "      <th>3677854</th>\n",
       "      <td>11788</td>\n",
       "      <td>311</td>\n",
       "      <td>0</td>\n",
       "    </tr>\n",
       "    <tr>\n",
       "      <th>3677855</th>\n",
       "      <td>11788</td>\n",
       "      <td>312</td>\n",
       "      <td>1</td>\n",
       "    </tr>\n",
       "  </tbody>\n",
       "</table>\n",
       "<p>3677856 rows × 3 columns</p>\n",
       "</div>"
      ],
      "text/plain": [
       "         imgid  attid  present\n",
       "0            1      1        0\n",
       "1            1      2        0\n",
       "2            1      3        0\n",
       "3            1      4        0\n",
       "4            1      5        1\n",
       "...        ...    ...      ...\n",
       "3677851  11788    308        1\n",
       "3677852  11788    309        0\n",
       "3677853  11788    310        0\n",
       "3677854  11788    311        0\n",
       "3677855  11788    312        1\n",
       "\n",
       "[3677856 rows x 3 columns]"
      ]
     },
     "execution_count": 7,
     "metadata": {},
     "output_type": "execute_result"
    }
   ],
   "source": [
    "# load only the first 3 columns and specify the column names and separator\n",
    "df1 = pd.read_csv(\n",
    "    'image_attribute_labels.txt',\n",
    "    sep='\\s+',\n",
    "    usecols=[0, 1, 2],\n",
    "    names=['imgid', 'attid', 'present'],\n",
    "    header=None)\n",
    "df1"
   ]
  },
  {
   "cell_type": "markdown",
   "metadata": {},
   "source": [
    "**3. The second file *image_class_labels.txt* has class labels for the image. It is read with space delimeter too.**"
   ]
  },
  {
   "cell_type": "code",
   "execution_count": 8,
   "metadata": {},
   "outputs": [
    {
     "data": {
      "text/html": [
       "<div>\n",
       "<style scoped>\n",
       "    .dataframe tbody tr th:only-of-type {\n",
       "        vertical-align: middle;\n",
       "    }\n",
       "\n",
       "    .dataframe tbody tr th {\n",
       "        vertical-align: top;\n",
       "    }\n",
       "\n",
       "    .dataframe thead th {\n",
       "        text-align: right;\n",
       "    }\n",
       "</style>\n",
       "<table border=\"1\" class=\"dataframe\">\n",
       "  <thead>\n",
       "    <tr style=\"text-align: right;\">\n",
       "      <th></th>\n",
       "      <th>0</th>\n",
       "      <th>1</th>\n",
       "    </tr>\n",
       "  </thead>\n",
       "  <tbody>\n",
       "    <tr>\n",
       "      <th>0</th>\n",
       "      <td>1</td>\n",
       "      <td>1</td>\n",
       "    </tr>\n",
       "    <tr>\n",
       "      <th>1</th>\n",
       "      <td>2</td>\n",
       "      <td>1</td>\n",
       "    </tr>\n",
       "    <tr>\n",
       "      <th>2</th>\n",
       "      <td>3</td>\n",
       "      <td>1</td>\n",
       "    </tr>\n",
       "    <tr>\n",
       "      <th>3</th>\n",
       "      <td>4</td>\n",
       "      <td>1</td>\n",
       "    </tr>\n",
       "    <tr>\n",
       "      <th>4</th>\n",
       "      <td>5</td>\n",
       "      <td>1</td>\n",
       "    </tr>\n",
       "    <tr>\n",
       "      <th>...</th>\n",
       "      <td>...</td>\n",
       "      <td>...</td>\n",
       "    </tr>\n",
       "    <tr>\n",
       "      <th>11783</th>\n",
       "      <td>11784</td>\n",
       "      <td>200</td>\n",
       "    </tr>\n",
       "    <tr>\n",
       "      <th>11784</th>\n",
       "      <td>11785</td>\n",
       "      <td>200</td>\n",
       "    </tr>\n",
       "    <tr>\n",
       "      <th>11785</th>\n",
       "      <td>11786</td>\n",
       "      <td>200</td>\n",
       "    </tr>\n",
       "    <tr>\n",
       "      <th>11786</th>\n",
       "      <td>11787</td>\n",
       "      <td>200</td>\n",
       "    </tr>\n",
       "    <tr>\n",
       "      <th>11787</th>\n",
       "      <td>11788</td>\n",
       "      <td>200</td>\n",
       "    </tr>\n",
       "  </tbody>\n",
       "</table>\n",
       "<p>11788 rows × 2 columns</p>\n",
       "</div>"
      ],
      "text/plain": [
       "           0    1\n",
       "0          1    1\n",
       "1          2    1\n",
       "2          3    1\n",
       "3          4    1\n",
       "4          5    1\n",
       "...      ...  ...\n",
       "11783  11784  200\n",
       "11784  11785  200\n",
       "11785  11786  200\n",
       "11786  11787  200\n",
       "11787  11788  200\n",
       "\n",
       "[11788 rows x 2 columns]"
      ]
     },
     "execution_count": 8,
     "metadata": {},
     "output_type": "execute_result"
    }
   ],
   "source": [
    "# read the data preliminarily with the space delimiter\n",
    "df2 = pd.read_csv(\n",
    "    'image_class_labels.txt', \n",
    "    sep='\\s+', \n",
    "    header=None, \n",
    "    index_col=False)\n",
    "df2"
   ]
  },
  {
   "cell_type": "markdown",
   "metadata": {},
   "source": [
    "**4. Output the heads of both files, and the file sizes/shapes. Discuss contents in detail.**"
   ]
  },
  {
   "cell_type": "code",
   "execution_count": 9,
   "metadata": {},
   "outputs": [
    {
     "data": {
      "text/html": [
       "<div>\n",
       "<style scoped>\n",
       "    .dataframe tbody tr th:only-of-type {\n",
       "        vertical-align: middle;\n",
       "    }\n",
       "\n",
       "    .dataframe tbody tr th {\n",
       "        vertical-align: top;\n",
       "    }\n",
       "\n",
       "    .dataframe thead th {\n",
       "        text-align: right;\n",
       "    }\n",
       "</style>\n",
       "<table border=\"1\" class=\"dataframe\">\n",
       "  <thead>\n",
       "    <tr style=\"text-align: right;\">\n",
       "      <th></th>\n",
       "      <th>imgid</th>\n",
       "      <th>attid</th>\n",
       "      <th>present</th>\n",
       "    </tr>\n",
       "  </thead>\n",
       "  <tbody>\n",
       "    <tr>\n",
       "      <th>0</th>\n",
       "      <td>1</td>\n",
       "      <td>1</td>\n",
       "      <td>0</td>\n",
       "    </tr>\n",
       "    <tr>\n",
       "      <th>1</th>\n",
       "      <td>1</td>\n",
       "      <td>2</td>\n",
       "      <td>0</td>\n",
       "    </tr>\n",
       "    <tr>\n",
       "      <th>2</th>\n",
       "      <td>1</td>\n",
       "      <td>3</td>\n",
       "      <td>0</td>\n",
       "    </tr>\n",
       "    <tr>\n",
       "      <th>3</th>\n",
       "      <td>1</td>\n",
       "      <td>4</td>\n",
       "      <td>0</td>\n",
       "    </tr>\n",
       "    <tr>\n",
       "      <th>4</th>\n",
       "      <td>1</td>\n",
       "      <td>5</td>\n",
       "      <td>1</td>\n",
       "    </tr>\n",
       "  </tbody>\n",
       "</table>\n",
       "</div>"
      ],
      "text/plain": [
       "   imgid  attid  present\n",
       "0      1      1        0\n",
       "1      1      2        0\n",
       "2      1      3        0\n",
       "3      1      4        0\n",
       "4      1      5        1"
      ]
     },
     "execution_count": 9,
     "metadata": {},
     "output_type": "execute_result"
    }
   ],
   "source": [
    "# display the first 5 rows of df1\n",
    "df1.head()"
   ]
  },
  {
   "cell_type": "code",
   "execution_count": 10,
   "metadata": {},
   "outputs": [
    {
     "name": "stdout",
     "output_type": "stream",
     "text": [
      "Number of rows of df1: 3677856\n",
      "Number of columns of df1: 3\n"
     ]
    }
   ],
   "source": [
    "# display the number of rows and columns of df1\n",
    "print(f'Number of rows of df1: {df1.shape[0]}')\n",
    "print(f'Number of columns of df1: {df1.shape[1]}')"
   ]
  },
  {
   "cell_type": "code",
   "execution_count": 11,
   "metadata": {},
   "outputs": [
    {
     "data": {
      "text/html": [
       "<div>\n",
       "<style scoped>\n",
       "    .dataframe tbody tr th:only-of-type {\n",
       "        vertical-align: middle;\n",
       "    }\n",
       "\n",
       "    .dataframe tbody tr th {\n",
       "        vertical-align: top;\n",
       "    }\n",
       "\n",
       "    .dataframe thead th {\n",
       "        text-align: right;\n",
       "    }\n",
       "</style>\n",
       "<table border=\"1\" class=\"dataframe\">\n",
       "  <thead>\n",
       "    <tr style=\"text-align: right;\">\n",
       "      <th></th>\n",
       "      <th>0</th>\n",
       "      <th>1</th>\n",
       "    </tr>\n",
       "  </thead>\n",
       "  <tbody>\n",
       "    <tr>\n",
       "      <th>0</th>\n",
       "      <td>1</td>\n",
       "      <td>1</td>\n",
       "    </tr>\n",
       "    <tr>\n",
       "      <th>1</th>\n",
       "      <td>2</td>\n",
       "      <td>1</td>\n",
       "    </tr>\n",
       "    <tr>\n",
       "      <th>2</th>\n",
       "      <td>3</td>\n",
       "      <td>1</td>\n",
       "    </tr>\n",
       "    <tr>\n",
       "      <th>3</th>\n",
       "      <td>4</td>\n",
       "      <td>1</td>\n",
       "    </tr>\n",
       "    <tr>\n",
       "      <th>4</th>\n",
       "      <td>5</td>\n",
       "      <td>1</td>\n",
       "    </tr>\n",
       "  </tbody>\n",
       "</table>\n",
       "</div>"
      ],
      "text/plain": [
       "   0  1\n",
       "0  1  1\n",
       "1  2  1\n",
       "2  3  1\n",
       "3  4  1\n",
       "4  5  1"
      ]
     },
     "execution_count": 11,
     "metadata": {},
     "output_type": "execute_result"
    }
   ],
   "source": [
    "# display the first 5 rows of df2\n",
    "df2.head()"
   ]
  },
  {
   "cell_type": "code",
   "execution_count": 12,
   "metadata": {},
   "outputs": [
    {
     "name": "stdout",
     "output_type": "stream",
     "text": [
      "Number of rows of df2: 11788\n",
      "Number of columns of df2: 2\n"
     ]
    }
   ],
   "source": [
    "# display the number of rows and columns of df2\n",
    "print(f'Number of rows of df2: {df2.shape[0]}')\n",
    "print(f'Number of columns of df2: {df2.shape[1]}')"
   ]
  },
  {
   "cell_type": "markdown",
   "metadata": {},
   "source": [
    "**Discussion**\n",
    "\n",
    "For *image_attribute_labels.txt*\n",
    "1. There are 3677856 rows and we loaded the first 3 columns only as *imgid*, *attid*, *present*.\n",
    "2. There is no header.\n",
    "3. The delimiter is 'space'.\n",
    "4. As from the README file, in the original txt file, there *should be* 5 columns and they are *image_id*, *attribute_id*, *is_present*, *certainty_id*, *time*.\n",
    "5. We should be aware that there are rows with bad data entry but df1 is successfully loaded with 3 columns with the same 3677856 rows. We should take a look into how to handle those rows with bad data entry before proceeding.\n",
    "\n",
    "For *image_class_labels.txt*\n",
    "1. There are 11788 rows and 2 columns.\n",
    "2. There is no header.\n",
    "3. The delimiter is 'space'.\n",
    "4. As from the README file, in the original txt file, there *should be* 2 columns and they are *image_id*, *class_id*."
   ]
  },
  {
   "cell_type": "markdown",
   "metadata": {},
   "source": [
    "#### 1.2 Handling Bad Entries:"
   ]
  },
  {
   "cell_type": "markdown",
   "metadata": {},
   "source": [
    "**1. Occasionally, files may contain corrupted or wrongly formatted lines. We use the *on_bad_lines='skip'* argument to ensure such lines are skipped during loading.**"
   ]
  },
  {
   "cell_type": "markdown",
   "metadata": {},
   "source": [
    "**2. Use the *pandas* library to load the two text files, *image_attribute_labels.txt* and *image_class_labels.txt*. Name them *imgatt*, and *imglabels*, respectively.**"
   ]
  },
  {
   "cell_type": "code",
   "execution_count": 13,
   "metadata": {},
   "outputs": [
    {
     "data": {
      "text/html": [
       "<div>\n",
       "<style scoped>\n",
       "    .dataframe tbody tr th:only-of-type {\n",
       "        vertical-align: middle;\n",
       "    }\n",
       "\n",
       "    .dataframe tbody tr th {\n",
       "        vertical-align: top;\n",
       "    }\n",
       "\n",
       "    .dataframe thead th {\n",
       "        text-align: right;\n",
       "    }\n",
       "</style>\n",
       "<table border=\"1\" class=\"dataframe\">\n",
       "  <thead>\n",
       "    <tr style=\"text-align: right;\">\n",
       "      <th></th>\n",
       "      <th>imgid</th>\n",
       "      <th>attid</th>\n",
       "      <th>present</th>\n",
       "      <th>certainty</th>\n",
       "      <th>time</th>\n",
       "    </tr>\n",
       "  </thead>\n",
       "  <tbody>\n",
       "    <tr>\n",
       "      <th>0</th>\n",
       "      <td>1</td>\n",
       "      <td>1</td>\n",
       "      <td>0</td>\n",
       "      <td>3</td>\n",
       "      <td>27.708</td>\n",
       "    </tr>\n",
       "    <tr>\n",
       "      <th>1</th>\n",
       "      <td>1</td>\n",
       "      <td>2</td>\n",
       "      <td>0</td>\n",
       "      <td>3</td>\n",
       "      <td>27.708</td>\n",
       "    </tr>\n",
       "    <tr>\n",
       "      <th>2</th>\n",
       "      <td>1</td>\n",
       "      <td>3</td>\n",
       "      <td>0</td>\n",
       "      <td>3</td>\n",
       "      <td>27.708</td>\n",
       "    </tr>\n",
       "    <tr>\n",
       "      <th>3</th>\n",
       "      <td>1</td>\n",
       "      <td>4</td>\n",
       "      <td>0</td>\n",
       "      <td>3</td>\n",
       "      <td>27.708</td>\n",
       "    </tr>\n",
       "    <tr>\n",
       "      <th>4</th>\n",
       "      <td>1</td>\n",
       "      <td>5</td>\n",
       "      <td>1</td>\n",
       "      <td>3</td>\n",
       "      <td>27.708</td>\n",
       "    </tr>\n",
       "    <tr>\n",
       "      <th>...</th>\n",
       "      <td>...</td>\n",
       "      <td>...</td>\n",
       "      <td>...</td>\n",
       "      <td>...</td>\n",
       "      <td>...</td>\n",
       "    </tr>\n",
       "    <tr>\n",
       "      <th>3677245</th>\n",
       "      <td>11788</td>\n",
       "      <td>308</td>\n",
       "      <td>1</td>\n",
       "      <td>4</td>\n",
       "      <td>4.989</td>\n",
       "    </tr>\n",
       "    <tr>\n",
       "      <th>3677246</th>\n",
       "      <td>11788</td>\n",
       "      <td>309</td>\n",
       "      <td>0</td>\n",
       "      <td>4</td>\n",
       "      <td>8.309</td>\n",
       "    </tr>\n",
       "    <tr>\n",
       "      <th>3677247</th>\n",
       "      <td>11788</td>\n",
       "      <td>310</td>\n",
       "      <td>0</td>\n",
       "      <td>4</td>\n",
       "      <td>8.309</td>\n",
       "    </tr>\n",
       "    <tr>\n",
       "      <th>3677248</th>\n",
       "      <td>11788</td>\n",
       "      <td>311</td>\n",
       "      <td>0</td>\n",
       "      <td>4</td>\n",
       "      <td>8.309</td>\n",
       "    </tr>\n",
       "    <tr>\n",
       "      <th>3677249</th>\n",
       "      <td>11788</td>\n",
       "      <td>312</td>\n",
       "      <td>1</td>\n",
       "      <td>4</td>\n",
       "      <td>8.309</td>\n",
       "    </tr>\n",
       "  </tbody>\n",
       "</table>\n",
       "<p>3677250 rows × 5 columns</p>\n",
       "</div>"
      ],
      "text/plain": [
       "         imgid  attid  present  certainty    time\n",
       "0            1      1        0          3  27.708\n",
       "1            1      2        0          3  27.708\n",
       "2            1      3        0          3  27.708\n",
       "3            1      4        0          3  27.708\n",
       "4            1      5        1          3  27.708\n",
       "...        ...    ...      ...        ...     ...\n",
       "3677245  11788    308        1          4   4.989\n",
       "3677246  11788    309        0          4   8.309\n",
       "3677247  11788    310        0          4   8.309\n",
       "3677248  11788    311        0          4   8.309\n",
       "3677249  11788    312        1          4   8.309\n",
       "\n",
       "[3677250 rows x 5 columns]"
      ]
     },
     "execution_count": 13,
     "metadata": {},
     "output_type": "execute_result"
    }
   ],
   "source": [
    "# load the first file *image_attribute_labels.txt* by skipping the bad lines\n",
    "imgatt = pd.read_csv(\n",
    "    'image_attribute_labels.txt', \n",
    "    sep='\\s+', \n",
    "    header=None, \n",
    "    names=['imgid', 'attid', 'present', 'certainty', 'time'], \n",
    "    on_bad_lines='skip')\n",
    "imgatt"
   ]
  },
  {
   "cell_type": "markdown",
   "metadata": {},
   "source": [
    "**Discussion:**\n",
    "1. We can note that there are 3677250 rows now, 606 fewer rows than that in df1.\n",
    "2. Considering we have over 3M rows in total, 606 rows are less than 0.02% of the total. Being cautious about bad data, We can accept to have dropped these rows.\n",
    "3. We can drop the last two columns now."
   ]
  },
  {
   "cell_type": "code",
   "execution_count": 14,
   "metadata": {},
   "outputs": [],
   "source": [
    "# drop the last two columns of imgatt\n",
    "imgatt = imgatt.drop(columns=['certainty', 'time'])"
   ]
  },
  {
   "cell_type": "code",
   "execution_count": 15,
   "metadata": {},
   "outputs": [
    {
     "data": {
      "text/html": [
       "<div>\n",
       "<style scoped>\n",
       "    .dataframe tbody tr th:only-of-type {\n",
       "        vertical-align: middle;\n",
       "    }\n",
       "\n",
       "    .dataframe tbody tr th {\n",
       "        vertical-align: top;\n",
       "    }\n",
       "\n",
       "    .dataframe thead th {\n",
       "        text-align: right;\n",
       "    }\n",
       "</style>\n",
       "<table border=\"1\" class=\"dataframe\">\n",
       "  <thead>\n",
       "    <tr style=\"text-align: right;\">\n",
       "      <th></th>\n",
       "      <th>imgid</th>\n",
       "      <th>classid</th>\n",
       "    </tr>\n",
       "  </thead>\n",
       "  <tbody>\n",
       "    <tr>\n",
       "      <th>0</th>\n",
       "      <td>1</td>\n",
       "      <td>1</td>\n",
       "    </tr>\n",
       "    <tr>\n",
       "      <th>1</th>\n",
       "      <td>2</td>\n",
       "      <td>1</td>\n",
       "    </tr>\n",
       "    <tr>\n",
       "      <th>2</th>\n",
       "      <td>3</td>\n",
       "      <td>1</td>\n",
       "    </tr>\n",
       "    <tr>\n",
       "      <th>3</th>\n",
       "      <td>4</td>\n",
       "      <td>1</td>\n",
       "    </tr>\n",
       "    <tr>\n",
       "      <th>4</th>\n",
       "      <td>5</td>\n",
       "      <td>1</td>\n",
       "    </tr>\n",
       "    <tr>\n",
       "      <th>...</th>\n",
       "      <td>...</td>\n",
       "      <td>...</td>\n",
       "    </tr>\n",
       "    <tr>\n",
       "      <th>11783</th>\n",
       "      <td>11784</td>\n",
       "      <td>200</td>\n",
       "    </tr>\n",
       "    <tr>\n",
       "      <th>11784</th>\n",
       "      <td>11785</td>\n",
       "      <td>200</td>\n",
       "    </tr>\n",
       "    <tr>\n",
       "      <th>11785</th>\n",
       "      <td>11786</td>\n",
       "      <td>200</td>\n",
       "    </tr>\n",
       "    <tr>\n",
       "      <th>11786</th>\n",
       "      <td>11787</td>\n",
       "      <td>200</td>\n",
       "    </tr>\n",
       "    <tr>\n",
       "      <th>11787</th>\n",
       "      <td>11788</td>\n",
       "      <td>200</td>\n",
       "    </tr>\n",
       "  </tbody>\n",
       "</table>\n",
       "<p>11788 rows × 2 columns</p>\n",
       "</div>"
      ],
      "text/plain": [
       "       imgid  classid\n",
       "0          1        1\n",
       "1          2        1\n",
       "2          3        1\n",
       "3          4        1\n",
       "4          5        1\n",
       "...      ...      ...\n",
       "11783  11784      200\n",
       "11784  11785      200\n",
       "11785  11786      200\n",
       "11786  11787      200\n",
       "11787  11788      200\n",
       "\n",
       "[11788 rows x 2 columns]"
      ]
     },
     "execution_count": 15,
     "metadata": {},
     "output_type": "execute_result"
    }
   ],
   "source": [
    "# load the second file *image_class_labels.txt*\n",
    "imglabels = pd.read_csv(\n",
    "    'image_class_labels.txt', \n",
    "    sep='\\s+', \n",
    "    header=None, \n",
    "    names=['imgid', 'classid'])\n",
    "imglabels"
   ]
  },
  {
   "cell_type": "markdown",
   "metadata": {},
   "source": [
    "**3. Always inspect the loaded data using methods like *head()*, *info()*, or *describe()* to understand its structure and to identify any inconsistencies.**"
   ]
  },
  {
   "cell_type": "code",
   "execution_count": 16,
   "metadata": {},
   "outputs": [
    {
     "name": "stdout",
     "output_type": "stream",
     "text": [
      "<class 'pandas.core.frame.DataFrame'>\n",
      "RangeIndex: 3677250 entries, 0 to 3677249\n",
      "Data columns (total 3 columns):\n",
      " #   Column   Dtype\n",
      "---  ------   -----\n",
      " 0   imgid    int64\n",
      " 1   attid    int64\n",
      " 2   present  int64\n",
      "dtypes: int64(3)\n",
      "memory usage: 84.2 MB\n"
     ]
    }
   ],
   "source": [
    "# show the information of imgatt\n",
    "imgatt.info()"
   ]
  },
  {
   "cell_type": "code",
   "execution_count": 17,
   "metadata": {},
   "outputs": [
    {
     "data": {
      "text/html": [
       "<div>\n",
       "<style scoped>\n",
       "    .dataframe tbody tr th:only-of-type {\n",
       "        vertical-align: middle;\n",
       "    }\n",
       "\n",
       "    .dataframe tbody tr th {\n",
       "        vertical-align: top;\n",
       "    }\n",
       "\n",
       "    .dataframe thead th {\n",
       "        text-align: right;\n",
       "    }\n",
       "</style>\n",
       "<table border=\"1\" class=\"dataframe\">\n",
       "  <thead>\n",
       "    <tr style=\"text-align: right;\">\n",
       "      <th></th>\n",
       "      <th>imgid</th>\n",
       "      <th>attid</th>\n",
       "      <th>present</th>\n",
       "    </tr>\n",
       "  </thead>\n",
       "  <tbody>\n",
       "    <tr>\n",
       "      <th>count</th>\n",
       "      <td>3677250.0000</td>\n",
       "      <td>3677250.0000</td>\n",
       "      <td>3677250.0000</td>\n",
       "    </tr>\n",
       "    <tr>\n",
       "      <th>mean</th>\n",
       "      <td>5894.5124</td>\n",
       "      <td>156.4993</td>\n",
       "      <td>0.1009</td>\n",
       "    </tr>\n",
       "    <tr>\n",
       "      <th>std</th>\n",
       "      <td>3402.8790</td>\n",
       "      <td>90.0666</td>\n",
       "      <td>0.3012</td>\n",
       "    </tr>\n",
       "    <tr>\n",
       "      <th>min</th>\n",
       "      <td>1.0000</td>\n",
       "      <td>1.0000</td>\n",
       "      <td>0.0000</td>\n",
       "    </tr>\n",
       "    <tr>\n",
       "      <th>25%</th>\n",
       "      <td>2948.0000</td>\n",
       "      <td>78.0000</td>\n",
       "      <td>0.0000</td>\n",
       "    </tr>\n",
       "    <tr>\n",
       "      <th>50%</th>\n",
       "      <td>5894.5000</td>\n",
       "      <td>156.0000</td>\n",
       "      <td>0.0000</td>\n",
       "    </tr>\n",
       "    <tr>\n",
       "      <th>75%</th>\n",
       "      <td>8841.0000</td>\n",
       "      <td>234.0000</td>\n",
       "      <td>0.0000</td>\n",
       "    </tr>\n",
       "    <tr>\n",
       "      <th>max</th>\n",
       "      <td>11788.0000</td>\n",
       "      <td>312.0000</td>\n",
       "      <td>1.0000</td>\n",
       "    </tr>\n",
       "  </tbody>\n",
       "</table>\n",
       "</div>"
      ],
      "text/plain": [
       "              imgid         attid       present\n",
       "count  3677250.0000  3677250.0000  3677250.0000\n",
       "mean      5894.5124      156.4993        0.1009\n",
       "std       3402.8790       90.0666        0.3012\n",
       "min          1.0000        1.0000        0.0000\n",
       "25%       2948.0000       78.0000        0.0000\n",
       "50%       5894.5000      156.0000        0.0000\n",
       "75%       8841.0000      234.0000        0.0000\n",
       "max      11788.0000      312.0000        1.0000"
      ]
     },
     "execution_count": 17,
     "metadata": {},
     "output_type": "execute_result"
    }
   ],
   "source": [
    "# show the descriptive statistics of imgatt\n",
    "imgatt.describe().map(lambda x: f'{x:0.4f}')"
   ]
  },
  {
   "cell_type": "code",
   "execution_count": 18,
   "metadata": {},
   "outputs": [
    {
     "name": "stdout",
     "output_type": "stream",
     "text": [
      "<class 'pandas.core.frame.DataFrame'>\n",
      "RangeIndex: 11788 entries, 0 to 11787\n",
      "Data columns (total 2 columns):\n",
      " #   Column   Non-Null Count  Dtype\n",
      "---  ------   --------------  -----\n",
      " 0   imgid    11788 non-null  int64\n",
      " 1   classid  11788 non-null  int64\n",
      "dtypes: int64(2)\n",
      "memory usage: 184.3 KB\n"
     ]
    }
   ],
   "source": [
    "# show the information of imglabels\n",
    "imglabels.info()"
   ]
  },
  {
   "cell_type": "code",
   "execution_count": 19,
   "metadata": {},
   "outputs": [
    {
     "data": {
      "text/html": [
       "<div>\n",
       "<style scoped>\n",
       "    .dataframe tbody tr th:only-of-type {\n",
       "        vertical-align: middle;\n",
       "    }\n",
       "\n",
       "    .dataframe tbody tr th {\n",
       "        vertical-align: top;\n",
       "    }\n",
       "\n",
       "    .dataframe thead th {\n",
       "        text-align: right;\n",
       "    }\n",
       "</style>\n",
       "<table border=\"1\" class=\"dataframe\">\n",
       "  <thead>\n",
       "    <tr style=\"text-align: right;\">\n",
       "      <th></th>\n",
       "      <th>imgid</th>\n",
       "      <th>classid</th>\n",
       "    </tr>\n",
       "  </thead>\n",
       "  <tbody>\n",
       "    <tr>\n",
       "      <th>count</th>\n",
       "      <td>11788.0000</td>\n",
       "      <td>11788.0000</td>\n",
       "    </tr>\n",
       "    <tr>\n",
       "      <th>mean</th>\n",
       "      <td>5894.5000</td>\n",
       "      <td>101.1263</td>\n",
       "    </tr>\n",
       "    <tr>\n",
       "      <th>std</th>\n",
       "      <td>3403.0468</td>\n",
       "      <td>57.4768</td>\n",
       "    </tr>\n",
       "    <tr>\n",
       "      <th>min</th>\n",
       "      <td>1.0000</td>\n",
       "      <td>1.0000</td>\n",
       "    </tr>\n",
       "    <tr>\n",
       "      <th>25%</th>\n",
       "      <td>2947.7500</td>\n",
       "      <td>51.0000</td>\n",
       "    </tr>\n",
       "    <tr>\n",
       "      <th>50%</th>\n",
       "      <td>5894.5000</td>\n",
       "      <td>101.0000</td>\n",
       "    </tr>\n",
       "    <tr>\n",
       "      <th>75%</th>\n",
       "      <td>8841.2500</td>\n",
       "      <td>151.0000</td>\n",
       "    </tr>\n",
       "    <tr>\n",
       "      <th>max</th>\n",
       "      <td>11788.0000</td>\n",
       "      <td>200.0000</td>\n",
       "    </tr>\n",
       "  </tbody>\n",
       "</table>\n",
       "</div>"
      ],
      "text/plain": [
       "            imgid     classid\n",
       "count  11788.0000  11788.0000\n",
       "mean    5894.5000    101.1263\n",
       "std     3403.0468     57.4768\n",
       "min        1.0000      1.0000\n",
       "25%     2947.7500     51.0000\n",
       "50%     5894.5000    101.0000\n",
       "75%     8841.2500    151.0000\n",
       "max    11788.0000    200.0000"
      ]
     },
     "execution_count": 19,
     "metadata": {},
     "output_type": "execute_result"
    }
   ],
   "source": [
    "# show the descriptive statistics of imglabels\n",
    "imglabels.describe().map(lambda x: f'{x:0.4f}')"
   ]
  },
  {
   "cell_type": "markdown",
   "metadata": {},
   "source": [
    "**Discussion:**\n",
    "\n",
    "For *imgatt*\n",
    "1. There are 3 columns which are all integers.\n",
    "2. For *imgid*, the min is 1 and the max is 11788.\n",
    "3. For *attid*, the min is 1 and the max is 312.\n",
    "4. For *present*, it is binary (0 or 1).\n",
    "\n",
    "For *imglabels*\n",
    "1. There are 2 columns which are all integers.\n",
    "2. For *imgid*, the min is 1 and the max is 11788.\n",
    "3. for *classid*, the min is 1 and the max is 200.\n",
    "\n",
    "These observations are same as expectation."
   ]
  },
  {
   "cell_type": "markdown",
   "metadata": {},
   "source": [
    "**4. Output shape, and head of the image attributes**"
   ]
  },
  {
   "cell_type": "code",
   "execution_count": 20,
   "metadata": {},
   "outputs": [
    {
     "name": "stdout",
     "output_type": "stream",
     "text": [
      "Number of rows of imgatt: 3677250\n",
      "Number of columns of imgatt: 3\n"
     ]
    }
   ],
   "source": [
    "# display the number of rows and columns of imgatt\n",
    "print(f'Number of rows of imgatt: {imgatt.shape[0]}')\n",
    "print(f'Number of columns of imgatt: {imgatt.shape[1]}')"
   ]
  },
  {
   "cell_type": "code",
   "execution_count": 21,
   "metadata": {},
   "outputs": [
    {
     "data": {
      "text/html": [
       "<div>\n",
       "<style scoped>\n",
       "    .dataframe tbody tr th:only-of-type {\n",
       "        vertical-align: middle;\n",
       "    }\n",
       "\n",
       "    .dataframe tbody tr th {\n",
       "        vertical-align: top;\n",
       "    }\n",
       "\n",
       "    .dataframe thead th {\n",
       "        text-align: right;\n",
       "    }\n",
       "</style>\n",
       "<table border=\"1\" class=\"dataframe\">\n",
       "  <thead>\n",
       "    <tr style=\"text-align: right;\">\n",
       "      <th></th>\n",
       "      <th>imgid</th>\n",
       "      <th>attid</th>\n",
       "      <th>present</th>\n",
       "    </tr>\n",
       "  </thead>\n",
       "  <tbody>\n",
       "    <tr>\n",
       "      <th>0</th>\n",
       "      <td>1</td>\n",
       "      <td>1</td>\n",
       "      <td>0</td>\n",
       "    </tr>\n",
       "    <tr>\n",
       "      <th>1</th>\n",
       "      <td>1</td>\n",
       "      <td>2</td>\n",
       "      <td>0</td>\n",
       "    </tr>\n",
       "    <tr>\n",
       "      <th>2</th>\n",
       "      <td>1</td>\n",
       "      <td>3</td>\n",
       "      <td>0</td>\n",
       "    </tr>\n",
       "    <tr>\n",
       "      <th>3</th>\n",
       "      <td>1</td>\n",
       "      <td>4</td>\n",
       "      <td>0</td>\n",
       "    </tr>\n",
       "    <tr>\n",
       "      <th>4</th>\n",
       "      <td>1</td>\n",
       "      <td>5</td>\n",
       "      <td>1</td>\n",
       "    </tr>\n",
       "  </tbody>\n",
       "</table>\n",
       "</div>"
      ],
      "text/plain": [
       "   imgid  attid  present\n",
       "0      1      1        0\n",
       "1      1      2        0\n",
       "2      1      3        0\n",
       "3      1      4        0\n",
       "4      1      5        1"
      ]
     },
     "execution_count": 21,
     "metadata": {},
     "output_type": "execute_result"
    }
   ],
   "source": [
    "# inspect the first 5 rows of imgatt\n",
    "imgatt.head()"
   ]
  },
  {
   "cell_type": "code",
   "execution_count": 22,
   "metadata": {},
   "outputs": [
    {
     "data": {
      "text/html": [
       "<div>\n",
       "<style scoped>\n",
       "    .dataframe tbody tr th:only-of-type {\n",
       "        vertical-align: middle;\n",
       "    }\n",
       "\n",
       "    .dataframe tbody tr th {\n",
       "        vertical-align: top;\n",
       "    }\n",
       "\n",
       "    .dataframe thead th {\n",
       "        text-align: right;\n",
       "    }\n",
       "</style>\n",
       "<table border=\"1\" class=\"dataframe\">\n",
       "  <thead>\n",
       "    <tr style=\"text-align: right;\">\n",
       "      <th></th>\n",
       "      <th>imgid</th>\n",
       "      <th>classid</th>\n",
       "    </tr>\n",
       "  </thead>\n",
       "  <tbody>\n",
       "    <tr>\n",
       "      <th>0</th>\n",
       "      <td>1</td>\n",
       "      <td>1</td>\n",
       "    </tr>\n",
       "    <tr>\n",
       "      <th>1</th>\n",
       "      <td>2</td>\n",
       "      <td>1</td>\n",
       "    </tr>\n",
       "    <tr>\n",
       "      <th>2</th>\n",
       "      <td>3</td>\n",
       "      <td>1</td>\n",
       "    </tr>\n",
       "    <tr>\n",
       "      <th>3</th>\n",
       "      <td>4</td>\n",
       "      <td>1</td>\n",
       "    </tr>\n",
       "    <tr>\n",
       "      <th>4</th>\n",
       "      <td>5</td>\n",
       "      <td>1</td>\n",
       "    </tr>\n",
       "  </tbody>\n",
       "</table>\n",
       "</div>"
      ],
      "text/plain": [
       "   imgid  classid\n",
       "0      1        1\n",
       "1      2        1\n",
       "2      3        1\n",
       "3      4        1\n",
       "4      5        1"
      ]
     },
     "execution_count": 22,
     "metadata": {},
     "output_type": "execute_result"
    }
   ],
   "source": [
    "# inspect the first 5 rows of imglabels\n",
    "imglabels.head()"
   ]
  },
  {
   "cell_type": "markdown",
   "metadata": {},
   "source": [
    "**Discussion**\n",
    "1. The two dataframes are gracefully loaded as intended, with the problematic rows being dropped."
   ]
  },
  {
   "cell_type": "markdown",
   "metadata": {},
   "source": [
    "#### 1.3 Data Transformation:"
   ]
  },
  {
   "cell_type": "markdown",
   "metadata": {},
   "source": [
    "**1. The data from *image_attribute_labels.txt* needs to be transformed from a long format to a wide format. The *pivot* method in *pandas* will help transform the data such that each image ID has all the attributes associated with it in separate columns. Make sure there are no duplicates or pivot will give you an error. Name this *imgatt2*.**"
   ]
  },
  {
   "cell_type": "code",
   "execution_count": 23,
   "metadata": {},
   "outputs": [
    {
     "data": {
      "text/plain": [
       "0"
      ]
     },
     "execution_count": 23,
     "metadata": {},
     "output_type": "execute_result"
    }
   ],
   "source": [
    "# check duplicated rows in imgatt\n",
    "imgatt.duplicated().sum()"
   ]
  },
  {
   "cell_type": "code",
   "execution_count": 24,
   "metadata": {},
   "outputs": [
    {
     "data": {
      "text/plain": [
       "imgid      0\n",
       "attid      0\n",
       "present    0\n",
       "dtype: int64"
      ]
     },
     "execution_count": 24,
     "metadata": {},
     "output_type": "execute_result"
    }
   ],
   "source": [
    "# check null values in imgatt\n",
    "imgatt.isnull().sum()"
   ]
  },
  {
   "cell_type": "markdown",
   "metadata": {},
   "source": [
    "**Discussion**\n",
    "1. There is no duplicate rows in *imgatt*.\n",
    "2. There is no null value in *imgatt*.\n",
    "\n",
    "We can proceed for data transformation."
   ]
  },
  {
   "cell_type": "code",
   "execution_count": 25,
   "metadata": {},
   "outputs": [
    {
     "data": {
      "text/html": [
       "<div>\n",
       "<style scoped>\n",
       "    .dataframe tbody tr th:only-of-type {\n",
       "        vertical-align: middle;\n",
       "    }\n",
       "\n",
       "    .dataframe tbody tr th {\n",
       "        vertical-align: top;\n",
       "    }\n",
       "\n",
       "    .dataframe thead th {\n",
       "        text-align: right;\n",
       "    }\n",
       "</style>\n",
       "<table border=\"1\" class=\"dataframe\">\n",
       "  <thead>\n",
       "    <tr style=\"text-align: right;\">\n",
       "      <th>attid</th>\n",
       "      <th>1</th>\n",
       "      <th>2</th>\n",
       "      <th>3</th>\n",
       "      <th>4</th>\n",
       "      <th>5</th>\n",
       "      <th>6</th>\n",
       "      <th>7</th>\n",
       "      <th>8</th>\n",
       "      <th>9</th>\n",
       "      <th>10</th>\n",
       "      <th>...</th>\n",
       "      <th>303</th>\n",
       "      <th>304</th>\n",
       "      <th>305</th>\n",
       "      <th>306</th>\n",
       "      <th>307</th>\n",
       "      <th>308</th>\n",
       "      <th>309</th>\n",
       "      <th>310</th>\n",
       "      <th>311</th>\n",
       "      <th>312</th>\n",
       "    </tr>\n",
       "    <tr>\n",
       "      <th>imgid</th>\n",
       "      <th></th>\n",
       "      <th></th>\n",
       "      <th></th>\n",
       "      <th></th>\n",
       "      <th></th>\n",
       "      <th></th>\n",
       "      <th></th>\n",
       "      <th></th>\n",
       "      <th></th>\n",
       "      <th></th>\n",
       "      <th></th>\n",
       "      <th></th>\n",
       "      <th></th>\n",
       "      <th></th>\n",
       "      <th></th>\n",
       "      <th></th>\n",
       "      <th></th>\n",
       "      <th></th>\n",
       "      <th></th>\n",
       "      <th></th>\n",
       "      <th></th>\n",
       "    </tr>\n",
       "  </thead>\n",
       "  <tbody>\n",
       "    <tr>\n",
       "      <th>1</th>\n",
       "      <td>0.0</td>\n",
       "      <td>0.0</td>\n",
       "      <td>0.0</td>\n",
       "      <td>0.0</td>\n",
       "      <td>1.0</td>\n",
       "      <td>0.0</td>\n",
       "      <td>0.0</td>\n",
       "      <td>0.0</td>\n",
       "      <td>0.0</td>\n",
       "      <td>0.0</td>\n",
       "      <td>...</td>\n",
       "      <td>0.0</td>\n",
       "      <td>0.0</td>\n",
       "      <td>0.0</td>\n",
       "      <td>0.0</td>\n",
       "      <td>0.0</td>\n",
       "      <td>1.0</td>\n",
       "      <td>0.0</td>\n",
       "      <td>0.0</td>\n",
       "      <td>0.0</td>\n",
       "      <td>0.0</td>\n",
       "    </tr>\n",
       "    <tr>\n",
       "      <th>2</th>\n",
       "      <td>0.0</td>\n",
       "      <td>0.0</td>\n",
       "      <td>0.0</td>\n",
       "      <td>0.0</td>\n",
       "      <td>0.0</td>\n",
       "      <td>0.0</td>\n",
       "      <td>0.0</td>\n",
       "      <td>0.0</td>\n",
       "      <td>0.0</td>\n",
       "      <td>0.0</td>\n",
       "      <td>...</td>\n",
       "      <td>0.0</td>\n",
       "      <td>0.0</td>\n",
       "      <td>0.0</td>\n",
       "      <td>0.0</td>\n",
       "      <td>0.0</td>\n",
       "      <td>0.0</td>\n",
       "      <td>0.0</td>\n",
       "      <td>0.0</td>\n",
       "      <td>0.0</td>\n",
       "      <td>0.0</td>\n",
       "    </tr>\n",
       "    <tr>\n",
       "      <th>3</th>\n",
       "      <td>0.0</td>\n",
       "      <td>0.0</td>\n",
       "      <td>0.0</td>\n",
       "      <td>0.0</td>\n",
       "      <td>1.0</td>\n",
       "      <td>0.0</td>\n",
       "      <td>0.0</td>\n",
       "      <td>0.0</td>\n",
       "      <td>0.0</td>\n",
       "      <td>0.0</td>\n",
       "      <td>...</td>\n",
       "      <td>0.0</td>\n",
       "      <td>0.0</td>\n",
       "      <td>0.0</td>\n",
       "      <td>0.0</td>\n",
       "      <td>0.0</td>\n",
       "      <td>1.0</td>\n",
       "      <td>0.0</td>\n",
       "      <td>0.0</td>\n",
       "      <td>1.0</td>\n",
       "      <td>0.0</td>\n",
       "    </tr>\n",
       "    <tr>\n",
       "      <th>4</th>\n",
       "      <td>0.0</td>\n",
       "      <td>0.0</td>\n",
       "      <td>0.0</td>\n",
       "      <td>0.0</td>\n",
       "      <td>1.0</td>\n",
       "      <td>0.0</td>\n",
       "      <td>0.0</td>\n",
       "      <td>0.0</td>\n",
       "      <td>0.0</td>\n",
       "      <td>0.0</td>\n",
       "      <td>...</td>\n",
       "      <td>0.0</td>\n",
       "      <td>0.0</td>\n",
       "      <td>0.0</td>\n",
       "      <td>1.0</td>\n",
       "      <td>0.0</td>\n",
       "      <td>0.0</td>\n",
       "      <td>1.0</td>\n",
       "      <td>0.0</td>\n",
       "      <td>0.0</td>\n",
       "      <td>0.0</td>\n",
       "    </tr>\n",
       "    <tr>\n",
       "      <th>5</th>\n",
       "      <td>0.0</td>\n",
       "      <td>0.0</td>\n",
       "      <td>0.0</td>\n",
       "      <td>0.0</td>\n",
       "      <td>1.0</td>\n",
       "      <td>0.0</td>\n",
       "      <td>0.0</td>\n",
       "      <td>0.0</td>\n",
       "      <td>0.0</td>\n",
       "      <td>0.0</td>\n",
       "      <td>...</td>\n",
       "      <td>0.0</td>\n",
       "      <td>0.0</td>\n",
       "      <td>1.0</td>\n",
       "      <td>0.0</td>\n",
       "      <td>0.0</td>\n",
       "      <td>0.0</td>\n",
       "      <td>0.0</td>\n",
       "      <td>0.0</td>\n",
       "      <td>0.0</td>\n",
       "      <td>0.0</td>\n",
       "    </tr>\n",
       "    <tr>\n",
       "      <th>...</th>\n",
       "      <td>...</td>\n",
       "      <td>...</td>\n",
       "      <td>...</td>\n",
       "      <td>...</td>\n",
       "      <td>...</td>\n",
       "      <td>...</td>\n",
       "      <td>...</td>\n",
       "      <td>...</td>\n",
       "      <td>...</td>\n",
       "      <td>...</td>\n",
       "      <td>...</td>\n",
       "      <td>...</td>\n",
       "      <td>...</td>\n",
       "      <td>...</td>\n",
       "      <td>...</td>\n",
       "      <td>...</td>\n",
       "      <td>...</td>\n",
       "      <td>...</td>\n",
       "      <td>...</td>\n",
       "      <td>...</td>\n",
       "      <td>...</td>\n",
       "    </tr>\n",
       "    <tr>\n",
       "      <th>11784</th>\n",
       "      <td>0.0</td>\n",
       "      <td>1.0</td>\n",
       "      <td>0.0</td>\n",
       "      <td>0.0</td>\n",
       "      <td>0.0</td>\n",
       "      <td>0.0</td>\n",
       "      <td>0.0</td>\n",
       "      <td>0.0</td>\n",
       "      <td>0.0</td>\n",
       "      <td>0.0</td>\n",
       "      <td>...</td>\n",
       "      <td>0.0</td>\n",
       "      <td>0.0</td>\n",
       "      <td>0.0</td>\n",
       "      <td>1.0</td>\n",
       "      <td>0.0</td>\n",
       "      <td>0.0</td>\n",
       "      <td>1.0</td>\n",
       "      <td>0.0</td>\n",
       "      <td>0.0</td>\n",
       "      <td>0.0</td>\n",
       "    </tr>\n",
       "    <tr>\n",
       "      <th>11785</th>\n",
       "      <td>0.0</td>\n",
       "      <td>0.0</td>\n",
       "      <td>0.0</td>\n",
       "      <td>0.0</td>\n",
       "      <td>0.0</td>\n",
       "      <td>0.0</td>\n",
       "      <td>1.0</td>\n",
       "      <td>0.0</td>\n",
       "      <td>0.0</td>\n",
       "      <td>0.0</td>\n",
       "      <td>...</td>\n",
       "      <td>0.0</td>\n",
       "      <td>0.0</td>\n",
       "      <td>0.0</td>\n",
       "      <td>1.0</td>\n",
       "      <td>0.0</td>\n",
       "      <td>1.0</td>\n",
       "      <td>0.0</td>\n",
       "      <td>0.0</td>\n",
       "      <td>0.0</td>\n",
       "      <td>0.0</td>\n",
       "    </tr>\n",
       "    <tr>\n",
       "      <th>11786</th>\n",
       "      <td>0.0</td>\n",
       "      <td>0.0</td>\n",
       "      <td>0.0</td>\n",
       "      <td>0.0</td>\n",
       "      <td>0.0</td>\n",
       "      <td>0.0</td>\n",
       "      <td>1.0</td>\n",
       "      <td>0.0</td>\n",
       "      <td>0.0</td>\n",
       "      <td>0.0</td>\n",
       "      <td>...</td>\n",
       "      <td>0.0</td>\n",
       "      <td>0.0</td>\n",
       "      <td>0.0</td>\n",
       "      <td>0.0</td>\n",
       "      <td>0.0</td>\n",
       "      <td>1.0</td>\n",
       "      <td>0.0</td>\n",
       "      <td>0.0</td>\n",
       "      <td>1.0</td>\n",
       "      <td>0.0</td>\n",
       "    </tr>\n",
       "    <tr>\n",
       "      <th>11787</th>\n",
       "      <td>0.0</td>\n",
       "      <td>0.0</td>\n",
       "      <td>0.0</td>\n",
       "      <td>0.0</td>\n",
       "      <td>0.0</td>\n",
       "      <td>0.0</td>\n",
       "      <td>1.0</td>\n",
       "      <td>0.0</td>\n",
       "      <td>0.0</td>\n",
       "      <td>0.0</td>\n",
       "      <td>...</td>\n",
       "      <td>0.0</td>\n",
       "      <td>0.0</td>\n",
       "      <td>0.0</td>\n",
       "      <td>0.0</td>\n",
       "      <td>0.0</td>\n",
       "      <td>0.0</td>\n",
       "      <td>0.0</td>\n",
       "      <td>0.0</td>\n",
       "      <td>1.0</td>\n",
       "      <td>0.0</td>\n",
       "    </tr>\n",
       "    <tr>\n",
       "      <th>11788</th>\n",
       "      <td>0.0</td>\n",
       "      <td>0.0</td>\n",
       "      <td>0.0</td>\n",
       "      <td>0.0</td>\n",
       "      <td>0.0</td>\n",
       "      <td>0.0</td>\n",
       "      <td>1.0</td>\n",
       "      <td>0.0</td>\n",
       "      <td>0.0</td>\n",
       "      <td>0.0</td>\n",
       "      <td>...</td>\n",
       "      <td>0.0</td>\n",
       "      <td>0.0</td>\n",
       "      <td>0.0</td>\n",
       "      <td>1.0</td>\n",
       "      <td>0.0</td>\n",
       "      <td>1.0</td>\n",
       "      <td>0.0</td>\n",
       "      <td>0.0</td>\n",
       "      <td>0.0</td>\n",
       "      <td>1.0</td>\n",
       "    </tr>\n",
       "  </tbody>\n",
       "</table>\n",
       "<p>11788 rows × 312 columns</p>\n",
       "</div>"
      ],
      "text/plain": [
       "attid  1    2    3    4    5    6    7    8    9    10   ...  303  304  305  \\\n",
       "imgid                                                    ...                  \n",
       "1      0.0  0.0  0.0  0.0  1.0  0.0  0.0  0.0  0.0  0.0  ...  0.0  0.0  0.0   \n",
       "2      0.0  0.0  0.0  0.0  0.0  0.0  0.0  0.0  0.0  0.0  ...  0.0  0.0  0.0   \n",
       "3      0.0  0.0  0.0  0.0  1.0  0.0  0.0  0.0  0.0  0.0  ...  0.0  0.0  0.0   \n",
       "4      0.0  0.0  0.0  0.0  1.0  0.0  0.0  0.0  0.0  0.0  ...  0.0  0.0  0.0   \n",
       "5      0.0  0.0  0.0  0.0  1.0  0.0  0.0  0.0  0.0  0.0  ...  0.0  0.0  1.0   \n",
       "...    ...  ...  ...  ...  ...  ...  ...  ...  ...  ...  ...  ...  ...  ...   \n",
       "11784  0.0  1.0  0.0  0.0  0.0  0.0  0.0  0.0  0.0  0.0  ...  0.0  0.0  0.0   \n",
       "11785  0.0  0.0  0.0  0.0  0.0  0.0  1.0  0.0  0.0  0.0  ...  0.0  0.0  0.0   \n",
       "11786  0.0  0.0  0.0  0.0  0.0  0.0  1.0  0.0  0.0  0.0  ...  0.0  0.0  0.0   \n",
       "11787  0.0  0.0  0.0  0.0  0.0  0.0  1.0  0.0  0.0  0.0  ...  0.0  0.0  0.0   \n",
       "11788  0.0  0.0  0.0  0.0  0.0  0.0  1.0  0.0  0.0  0.0  ...  0.0  0.0  0.0   \n",
       "\n",
       "attid  306  307  308  309  310  311  312  \n",
       "imgid                                     \n",
       "1      0.0  0.0  1.0  0.0  0.0  0.0  0.0  \n",
       "2      0.0  0.0  0.0  0.0  0.0  0.0  0.0  \n",
       "3      0.0  0.0  1.0  0.0  0.0  1.0  0.0  \n",
       "4      1.0  0.0  0.0  1.0  0.0  0.0  0.0  \n",
       "5      0.0  0.0  0.0  0.0  0.0  0.0  0.0  \n",
       "...    ...  ...  ...  ...  ...  ...  ...  \n",
       "11784  1.0  0.0  0.0  1.0  0.0  0.0  0.0  \n",
       "11785  1.0  0.0  1.0  0.0  0.0  0.0  0.0  \n",
       "11786  0.0  0.0  1.0  0.0  0.0  1.0  0.0  \n",
       "11787  0.0  0.0  0.0  0.0  0.0  1.0  0.0  \n",
       "11788  1.0  0.0  1.0  0.0  0.0  0.0  1.0  \n",
       "\n",
       "[11788 rows x 312 columns]"
      ]
     },
     "execution_count": 25,
     "metadata": {},
     "output_type": "execute_result"
    }
   ],
   "source": [
    "# pivot the imgatt dataframe\n",
    "imgatt2 = imgatt.pivot(index='imgid', columns='attid', values='present')\n",
    "imgatt2"
   ]
  },
  {
   "cell_type": "markdown",
   "metadata": {},
   "source": [
    "**Discussion**\n",
    "1. Since we have dropped some rows in the dataset before the pivot, we should check for null values after the pivot."
   ]
  },
  {
   "cell_type": "code",
   "execution_count": 26,
   "metadata": {},
   "outputs": [
    {
     "data": {
      "text/plain": [
       "606"
      ]
     },
     "execution_count": 26,
     "metadata": {},
     "output_type": "execute_result"
    }
   ],
   "source": [
    "# check null values in imgatt2\n",
    "imgatt2.isna().sum().sum()"
   ]
  },
  {
   "cell_type": "markdown",
   "metadata": {},
   "source": [
    "**Discussion**\n",
    "\n",
    "There are 606 null values. We should drop them first."
   ]
  },
  {
   "cell_type": "code",
   "execution_count": 27,
   "metadata": {},
   "outputs": [
    {
     "data": {
      "text/html": [
       "<div>\n",
       "<style scoped>\n",
       "    .dataframe tbody tr th:only-of-type {\n",
       "        vertical-align: middle;\n",
       "    }\n",
       "\n",
       "    .dataframe tbody tr th {\n",
       "        vertical-align: top;\n",
       "    }\n",
       "\n",
       "    .dataframe thead th {\n",
       "        text-align: right;\n",
       "    }\n",
       "</style>\n",
       "<table border=\"1\" class=\"dataframe\">\n",
       "  <thead>\n",
       "    <tr style=\"text-align: right;\">\n",
       "      <th>attid</th>\n",
       "      <th>1</th>\n",
       "      <th>2</th>\n",
       "      <th>3</th>\n",
       "      <th>4</th>\n",
       "      <th>5</th>\n",
       "      <th>6</th>\n",
       "      <th>7</th>\n",
       "      <th>8</th>\n",
       "      <th>9</th>\n",
       "      <th>10</th>\n",
       "      <th>...</th>\n",
       "      <th>303</th>\n",
       "      <th>304</th>\n",
       "      <th>305</th>\n",
       "      <th>306</th>\n",
       "      <th>307</th>\n",
       "      <th>308</th>\n",
       "      <th>309</th>\n",
       "      <th>310</th>\n",
       "      <th>311</th>\n",
       "      <th>312</th>\n",
       "    </tr>\n",
       "    <tr>\n",
       "      <th>imgid</th>\n",
       "      <th></th>\n",
       "      <th></th>\n",
       "      <th></th>\n",
       "      <th></th>\n",
       "      <th></th>\n",
       "      <th></th>\n",
       "      <th></th>\n",
       "      <th></th>\n",
       "      <th></th>\n",
       "      <th></th>\n",
       "      <th></th>\n",
       "      <th></th>\n",
       "      <th></th>\n",
       "      <th></th>\n",
       "      <th></th>\n",
       "      <th></th>\n",
       "      <th></th>\n",
       "      <th></th>\n",
       "      <th></th>\n",
       "      <th></th>\n",
       "      <th></th>\n",
       "    </tr>\n",
       "  </thead>\n",
       "  <tbody>\n",
       "    <tr>\n",
       "      <th>1</th>\n",
       "      <td>0.0</td>\n",
       "      <td>0.0</td>\n",
       "      <td>0.0</td>\n",
       "      <td>0.0</td>\n",
       "      <td>1.0</td>\n",
       "      <td>0.0</td>\n",
       "      <td>0.0</td>\n",
       "      <td>0.0</td>\n",
       "      <td>0.0</td>\n",
       "      <td>0.0</td>\n",
       "      <td>...</td>\n",
       "      <td>0.0</td>\n",
       "      <td>0.0</td>\n",
       "      <td>0.0</td>\n",
       "      <td>0.0</td>\n",
       "      <td>0.0</td>\n",
       "      <td>1.0</td>\n",
       "      <td>0.0</td>\n",
       "      <td>0.0</td>\n",
       "      <td>0.0</td>\n",
       "      <td>0.0</td>\n",
       "    </tr>\n",
       "    <tr>\n",
       "      <th>2</th>\n",
       "      <td>0.0</td>\n",
       "      <td>0.0</td>\n",
       "      <td>0.0</td>\n",
       "      <td>0.0</td>\n",
       "      <td>0.0</td>\n",
       "      <td>0.0</td>\n",
       "      <td>0.0</td>\n",
       "      <td>0.0</td>\n",
       "      <td>0.0</td>\n",
       "      <td>0.0</td>\n",
       "      <td>...</td>\n",
       "      <td>0.0</td>\n",
       "      <td>0.0</td>\n",
       "      <td>0.0</td>\n",
       "      <td>0.0</td>\n",
       "      <td>0.0</td>\n",
       "      <td>0.0</td>\n",
       "      <td>0.0</td>\n",
       "      <td>0.0</td>\n",
       "      <td>0.0</td>\n",
       "      <td>0.0</td>\n",
       "    </tr>\n",
       "    <tr>\n",
       "      <th>3</th>\n",
       "      <td>0.0</td>\n",
       "      <td>0.0</td>\n",
       "      <td>0.0</td>\n",
       "      <td>0.0</td>\n",
       "      <td>1.0</td>\n",
       "      <td>0.0</td>\n",
       "      <td>0.0</td>\n",
       "      <td>0.0</td>\n",
       "      <td>0.0</td>\n",
       "      <td>0.0</td>\n",
       "      <td>...</td>\n",
       "      <td>0.0</td>\n",
       "      <td>0.0</td>\n",
       "      <td>0.0</td>\n",
       "      <td>0.0</td>\n",
       "      <td>0.0</td>\n",
       "      <td>1.0</td>\n",
       "      <td>0.0</td>\n",
       "      <td>0.0</td>\n",
       "      <td>1.0</td>\n",
       "      <td>0.0</td>\n",
       "    </tr>\n",
       "    <tr>\n",
       "      <th>4</th>\n",
       "      <td>0.0</td>\n",
       "      <td>0.0</td>\n",
       "      <td>0.0</td>\n",
       "      <td>0.0</td>\n",
       "      <td>1.0</td>\n",
       "      <td>0.0</td>\n",
       "      <td>0.0</td>\n",
       "      <td>0.0</td>\n",
       "      <td>0.0</td>\n",
       "      <td>0.0</td>\n",
       "      <td>...</td>\n",
       "      <td>0.0</td>\n",
       "      <td>0.0</td>\n",
       "      <td>0.0</td>\n",
       "      <td>1.0</td>\n",
       "      <td>0.0</td>\n",
       "      <td>0.0</td>\n",
       "      <td>1.0</td>\n",
       "      <td>0.0</td>\n",
       "      <td>0.0</td>\n",
       "      <td>0.0</td>\n",
       "    </tr>\n",
       "    <tr>\n",
       "      <th>5</th>\n",
       "      <td>0.0</td>\n",
       "      <td>0.0</td>\n",
       "      <td>0.0</td>\n",
       "      <td>0.0</td>\n",
       "      <td>1.0</td>\n",
       "      <td>0.0</td>\n",
       "      <td>0.0</td>\n",
       "      <td>0.0</td>\n",
       "      <td>0.0</td>\n",
       "      <td>0.0</td>\n",
       "      <td>...</td>\n",
       "      <td>0.0</td>\n",
       "      <td>0.0</td>\n",
       "      <td>1.0</td>\n",
       "      <td>0.0</td>\n",
       "      <td>0.0</td>\n",
       "      <td>0.0</td>\n",
       "      <td>0.0</td>\n",
       "      <td>0.0</td>\n",
       "      <td>0.0</td>\n",
       "      <td>0.0</td>\n",
       "    </tr>\n",
       "    <tr>\n",
       "      <th>...</th>\n",
       "      <td>...</td>\n",
       "      <td>...</td>\n",
       "      <td>...</td>\n",
       "      <td>...</td>\n",
       "      <td>...</td>\n",
       "      <td>...</td>\n",
       "      <td>...</td>\n",
       "      <td>...</td>\n",
       "      <td>...</td>\n",
       "      <td>...</td>\n",
       "      <td>...</td>\n",
       "      <td>...</td>\n",
       "      <td>...</td>\n",
       "      <td>...</td>\n",
       "      <td>...</td>\n",
       "      <td>...</td>\n",
       "      <td>...</td>\n",
       "      <td>...</td>\n",
       "      <td>...</td>\n",
       "      <td>...</td>\n",
       "      <td>...</td>\n",
       "    </tr>\n",
       "    <tr>\n",
       "      <th>11784</th>\n",
       "      <td>0.0</td>\n",
       "      <td>1.0</td>\n",
       "      <td>0.0</td>\n",
       "      <td>0.0</td>\n",
       "      <td>0.0</td>\n",
       "      <td>0.0</td>\n",
       "      <td>0.0</td>\n",
       "      <td>0.0</td>\n",
       "      <td>0.0</td>\n",
       "      <td>0.0</td>\n",
       "      <td>...</td>\n",
       "      <td>0.0</td>\n",
       "      <td>0.0</td>\n",
       "      <td>0.0</td>\n",
       "      <td>1.0</td>\n",
       "      <td>0.0</td>\n",
       "      <td>0.0</td>\n",
       "      <td>1.0</td>\n",
       "      <td>0.0</td>\n",
       "      <td>0.0</td>\n",
       "      <td>0.0</td>\n",
       "    </tr>\n",
       "    <tr>\n",
       "      <th>11785</th>\n",
       "      <td>0.0</td>\n",
       "      <td>0.0</td>\n",
       "      <td>0.0</td>\n",
       "      <td>0.0</td>\n",
       "      <td>0.0</td>\n",
       "      <td>0.0</td>\n",
       "      <td>1.0</td>\n",
       "      <td>0.0</td>\n",
       "      <td>0.0</td>\n",
       "      <td>0.0</td>\n",
       "      <td>...</td>\n",
       "      <td>0.0</td>\n",
       "      <td>0.0</td>\n",
       "      <td>0.0</td>\n",
       "      <td>1.0</td>\n",
       "      <td>0.0</td>\n",
       "      <td>1.0</td>\n",
       "      <td>0.0</td>\n",
       "      <td>0.0</td>\n",
       "      <td>0.0</td>\n",
       "      <td>0.0</td>\n",
       "    </tr>\n",
       "    <tr>\n",
       "      <th>11786</th>\n",
       "      <td>0.0</td>\n",
       "      <td>0.0</td>\n",
       "      <td>0.0</td>\n",
       "      <td>0.0</td>\n",
       "      <td>0.0</td>\n",
       "      <td>0.0</td>\n",
       "      <td>1.0</td>\n",
       "      <td>0.0</td>\n",
       "      <td>0.0</td>\n",
       "      <td>0.0</td>\n",
       "      <td>...</td>\n",
       "      <td>0.0</td>\n",
       "      <td>0.0</td>\n",
       "      <td>0.0</td>\n",
       "      <td>0.0</td>\n",
       "      <td>0.0</td>\n",
       "      <td>1.0</td>\n",
       "      <td>0.0</td>\n",
       "      <td>0.0</td>\n",
       "      <td>1.0</td>\n",
       "      <td>0.0</td>\n",
       "    </tr>\n",
       "    <tr>\n",
       "      <th>11787</th>\n",
       "      <td>0.0</td>\n",
       "      <td>0.0</td>\n",
       "      <td>0.0</td>\n",
       "      <td>0.0</td>\n",
       "      <td>0.0</td>\n",
       "      <td>0.0</td>\n",
       "      <td>1.0</td>\n",
       "      <td>0.0</td>\n",
       "      <td>0.0</td>\n",
       "      <td>0.0</td>\n",
       "      <td>...</td>\n",
       "      <td>0.0</td>\n",
       "      <td>0.0</td>\n",
       "      <td>0.0</td>\n",
       "      <td>0.0</td>\n",
       "      <td>0.0</td>\n",
       "      <td>0.0</td>\n",
       "      <td>0.0</td>\n",
       "      <td>0.0</td>\n",
       "      <td>1.0</td>\n",
       "      <td>0.0</td>\n",
       "    </tr>\n",
       "    <tr>\n",
       "      <th>11788</th>\n",
       "      <td>0.0</td>\n",
       "      <td>0.0</td>\n",
       "      <td>0.0</td>\n",
       "      <td>0.0</td>\n",
       "      <td>0.0</td>\n",
       "      <td>0.0</td>\n",
       "      <td>1.0</td>\n",
       "      <td>0.0</td>\n",
       "      <td>0.0</td>\n",
       "      <td>0.0</td>\n",
       "      <td>...</td>\n",
       "      <td>0.0</td>\n",
       "      <td>0.0</td>\n",
       "      <td>0.0</td>\n",
       "      <td>1.0</td>\n",
       "      <td>0.0</td>\n",
       "      <td>1.0</td>\n",
       "      <td>0.0</td>\n",
       "      <td>0.0</td>\n",
       "      <td>0.0</td>\n",
       "      <td>1.0</td>\n",
       "    </tr>\n",
       "  </tbody>\n",
       "</table>\n",
       "<p>11786 rows × 312 columns</p>\n",
       "</div>"
      ],
      "text/plain": [
       "attid  1    2    3    4    5    6    7    8    9    10   ...  303  304  305  \\\n",
       "imgid                                                    ...                  \n",
       "1      0.0  0.0  0.0  0.0  1.0  0.0  0.0  0.0  0.0  0.0  ...  0.0  0.0  0.0   \n",
       "2      0.0  0.0  0.0  0.0  0.0  0.0  0.0  0.0  0.0  0.0  ...  0.0  0.0  0.0   \n",
       "3      0.0  0.0  0.0  0.0  1.0  0.0  0.0  0.0  0.0  0.0  ...  0.0  0.0  0.0   \n",
       "4      0.0  0.0  0.0  0.0  1.0  0.0  0.0  0.0  0.0  0.0  ...  0.0  0.0  0.0   \n",
       "5      0.0  0.0  0.0  0.0  1.0  0.0  0.0  0.0  0.0  0.0  ...  0.0  0.0  1.0   \n",
       "...    ...  ...  ...  ...  ...  ...  ...  ...  ...  ...  ...  ...  ...  ...   \n",
       "11784  0.0  1.0  0.0  0.0  0.0  0.0  0.0  0.0  0.0  0.0  ...  0.0  0.0  0.0   \n",
       "11785  0.0  0.0  0.0  0.0  0.0  0.0  1.0  0.0  0.0  0.0  ...  0.0  0.0  0.0   \n",
       "11786  0.0  0.0  0.0  0.0  0.0  0.0  1.0  0.0  0.0  0.0  ...  0.0  0.0  0.0   \n",
       "11787  0.0  0.0  0.0  0.0  0.0  0.0  1.0  0.0  0.0  0.0  ...  0.0  0.0  0.0   \n",
       "11788  0.0  0.0  0.0  0.0  0.0  0.0  1.0  0.0  0.0  0.0  ...  0.0  0.0  0.0   \n",
       "\n",
       "attid  306  307  308  309  310  311  312  \n",
       "imgid                                     \n",
       "1      0.0  0.0  1.0  0.0  0.0  0.0  0.0  \n",
       "2      0.0  0.0  0.0  0.0  0.0  0.0  0.0  \n",
       "3      0.0  0.0  1.0  0.0  0.0  1.0  0.0  \n",
       "4      1.0  0.0  0.0  1.0  0.0  0.0  0.0  \n",
       "5      0.0  0.0  0.0  0.0  0.0  0.0  0.0  \n",
       "...    ...  ...  ...  ...  ...  ...  ...  \n",
       "11784  1.0  0.0  0.0  1.0  0.0  0.0  0.0  \n",
       "11785  1.0  0.0  1.0  0.0  0.0  0.0  0.0  \n",
       "11786  0.0  0.0  1.0  0.0  0.0  1.0  0.0  \n",
       "11787  0.0  0.0  0.0  0.0  0.0  1.0  0.0  \n",
       "11788  1.0  0.0  1.0  0.0  0.0  0.0  1.0  \n",
       "\n",
       "[11786 rows x 312 columns]"
      ]
     },
     "execution_count": 27,
     "metadata": {},
     "output_type": "execute_result"
    }
   ],
   "source": [
    "# remove the null values in imgatt2\n",
    "imgatt2 = imgatt2.dropna()\n",
    "imgatt2"
   ]
  },
  {
   "cell_type": "code",
   "execution_count": 28,
   "metadata": {},
   "outputs": [
    {
     "data": {
      "text/plain": [
       "0"
      ]
     },
     "execution_count": 28,
     "metadata": {},
     "output_type": "execute_result"
    }
   ],
   "source": [
    "# check null values in imgatt2 again\n",
    "imgatt2.isna().sum().sum()"
   ]
  },
  {
   "cell_type": "markdown",
   "metadata": {},
   "source": [
    "**Discussion**\n",
    "\n",
    "1. There are 11786 rows, only 2 rows less in imgatt2 now after removing 606 null values.\n",
    "2. We may proceed to the next step."
   ]
  },
  {
   "cell_type": "markdown",
   "metadata": {},
   "source": [
    "**2. Output the head of the new arrangement; and the number of rows and columns**"
   ]
  },
  {
   "cell_type": "code",
   "execution_count": 29,
   "metadata": {},
   "outputs": [
    {
     "data": {
      "text/html": [
       "<div>\n",
       "<style scoped>\n",
       "    .dataframe tbody tr th:only-of-type {\n",
       "        vertical-align: middle;\n",
       "    }\n",
       "\n",
       "    .dataframe tbody tr th {\n",
       "        vertical-align: top;\n",
       "    }\n",
       "\n",
       "    .dataframe thead th {\n",
       "        text-align: right;\n",
       "    }\n",
       "</style>\n",
       "<table border=\"1\" class=\"dataframe\">\n",
       "  <thead>\n",
       "    <tr style=\"text-align: right;\">\n",
       "      <th>attid</th>\n",
       "      <th>1</th>\n",
       "      <th>2</th>\n",
       "      <th>3</th>\n",
       "      <th>4</th>\n",
       "      <th>5</th>\n",
       "      <th>6</th>\n",
       "      <th>7</th>\n",
       "      <th>8</th>\n",
       "      <th>9</th>\n",
       "      <th>10</th>\n",
       "      <th>...</th>\n",
       "      <th>303</th>\n",
       "      <th>304</th>\n",
       "      <th>305</th>\n",
       "      <th>306</th>\n",
       "      <th>307</th>\n",
       "      <th>308</th>\n",
       "      <th>309</th>\n",
       "      <th>310</th>\n",
       "      <th>311</th>\n",
       "      <th>312</th>\n",
       "    </tr>\n",
       "    <tr>\n",
       "      <th>imgid</th>\n",
       "      <th></th>\n",
       "      <th></th>\n",
       "      <th></th>\n",
       "      <th></th>\n",
       "      <th></th>\n",
       "      <th></th>\n",
       "      <th></th>\n",
       "      <th></th>\n",
       "      <th></th>\n",
       "      <th></th>\n",
       "      <th></th>\n",
       "      <th></th>\n",
       "      <th></th>\n",
       "      <th></th>\n",
       "      <th></th>\n",
       "      <th></th>\n",
       "      <th></th>\n",
       "      <th></th>\n",
       "      <th></th>\n",
       "      <th></th>\n",
       "      <th></th>\n",
       "    </tr>\n",
       "  </thead>\n",
       "  <tbody>\n",
       "    <tr>\n",
       "      <th>1</th>\n",
       "      <td>0.0</td>\n",
       "      <td>0.0</td>\n",
       "      <td>0.0</td>\n",
       "      <td>0.0</td>\n",
       "      <td>1.0</td>\n",
       "      <td>0.0</td>\n",
       "      <td>0.0</td>\n",
       "      <td>0.0</td>\n",
       "      <td>0.0</td>\n",
       "      <td>0.0</td>\n",
       "      <td>...</td>\n",
       "      <td>0.0</td>\n",
       "      <td>0.0</td>\n",
       "      <td>0.0</td>\n",
       "      <td>0.0</td>\n",
       "      <td>0.0</td>\n",
       "      <td>1.0</td>\n",
       "      <td>0.0</td>\n",
       "      <td>0.0</td>\n",
       "      <td>0.0</td>\n",
       "      <td>0.0</td>\n",
       "    </tr>\n",
       "    <tr>\n",
       "      <th>2</th>\n",
       "      <td>0.0</td>\n",
       "      <td>0.0</td>\n",
       "      <td>0.0</td>\n",
       "      <td>0.0</td>\n",
       "      <td>0.0</td>\n",
       "      <td>0.0</td>\n",
       "      <td>0.0</td>\n",
       "      <td>0.0</td>\n",
       "      <td>0.0</td>\n",
       "      <td>0.0</td>\n",
       "      <td>...</td>\n",
       "      <td>0.0</td>\n",
       "      <td>0.0</td>\n",
       "      <td>0.0</td>\n",
       "      <td>0.0</td>\n",
       "      <td>0.0</td>\n",
       "      <td>0.0</td>\n",
       "      <td>0.0</td>\n",
       "      <td>0.0</td>\n",
       "      <td>0.0</td>\n",
       "      <td>0.0</td>\n",
       "    </tr>\n",
       "    <tr>\n",
       "      <th>3</th>\n",
       "      <td>0.0</td>\n",
       "      <td>0.0</td>\n",
       "      <td>0.0</td>\n",
       "      <td>0.0</td>\n",
       "      <td>1.0</td>\n",
       "      <td>0.0</td>\n",
       "      <td>0.0</td>\n",
       "      <td>0.0</td>\n",
       "      <td>0.0</td>\n",
       "      <td>0.0</td>\n",
       "      <td>...</td>\n",
       "      <td>0.0</td>\n",
       "      <td>0.0</td>\n",
       "      <td>0.0</td>\n",
       "      <td>0.0</td>\n",
       "      <td>0.0</td>\n",
       "      <td>1.0</td>\n",
       "      <td>0.0</td>\n",
       "      <td>0.0</td>\n",
       "      <td>1.0</td>\n",
       "      <td>0.0</td>\n",
       "    </tr>\n",
       "    <tr>\n",
       "      <th>4</th>\n",
       "      <td>0.0</td>\n",
       "      <td>0.0</td>\n",
       "      <td>0.0</td>\n",
       "      <td>0.0</td>\n",
       "      <td>1.0</td>\n",
       "      <td>0.0</td>\n",
       "      <td>0.0</td>\n",
       "      <td>0.0</td>\n",
       "      <td>0.0</td>\n",
       "      <td>0.0</td>\n",
       "      <td>...</td>\n",
       "      <td>0.0</td>\n",
       "      <td>0.0</td>\n",
       "      <td>0.0</td>\n",
       "      <td>1.0</td>\n",
       "      <td>0.0</td>\n",
       "      <td>0.0</td>\n",
       "      <td>1.0</td>\n",
       "      <td>0.0</td>\n",
       "      <td>0.0</td>\n",
       "      <td>0.0</td>\n",
       "    </tr>\n",
       "    <tr>\n",
       "      <th>5</th>\n",
       "      <td>0.0</td>\n",
       "      <td>0.0</td>\n",
       "      <td>0.0</td>\n",
       "      <td>0.0</td>\n",
       "      <td>1.0</td>\n",
       "      <td>0.0</td>\n",
       "      <td>0.0</td>\n",
       "      <td>0.0</td>\n",
       "      <td>0.0</td>\n",
       "      <td>0.0</td>\n",
       "      <td>...</td>\n",
       "      <td>0.0</td>\n",
       "      <td>0.0</td>\n",
       "      <td>1.0</td>\n",
       "      <td>0.0</td>\n",
       "      <td>0.0</td>\n",
       "      <td>0.0</td>\n",
       "      <td>0.0</td>\n",
       "      <td>0.0</td>\n",
       "      <td>0.0</td>\n",
       "      <td>0.0</td>\n",
       "    </tr>\n",
       "  </tbody>\n",
       "</table>\n",
       "<p>5 rows × 312 columns</p>\n",
       "</div>"
      ],
      "text/plain": [
       "attid  1    2    3    4    5    6    7    8    9    10   ...  303  304  305  \\\n",
       "imgid                                                    ...                  \n",
       "1      0.0  0.0  0.0  0.0  1.0  0.0  0.0  0.0  0.0  0.0  ...  0.0  0.0  0.0   \n",
       "2      0.0  0.0  0.0  0.0  0.0  0.0  0.0  0.0  0.0  0.0  ...  0.0  0.0  0.0   \n",
       "3      0.0  0.0  0.0  0.0  1.0  0.0  0.0  0.0  0.0  0.0  ...  0.0  0.0  0.0   \n",
       "4      0.0  0.0  0.0  0.0  1.0  0.0  0.0  0.0  0.0  0.0  ...  0.0  0.0  0.0   \n",
       "5      0.0  0.0  0.0  0.0  1.0  0.0  0.0  0.0  0.0  0.0  ...  0.0  0.0  1.0   \n",
       "\n",
       "attid  306  307  308  309  310  311  312  \n",
       "imgid                                     \n",
       "1      0.0  0.0  1.0  0.0  0.0  0.0  0.0  \n",
       "2      0.0  0.0  0.0  0.0  0.0  0.0  0.0  \n",
       "3      0.0  0.0  1.0  0.0  0.0  1.0  0.0  \n",
       "4      1.0  0.0  0.0  1.0  0.0  0.0  0.0  \n",
       "5      0.0  0.0  0.0  0.0  0.0  0.0  0.0  \n",
       "\n",
       "[5 rows x 312 columns]"
      ]
     },
     "execution_count": 29,
     "metadata": {},
     "output_type": "execute_result"
    }
   ],
   "source": [
    "# inspect the first 5 rows of imgatt2\n",
    "imgatt2.head()"
   ]
  },
  {
   "cell_type": "code",
   "execution_count": 30,
   "metadata": {},
   "outputs": [
    {
     "name": "stdout",
     "output_type": "stream",
     "text": [
      "Number of rows of imgatt2: 11786\n",
      "Number of columns of imgatt2: 312\n"
     ]
    }
   ],
   "source": [
    "# display the number of rows and columns of imgatt2\n",
    "print(f'Number of rows of imgatt2: {imgatt2.shape[0]}')\n",
    "print(f'Number of columns of imgatt2: {imgatt2.shape[1]}')"
   ]
  },
  {
   "cell_type": "markdown",
   "metadata": {},
   "source": [
    "#### 1.4 Data Merging and Shuffle:"
   ]
  },
  {
   "cell_type": "markdown",
   "metadata": {},
   "source": [
    "**1. Set your imglabels data index to *imgid***"
   ]
  },
  {
   "cell_type": "code",
   "execution_count": 31,
   "metadata": {},
   "outputs": [],
   "source": [
    "# set the index of imglabels to imgid\n",
    "imglabels = imglabels.set_index('imgid')"
   ]
  },
  {
   "cell_type": "markdown",
   "metadata": {},
   "source": [
    "**2. Merge the two dataframes on a common column, *imgid* to create a new dataframe**"
   ]
  },
  {
   "cell_type": "code",
   "execution_count": 32,
   "metadata": {},
   "outputs": [
    {
     "data": {
      "text/html": [
       "<div>\n",
       "<style scoped>\n",
       "    .dataframe tbody tr th:only-of-type {\n",
       "        vertical-align: middle;\n",
       "    }\n",
       "\n",
       "    .dataframe tbody tr th {\n",
       "        vertical-align: top;\n",
       "    }\n",
       "\n",
       "    .dataframe thead th {\n",
       "        text-align: right;\n",
       "    }\n",
       "</style>\n",
       "<table border=\"1\" class=\"dataframe\">\n",
       "  <thead>\n",
       "    <tr style=\"text-align: right;\">\n",
       "      <th></th>\n",
       "      <th>1</th>\n",
       "      <th>2</th>\n",
       "      <th>3</th>\n",
       "      <th>4</th>\n",
       "      <th>5</th>\n",
       "      <th>6</th>\n",
       "      <th>7</th>\n",
       "      <th>8</th>\n",
       "      <th>9</th>\n",
       "      <th>10</th>\n",
       "      <th>...</th>\n",
       "      <th>304</th>\n",
       "      <th>305</th>\n",
       "      <th>306</th>\n",
       "      <th>307</th>\n",
       "      <th>308</th>\n",
       "      <th>309</th>\n",
       "      <th>310</th>\n",
       "      <th>311</th>\n",
       "      <th>312</th>\n",
       "      <th>classid</th>\n",
       "    </tr>\n",
       "    <tr>\n",
       "      <th>imgid</th>\n",
       "      <th></th>\n",
       "      <th></th>\n",
       "      <th></th>\n",
       "      <th></th>\n",
       "      <th></th>\n",
       "      <th></th>\n",
       "      <th></th>\n",
       "      <th></th>\n",
       "      <th></th>\n",
       "      <th></th>\n",
       "      <th></th>\n",
       "      <th></th>\n",
       "      <th></th>\n",
       "      <th></th>\n",
       "      <th></th>\n",
       "      <th></th>\n",
       "      <th></th>\n",
       "      <th></th>\n",
       "      <th></th>\n",
       "      <th></th>\n",
       "      <th></th>\n",
       "    </tr>\n",
       "  </thead>\n",
       "  <tbody>\n",
       "    <tr>\n",
       "      <th>1</th>\n",
       "      <td>0.0</td>\n",
       "      <td>0.0</td>\n",
       "      <td>0.0</td>\n",
       "      <td>0.0</td>\n",
       "      <td>1.0</td>\n",
       "      <td>0.0</td>\n",
       "      <td>0.0</td>\n",
       "      <td>0.0</td>\n",
       "      <td>0.0</td>\n",
       "      <td>0.0</td>\n",
       "      <td>...</td>\n",
       "      <td>0.0</td>\n",
       "      <td>0.0</td>\n",
       "      <td>0.0</td>\n",
       "      <td>0.0</td>\n",
       "      <td>1.0</td>\n",
       "      <td>0.0</td>\n",
       "      <td>0.0</td>\n",
       "      <td>0.0</td>\n",
       "      <td>0.0</td>\n",
       "      <td>1</td>\n",
       "    </tr>\n",
       "    <tr>\n",
       "      <th>2</th>\n",
       "      <td>0.0</td>\n",
       "      <td>0.0</td>\n",
       "      <td>0.0</td>\n",
       "      <td>0.0</td>\n",
       "      <td>0.0</td>\n",
       "      <td>0.0</td>\n",
       "      <td>0.0</td>\n",
       "      <td>0.0</td>\n",
       "      <td>0.0</td>\n",
       "      <td>0.0</td>\n",
       "      <td>...</td>\n",
       "      <td>0.0</td>\n",
       "      <td>0.0</td>\n",
       "      <td>0.0</td>\n",
       "      <td>0.0</td>\n",
       "      <td>0.0</td>\n",
       "      <td>0.0</td>\n",
       "      <td>0.0</td>\n",
       "      <td>0.0</td>\n",
       "      <td>0.0</td>\n",
       "      <td>1</td>\n",
       "    </tr>\n",
       "    <tr>\n",
       "      <th>3</th>\n",
       "      <td>0.0</td>\n",
       "      <td>0.0</td>\n",
       "      <td>0.0</td>\n",
       "      <td>0.0</td>\n",
       "      <td>1.0</td>\n",
       "      <td>0.0</td>\n",
       "      <td>0.0</td>\n",
       "      <td>0.0</td>\n",
       "      <td>0.0</td>\n",
       "      <td>0.0</td>\n",
       "      <td>...</td>\n",
       "      <td>0.0</td>\n",
       "      <td>0.0</td>\n",
       "      <td>0.0</td>\n",
       "      <td>0.0</td>\n",
       "      <td>1.0</td>\n",
       "      <td>0.0</td>\n",
       "      <td>0.0</td>\n",
       "      <td>1.0</td>\n",
       "      <td>0.0</td>\n",
       "      <td>1</td>\n",
       "    </tr>\n",
       "    <tr>\n",
       "      <th>4</th>\n",
       "      <td>0.0</td>\n",
       "      <td>0.0</td>\n",
       "      <td>0.0</td>\n",
       "      <td>0.0</td>\n",
       "      <td>1.0</td>\n",
       "      <td>0.0</td>\n",
       "      <td>0.0</td>\n",
       "      <td>0.0</td>\n",
       "      <td>0.0</td>\n",
       "      <td>0.0</td>\n",
       "      <td>...</td>\n",
       "      <td>0.0</td>\n",
       "      <td>0.0</td>\n",
       "      <td>1.0</td>\n",
       "      <td>0.0</td>\n",
       "      <td>0.0</td>\n",
       "      <td>1.0</td>\n",
       "      <td>0.0</td>\n",
       "      <td>0.0</td>\n",
       "      <td>0.0</td>\n",
       "      <td>1</td>\n",
       "    </tr>\n",
       "    <tr>\n",
       "      <th>5</th>\n",
       "      <td>0.0</td>\n",
       "      <td>0.0</td>\n",
       "      <td>0.0</td>\n",
       "      <td>0.0</td>\n",
       "      <td>1.0</td>\n",
       "      <td>0.0</td>\n",
       "      <td>0.0</td>\n",
       "      <td>0.0</td>\n",
       "      <td>0.0</td>\n",
       "      <td>0.0</td>\n",
       "      <td>...</td>\n",
       "      <td>0.0</td>\n",
       "      <td>1.0</td>\n",
       "      <td>0.0</td>\n",
       "      <td>0.0</td>\n",
       "      <td>0.0</td>\n",
       "      <td>0.0</td>\n",
       "      <td>0.0</td>\n",
       "      <td>0.0</td>\n",
       "      <td>0.0</td>\n",
       "      <td>1</td>\n",
       "    </tr>\n",
       "    <tr>\n",
       "      <th>...</th>\n",
       "      <td>...</td>\n",
       "      <td>...</td>\n",
       "      <td>...</td>\n",
       "      <td>...</td>\n",
       "      <td>...</td>\n",
       "      <td>...</td>\n",
       "      <td>...</td>\n",
       "      <td>...</td>\n",
       "      <td>...</td>\n",
       "      <td>...</td>\n",
       "      <td>...</td>\n",
       "      <td>...</td>\n",
       "      <td>...</td>\n",
       "      <td>...</td>\n",
       "      <td>...</td>\n",
       "      <td>...</td>\n",
       "      <td>...</td>\n",
       "      <td>...</td>\n",
       "      <td>...</td>\n",
       "      <td>...</td>\n",
       "      <td>...</td>\n",
       "    </tr>\n",
       "    <tr>\n",
       "      <th>11784</th>\n",
       "      <td>0.0</td>\n",
       "      <td>1.0</td>\n",
       "      <td>0.0</td>\n",
       "      <td>0.0</td>\n",
       "      <td>0.0</td>\n",
       "      <td>0.0</td>\n",
       "      <td>0.0</td>\n",
       "      <td>0.0</td>\n",
       "      <td>0.0</td>\n",
       "      <td>0.0</td>\n",
       "      <td>...</td>\n",
       "      <td>0.0</td>\n",
       "      <td>0.0</td>\n",
       "      <td>1.0</td>\n",
       "      <td>0.0</td>\n",
       "      <td>0.0</td>\n",
       "      <td>1.0</td>\n",
       "      <td>0.0</td>\n",
       "      <td>0.0</td>\n",
       "      <td>0.0</td>\n",
       "      <td>200</td>\n",
       "    </tr>\n",
       "    <tr>\n",
       "      <th>11785</th>\n",
       "      <td>0.0</td>\n",
       "      <td>0.0</td>\n",
       "      <td>0.0</td>\n",
       "      <td>0.0</td>\n",
       "      <td>0.0</td>\n",
       "      <td>0.0</td>\n",
       "      <td>1.0</td>\n",
       "      <td>0.0</td>\n",
       "      <td>0.0</td>\n",
       "      <td>0.0</td>\n",
       "      <td>...</td>\n",
       "      <td>0.0</td>\n",
       "      <td>0.0</td>\n",
       "      <td>1.0</td>\n",
       "      <td>0.0</td>\n",
       "      <td>1.0</td>\n",
       "      <td>0.0</td>\n",
       "      <td>0.0</td>\n",
       "      <td>0.0</td>\n",
       "      <td>0.0</td>\n",
       "      <td>200</td>\n",
       "    </tr>\n",
       "    <tr>\n",
       "      <th>11786</th>\n",
       "      <td>0.0</td>\n",
       "      <td>0.0</td>\n",
       "      <td>0.0</td>\n",
       "      <td>0.0</td>\n",
       "      <td>0.0</td>\n",
       "      <td>0.0</td>\n",
       "      <td>1.0</td>\n",
       "      <td>0.0</td>\n",
       "      <td>0.0</td>\n",
       "      <td>0.0</td>\n",
       "      <td>...</td>\n",
       "      <td>0.0</td>\n",
       "      <td>0.0</td>\n",
       "      <td>0.0</td>\n",
       "      <td>0.0</td>\n",
       "      <td>1.0</td>\n",
       "      <td>0.0</td>\n",
       "      <td>0.0</td>\n",
       "      <td>1.0</td>\n",
       "      <td>0.0</td>\n",
       "      <td>200</td>\n",
       "    </tr>\n",
       "    <tr>\n",
       "      <th>11787</th>\n",
       "      <td>0.0</td>\n",
       "      <td>0.0</td>\n",
       "      <td>0.0</td>\n",
       "      <td>0.0</td>\n",
       "      <td>0.0</td>\n",
       "      <td>0.0</td>\n",
       "      <td>1.0</td>\n",
       "      <td>0.0</td>\n",
       "      <td>0.0</td>\n",
       "      <td>0.0</td>\n",
       "      <td>...</td>\n",
       "      <td>0.0</td>\n",
       "      <td>0.0</td>\n",
       "      <td>0.0</td>\n",
       "      <td>0.0</td>\n",
       "      <td>0.0</td>\n",
       "      <td>0.0</td>\n",
       "      <td>0.0</td>\n",
       "      <td>1.0</td>\n",
       "      <td>0.0</td>\n",
       "      <td>200</td>\n",
       "    </tr>\n",
       "    <tr>\n",
       "      <th>11788</th>\n",
       "      <td>0.0</td>\n",
       "      <td>0.0</td>\n",
       "      <td>0.0</td>\n",
       "      <td>0.0</td>\n",
       "      <td>0.0</td>\n",
       "      <td>0.0</td>\n",
       "      <td>1.0</td>\n",
       "      <td>0.0</td>\n",
       "      <td>0.0</td>\n",
       "      <td>0.0</td>\n",
       "      <td>...</td>\n",
       "      <td>0.0</td>\n",
       "      <td>0.0</td>\n",
       "      <td>1.0</td>\n",
       "      <td>0.0</td>\n",
       "      <td>1.0</td>\n",
       "      <td>0.0</td>\n",
       "      <td>0.0</td>\n",
       "      <td>0.0</td>\n",
       "      <td>1.0</td>\n",
       "      <td>200</td>\n",
       "    </tr>\n",
       "  </tbody>\n",
       "</table>\n",
       "<p>11786 rows × 313 columns</p>\n",
       "</div>"
      ],
      "text/plain": [
       "         1    2    3    4    5    6    7    8    9   10  ...  304  305  306  \\\n",
       "imgid                                                    ...                  \n",
       "1      0.0  0.0  0.0  0.0  1.0  0.0  0.0  0.0  0.0  0.0  ...  0.0  0.0  0.0   \n",
       "2      0.0  0.0  0.0  0.0  0.0  0.0  0.0  0.0  0.0  0.0  ...  0.0  0.0  0.0   \n",
       "3      0.0  0.0  0.0  0.0  1.0  0.0  0.0  0.0  0.0  0.0  ...  0.0  0.0  0.0   \n",
       "4      0.0  0.0  0.0  0.0  1.0  0.0  0.0  0.0  0.0  0.0  ...  0.0  0.0  1.0   \n",
       "5      0.0  0.0  0.0  0.0  1.0  0.0  0.0  0.0  0.0  0.0  ...  0.0  1.0  0.0   \n",
       "...    ...  ...  ...  ...  ...  ...  ...  ...  ...  ...  ...  ...  ...  ...   \n",
       "11784  0.0  1.0  0.0  0.0  0.0  0.0  0.0  0.0  0.0  0.0  ...  0.0  0.0  1.0   \n",
       "11785  0.0  0.0  0.0  0.0  0.0  0.0  1.0  0.0  0.0  0.0  ...  0.0  0.0  1.0   \n",
       "11786  0.0  0.0  0.0  0.0  0.0  0.0  1.0  0.0  0.0  0.0  ...  0.0  0.0  0.0   \n",
       "11787  0.0  0.0  0.0  0.0  0.0  0.0  1.0  0.0  0.0  0.0  ...  0.0  0.0  0.0   \n",
       "11788  0.0  0.0  0.0  0.0  0.0  0.0  1.0  0.0  0.0  0.0  ...  0.0  0.0  1.0   \n",
       "\n",
       "       307  308  309  310  311  312  classid  \n",
       "imgid                                         \n",
       "1      0.0  1.0  0.0  0.0  0.0  0.0        1  \n",
       "2      0.0  0.0  0.0  0.0  0.0  0.0        1  \n",
       "3      0.0  1.0  0.0  0.0  1.0  0.0        1  \n",
       "4      0.0  0.0  1.0  0.0  0.0  0.0        1  \n",
       "5      0.0  0.0  0.0  0.0  0.0  0.0        1  \n",
       "...    ...  ...  ...  ...  ...  ...      ...  \n",
       "11784  0.0  0.0  1.0  0.0  0.0  0.0      200  \n",
       "11785  0.0  1.0  0.0  0.0  0.0  0.0      200  \n",
       "11786  0.0  1.0  0.0  0.0  1.0  0.0      200  \n",
       "11787  0.0  0.0  0.0  0.0  1.0  0.0      200  \n",
       "11788  0.0  1.0  0.0  0.0  0.0  1.0      200  \n",
       "\n",
       "[11786 rows x 313 columns]"
      ]
     },
     "execution_count": 32,
     "metadata": {},
     "output_type": "execute_result"
    }
   ],
   "source": [
    "# merge imgatt2 and imglabels on imgid\n",
    "imgatt_merged = pd.merge(imgatt2, imglabels, how='inner', on='imgid')\n",
    "imgatt_merged"
   ]
  },
  {
   "cell_type": "code",
   "execution_count": 33,
   "metadata": {},
   "outputs": [
    {
     "data": {
      "image/png": "[encoded data removed]",
      "text/plain": [
       "<Figure size 1600x400 with 1 Axes>"
      ]
     },
     "metadata": {},
     "output_type": "display_data"
    }
   ],
   "source": [
    "# make a plot of count of classid\n",
    "plt.figure(figsize=(16, 4))\n",
    "\n",
    "sns.countplot(data=imgatt_merged, x='classid', hue='classid', palette='viridis', legend=False)\n",
    "\n",
    "plt.title('Count of classid')\n",
    "plt.xticks(rotation=90, ha='right', fontsize=6)\n",
    "plt.show()"
   ]
  },
  {
   "cell_type": "markdown",
   "metadata": {},
   "source": [
    "**Discussion**\n",
    "\n",
    "1. Since the data consists of only 0 and 1, we do not need to apply scaler to the dataset before putting into models.\n",
    "2. There are 200 classes, and the classes are imbalanced. We should consider using Stratified K-fold cross validation later to ensure each fold has a representation ratio of the classes."
   ]
  },
  {
   "cell_type": "markdown",
   "metadata": {},
   "source": [
    "**3. Randomly shuffle your dataframe using *.sample* with *frac=1*, and *random_state=10*. (I want this reproducible)**"
   ]
  },
  {
   "cell_type": "code",
   "execution_count": 34,
   "metadata": {},
   "outputs": [],
   "source": [
    "# shuffle imgatt_merged using .sample() method\n",
    "imgatt_merged = imgatt_merged.sample(frac=1, random_state=10)"
   ]
  },
  {
   "cell_type": "markdown",
   "metadata": {},
   "source": [
    "**4. Split your new dataframe into attributes and labels where your attributes contains all columns but the last. Your labels contain only the last column. Using *.iloc* is useful here as it preserves indexing.**"
   ]
  },
  {
   "cell_type": "code",
   "execution_count": 35,
   "metadata": {},
   "outputs": [],
   "source": [
    "# split imgatt_merged into attributes as X and labels as y\n",
    "X = imgatt_merged.iloc[:, :-1]\n",
    "y = imgatt_merged.iloc[:, -1]"
   ]
  },
  {
   "cell_type": "code",
   "execution_count": 36,
   "metadata": {},
   "outputs": [
    {
     "data": {
      "text/html": [
       "<div>\n",
       "<style scoped>\n",
       "    .dataframe tbody tr th:only-of-type {\n",
       "        vertical-align: middle;\n",
       "    }\n",
       "\n",
       "    .dataframe tbody tr th {\n",
       "        vertical-align: top;\n",
       "    }\n",
       "\n",
       "    .dataframe thead th {\n",
       "        text-align: right;\n",
       "    }\n",
       "</style>\n",
       "<table border=\"1\" class=\"dataframe\">\n",
       "  <thead>\n",
       "    <tr style=\"text-align: right;\">\n",
       "      <th></th>\n",
       "      <th>1</th>\n",
       "      <th>2</th>\n",
       "      <th>3</th>\n",
       "      <th>4</th>\n",
       "      <th>5</th>\n",
       "      <th>6</th>\n",
       "      <th>7</th>\n",
       "      <th>8</th>\n",
       "      <th>9</th>\n",
       "      <th>10</th>\n",
       "      <th>...</th>\n",
       "      <th>303</th>\n",
       "      <th>304</th>\n",
       "      <th>305</th>\n",
       "      <th>306</th>\n",
       "      <th>307</th>\n",
       "      <th>308</th>\n",
       "      <th>309</th>\n",
       "      <th>310</th>\n",
       "      <th>311</th>\n",
       "      <th>312</th>\n",
       "    </tr>\n",
       "    <tr>\n",
       "      <th>imgid</th>\n",
       "      <th></th>\n",
       "      <th></th>\n",
       "      <th></th>\n",
       "      <th></th>\n",
       "      <th></th>\n",
       "      <th></th>\n",
       "      <th></th>\n",
       "      <th></th>\n",
       "      <th></th>\n",
       "      <th></th>\n",
       "      <th></th>\n",
       "      <th></th>\n",
       "      <th></th>\n",
       "      <th></th>\n",
       "      <th></th>\n",
       "      <th></th>\n",
       "      <th></th>\n",
       "      <th></th>\n",
       "      <th></th>\n",
       "      <th></th>\n",
       "      <th></th>\n",
       "    </tr>\n",
       "  </thead>\n",
       "  <tbody>\n",
       "    <tr>\n",
       "      <th>1361</th>\n",
       "      <td>0.0</td>\n",
       "      <td>1.0</td>\n",
       "      <td>0.0</td>\n",
       "      <td>0.0</td>\n",
       "      <td>0.0</td>\n",
       "      <td>0.0</td>\n",
       "      <td>0.0</td>\n",
       "      <td>0.0</td>\n",
       "      <td>0.0</td>\n",
       "      <td>0.0</td>\n",
       "      <td>...</td>\n",
       "      <td>0.0</td>\n",
       "      <td>0.0</td>\n",
       "      <td>0.0</td>\n",
       "      <td>0.0</td>\n",
       "      <td>0.0</td>\n",
       "      <td>0.0</td>\n",
       "      <td>0.0</td>\n",
       "      <td>0.0</td>\n",
       "      <td>1.0</td>\n",
       "      <td>0.0</td>\n",
       "    </tr>\n",
       "    <tr>\n",
       "      <th>10817</th>\n",
       "      <td>0.0</td>\n",
       "      <td>0.0</td>\n",
       "      <td>0.0</td>\n",
       "      <td>0.0</td>\n",
       "      <td>0.0</td>\n",
       "      <td>0.0</td>\n",
       "      <td>1.0</td>\n",
       "      <td>0.0</td>\n",
       "      <td>0.0</td>\n",
       "      <td>0.0</td>\n",
       "      <td>...</td>\n",
       "      <td>0.0</td>\n",
       "      <td>0.0</td>\n",
       "      <td>0.0</td>\n",
       "      <td>0.0</td>\n",
       "      <td>0.0</td>\n",
       "      <td>0.0</td>\n",
       "      <td>1.0</td>\n",
       "      <td>0.0</td>\n",
       "      <td>0.0</td>\n",
       "      <td>0.0</td>\n",
       "    </tr>\n",
       "    <tr>\n",
       "      <th>478</th>\n",
       "      <td>0.0</td>\n",
       "      <td>0.0</td>\n",
       "      <td>0.0</td>\n",
       "      <td>0.0</td>\n",
       "      <td>0.0</td>\n",
       "      <td>0.0</td>\n",
       "      <td>1.0</td>\n",
       "      <td>0.0</td>\n",
       "      <td>0.0</td>\n",
       "      <td>0.0</td>\n",
       "      <td>...</td>\n",
       "      <td>0.0</td>\n",
       "      <td>0.0</td>\n",
       "      <td>0.0</td>\n",
       "      <td>0.0</td>\n",
       "      <td>0.0</td>\n",
       "      <td>0.0</td>\n",
       "      <td>0.0</td>\n",
       "      <td>0.0</td>\n",
       "      <td>1.0</td>\n",
       "      <td>0.0</td>\n",
       "    </tr>\n",
       "    <tr>\n",
       "      <th>2739</th>\n",
       "      <td>0.0</td>\n",
       "      <td>0.0</td>\n",
       "      <td>0.0</td>\n",
       "      <td>0.0</td>\n",
       "      <td>0.0</td>\n",
       "      <td>0.0</td>\n",
       "      <td>0.0</td>\n",
       "      <td>1.0</td>\n",
       "      <td>0.0</td>\n",
       "      <td>0.0</td>\n",
       "      <td>...</td>\n",
       "      <td>0.0</td>\n",
       "      <td>0.0</td>\n",
       "      <td>0.0</td>\n",
       "      <td>0.0</td>\n",
       "      <td>0.0</td>\n",
       "      <td>0.0</td>\n",
       "      <td>0.0</td>\n",
       "      <td>0.0</td>\n",
       "      <td>0.0</td>\n",
       "      <td>1.0</td>\n",
       "    </tr>\n",
       "    <tr>\n",
       "      <th>8979</th>\n",
       "      <td>0.0</td>\n",
       "      <td>0.0</td>\n",
       "      <td>0.0</td>\n",
       "      <td>0.0</td>\n",
       "      <td>0.0</td>\n",
       "      <td>0.0</td>\n",
       "      <td>1.0</td>\n",
       "      <td>0.0</td>\n",
       "      <td>0.0</td>\n",
       "      <td>0.0</td>\n",
       "      <td>...</td>\n",
       "      <td>0.0</td>\n",
       "      <td>0.0</td>\n",
       "      <td>0.0</td>\n",
       "      <td>0.0</td>\n",
       "      <td>0.0</td>\n",
       "      <td>0.0</td>\n",
       "      <td>0.0</td>\n",
       "      <td>0.0</td>\n",
       "      <td>1.0</td>\n",
       "      <td>0.0</td>\n",
       "    </tr>\n",
       "  </tbody>\n",
       "</table>\n",
       "<p>5 rows × 312 columns</p>\n",
       "</div>"
      ],
      "text/plain": [
       "       1    2    3    4    5    6    7    8    9    10   ...  303  304  305  \\\n",
       "imgid                                                    ...                  \n",
       "1361   0.0  1.0  0.0  0.0  0.0  0.0  0.0  0.0  0.0  0.0  ...  0.0  0.0  0.0   \n",
       "10817  0.0  0.0  0.0  0.0  0.0  0.0  1.0  0.0  0.0  0.0  ...  0.0  0.0  0.0   \n",
       "478    0.0  0.0  0.0  0.0  0.0  0.0  1.0  0.0  0.0  0.0  ...  0.0  0.0  0.0   \n",
       "2739   0.0  0.0  0.0  0.0  0.0  0.0  0.0  1.0  0.0  0.0  ...  0.0  0.0  0.0   \n",
       "8979   0.0  0.0  0.0  0.0  0.0  0.0  1.0  0.0  0.0  0.0  ...  0.0  0.0  0.0   \n",
       "\n",
       "       306  307  308  309  310  311  312  \n",
       "imgid                                     \n",
       "1361   0.0  0.0  0.0  0.0  0.0  1.0  0.0  \n",
       "10817  0.0  0.0  0.0  1.0  0.0  0.0  0.0  \n",
       "478    0.0  0.0  0.0  0.0  0.0  1.0  0.0  \n",
       "2739   0.0  0.0  0.0  0.0  0.0  0.0  1.0  \n",
       "8979   0.0  0.0  0.0  0.0  0.0  1.0  0.0  \n",
       "\n",
       "[5 rows x 312 columns]"
      ]
     },
     "execution_count": 36,
     "metadata": {},
     "output_type": "execute_result"
    }
   ],
   "source": [
    "# display the first 5 rows of X\n",
    "X.head()"
   ]
  },
  {
   "cell_type": "code",
   "execution_count": 37,
   "metadata": {},
   "outputs": [
    {
     "data": {
      "text/plain": [
       "imgid\n",
       "1361      25\n",
       "10817    184\n",
       "478        9\n",
       "2739      48\n",
       "8979     153\n",
       "Name: classid, dtype: int64"
      ]
     },
     "execution_count": 37,
     "metadata": {},
     "output_type": "execute_result"
    }
   ],
   "source": [
    "# display the first 5 rows of y\n",
    "y.head()"
   ]
  },
  {
   "cell_type": "markdown",
   "metadata": {},
   "source": [
    "**5. Convert to a numpy arrays**"
   ]
  },
  {
   "cell_type": "code",
   "execution_count": 38,
   "metadata": {},
   "outputs": [
    {
     "data": {
      "text/plain": [
       "array([[0., 1., 0., ..., 0., 1., 0.],\n",
       "       [0., 0., 0., ..., 0., 0., 0.],\n",
       "       [0., 0., 0., ..., 0., 1., 0.],\n",
       "       ...,\n",
       "       [0., 0., 0., ..., 0., 0., 0.],\n",
       "       [0., 0., 0., ..., 0., 0., 1.],\n",
       "       [0., 0., 0., ..., 0., 1., 0.]])"
      ]
     },
     "execution_count": 38,
     "metadata": {},
     "output_type": "execute_result"
    }
   ],
   "source": [
    "# convert X to numpy array\n",
    "X_np = X.to_numpy()\n",
    "X_np"
   ]
  },
  {
   "cell_type": "code",
   "execution_count": 39,
   "metadata": {},
   "outputs": [
    {
     "data": {
      "text/plain": [
       "array([ 25, 184,   9, ...,  25, 125,  23], dtype=int64)"
      ]
     },
     "execution_count": 39,
     "metadata": {},
     "output_type": "execute_result"
    }
   ],
   "source": [
    "# convert y to a numpy array\n",
    "y_np = y.to_numpy()\n",
    "y_np"
   ]
  },
  {
   "cell_type": "markdown",
   "metadata": {},
   "source": [
    "**6. Flatten your labels**"
   ]
  },
  {
   "cell_type": "code",
   "execution_count": 40,
   "metadata": {},
   "outputs": [
    {
     "data": {
      "text/plain": [
       "array([ 25, 184,   9, ...,  25, 125,  23], dtype=int64)"
      ]
     },
     "execution_count": 40,
     "metadata": {},
     "output_type": "execute_result"
    }
   ],
   "source": [
    "# flatten y_np\n",
    "y_np = y_np.flatten()\n",
    "y_np"
   ]
  },
  {
   "cell_type": "markdown",
   "metadata": {},
   "source": [
    "### 2. Training and Testing Sets"
   ]
  },
  {
   "cell_type": "markdown",
   "metadata": {},
   "source": [
    "**1. Create your training and testing sets.**"
   ]
  },
  {
   "cell_type": "markdown",
   "metadata": {},
   "source": [
    "**Discussion**\n",
    "\n",
    "Usually, the training and testing split can be (70%/30%) to (80%/20%). For having an imbalanced dataset, we should put more data for training to avoid overfitting. We would take the 80%/20% split."
   ]
  },
  {
   "cell_type": "code",
   "execution_count": 41,
   "metadata": {},
   "outputs": [],
   "source": [
    "# create train and test sets for X and y with 80% and 20% respectively\n",
    "X_train, X_test, y_train, y_test = train_test_split(X_np, y_np, train_size=.8, random_state=10)"
   ]
  },
  {
   "cell_type": "code",
   "execution_count": 42,
   "metadata": {},
   "outputs": [
    {
     "name": "stdout",
     "output_type": "stream",
     "text": [
      "X_train shape: (9428, 312)\n",
      "X_test shape: (2358, 312)\n",
      "y_train shape: (9428,)\n",
      "y_test shape: (2358,)\n"
     ]
    }
   ],
   "source": [
    "# print the shape of X_train, X_test, y_train, y_test\n",
    "print(f'X_train shape: {X_train.shape}')\n",
    "print(f'X_test shape: {X_test.shape}')\n",
    "print(f'y_train shape: {y_train.shape}')\n",
    "print(f'y_test shape: {y_test.shape}')"
   ]
  },
  {
   "cell_type": "markdown",
   "metadata": {},
   "source": [
    "### 3. Random Forest Classifier:"
   ]
  },
  {
   "cell_type": "markdown",
   "metadata": {},
   "source": [
    "**1. Implement a Random Forest classifier. With *max features=15*, and 25 trees.**"
   ]
  },
  {
   "cell_type": "code",
   "execution_count": 43,
   "metadata": {},
   "outputs": [],
   "source": [
    "# create a RandomForestClassifier object\n",
    "rf_clf = RandomForestClassifier(\n",
    "    n_estimators=25, \n",
    "    max_features=15, \n",
    "    random_state=10)"
   ]
  },
  {
   "cell_type": "markdown",
   "metadata": {},
   "source": [
    "**2. Train the classifier on the training data and test its performance on the testing data.**"
   ]
  },
  {
   "cell_type": "code",
   "execution_count": 44,
   "metadata": {},
   "outputs": [
    {
     "data": {
      "text/html": [
       "<style>#sk-container-id-1 {color: black;}#sk-container-id-1 pre{padding: 0;}#sk-container-id-1 div.sk-toggleable {background-color: white;}#sk-container-id-1 label.sk-toggleable__label {cursor: pointer;display: block;width: 100%;margin-bottom: 0;padding: 0.3em;box-sizing: border-box;text-align: center;}#sk-container-id-1 label.sk-toggleable__label-arrow:before {content: \"▸\";float: left;margin-right: 0.25em;color: #696969;}#sk-container-id-1 label.sk-toggleable__label-arrow:hover:before {color: black;}#sk-container-id-1 div.sk-estimator:hover label.sk-toggleable__label-arrow:before {color: black;}#sk-container-id-1 div.sk-toggleable__content {max-height: 0;max-width: 0;overflow: hidden;text-align: left;background-color: #f0f8ff;}#sk-container-id-1 div.sk-toggleable__content pre {margin: 0.2em;color: black;border-radius: 0.25em;background-color: #f0f8ff;}#sk-container-id-1 input.sk-toggleable__control:checked~div.sk-toggleable__content {max-height: 200px;max-width: 100%;overflow: auto;}#sk-container-id-1 input.sk-toggleable__control:checked~label.sk-toggleable__label-arrow:before {content: \"▾\";}#sk-container-id-1 div.sk-estimator input.sk-toggleable__control:checked~label.sk-toggleable__label {background-color: #d4ebff;}#sk-container-id-1 div.sk-label input.sk-toggleable__control:checked~label.sk-toggleable__label {background-color: #d4ebff;}#sk-container-id-1 input.sk-hidden--visually {border: 0;clip: rect(1px 1px 1px 1px);clip: rect(1px, 1px, 1px, 1px);height: 1px;margin: -1px;overflow: hidden;padding: 0;position: absolute;width: 1px;}#sk-container-id-1 div.sk-estimator {font-family: monospace;background-color: #f0f8ff;border: 1px dotted black;border-radius: 0.25em;box-sizing: border-box;margin-bottom: 0.5em;}#sk-container-id-1 div.sk-estimator:hover {background-color: #d4ebff;}#sk-container-id-1 div.sk-parallel-item::after {content: \"\";width: 100%;border-bottom: 1px solid gray;flex-grow: 1;}#sk-container-id-1 div.sk-label:hover label.sk-toggleable__label {background-color: #d4ebff;}#sk-container-id-1 div.sk-serial::before {content: \"\";position: absolute;border-left: 1px solid gray;box-sizing: border-box;top: 0;bottom: 0;left: 50%;z-index: 0;}#sk-container-id-1 div.sk-serial {display: flex;flex-direction: column;align-items: center;background-color: white;padding-right: 0.2em;padding-left: 0.2em;position: relative;}#sk-container-id-1 div.sk-item {position: relative;z-index: 1;}#sk-container-id-1 div.sk-parallel {display: flex;align-items: stretch;justify-content: center;background-color: white;position: relative;}#sk-container-id-1 div.sk-item::before, #sk-container-id-1 div.sk-parallel-item::before {content: \"\";position: absolute;border-left: 1px solid gray;box-sizing: border-box;top: 0;bottom: 0;left: 50%;z-index: -1;}#sk-container-id-1 div.sk-parallel-item {display: flex;flex-direction: column;z-index: 1;position: relative;background-color: white;}#sk-container-id-1 div.sk-parallel-item:first-child::after {align-self: flex-end;width: 50%;}#sk-container-id-1 div.sk-parallel-item:last-child::after {align-self: flex-start;width: 50%;}#sk-container-id-1 div.sk-parallel-item:only-child::after {width: 0;}#sk-container-id-1 div.sk-dashed-wrapped {border: 1px dashed gray;margin: 0 0.4em 0.5em 0.4em;box-sizing: border-box;padding-bottom: 0.4em;background-color: white;}#sk-container-id-1 div.sk-label label {font-family: monospace;font-weight: bold;display: inline-block;line-height: 1.2em;}#sk-container-id-1 div.sk-label-container {text-align: center;}#sk-container-id-1 div.sk-container {/* jupyter's `normalize.less` sets `[hidden] { display: none; }` but bootstrap.min.css set `[hidden] { display: none !important; }` so we also need the `!important` here to be able to override the default hidden behavior on the sphinx rendered scikit-learn.org. See: https://github.com/scikit-learn/scikit-learn/issues/21755 */display: inline-block !important;position: relative;}#sk-container-id-1 div.sk-text-repr-fallback {display: none;}</style><div id=\"sk-container-id-1\" class=\"sk-top-container\"><div class=\"sk-text-repr-fallback\"><pre>RandomForestClassifier(max_features=15, n_estimators=25, random_state=10)</pre><b>In a Jupyter environment, please rerun this cell to show the HTML representation or trust the notebook. <br />On GitHub, the HTML representation is unable to render, please try loading this page with nbviewer.org.</b></div><div class=\"sk-container\" hidden><div class=\"sk-item\"><div class=\"sk-estimator sk-toggleable\"><input class=\"sk-toggleable__control sk-hidden--visually\" id=\"sk-estimator-id-1\" type=\"checkbox\" checked><label for=\"sk-estimator-id-1\" class=\"sk-toggleable__label sk-toggleable__label-arrow\">RandomForestClassifier</label><div class=\"sk-toggleable__content\"><pre>RandomForestClassifier(max_features=15, n_estimators=25, random_state=10)</pre></div></div></div></div></div>"
      ],
      "text/plain": [
       "RandomForestClassifier(max_features=15, n_estimators=25, random_state=10)"
      ]
     },
     "execution_count": 44,
     "metadata": {},
     "output_type": "execute_result"
    }
   ],
   "source": [
    "# fit the model with X_train and y_train\n",
    "rf_clf.fit(X_train, y_train)"
   ]
  },
  {
   "cell_type": "code",
   "execution_count": 45,
   "metadata": {},
   "outputs": [],
   "source": [
    "# predict the labels of X_test\n",
    "y_pred_rf_clf = rf_clf.predict(X_test)"
   ]
  },
  {
   "cell_type": "markdown",
   "metadata": {},
   "source": [
    "**3. Print the training and testing accuracies. What do the scores suggest?**"
   ]
  },
  {
   "cell_type": "code",
   "execution_count": 145,
   "metadata": {},
   "outputs": [],
   "source": [
    "# setup a dictionary to save the accuracies for comparison\n",
    "comparison = dict()"
   ]
  },
  {
   "cell_type": "code",
   "execution_count": 146,
   "metadata": {},
   "outputs": [],
   "source": [
    "# save the accuracies to the dictionary for comparison\n",
    "comparison['rf_clf'] = {\n",
    "    'acc_train': rf_clf.score(X_train, y_train), \n",
    "    'acc_test': rf_clf.score(X_test, y_test)\n",
    "    }"
   ]
  },
  {
   "cell_type": "code",
   "execution_count": 151,
   "metadata": {},
   "outputs": [],
   "source": [
    "# define a function to print results fron the dictionary\n",
    "def print_results(model_name_toprint, result_dict, model_name):\n",
    "    print(f'{model_name_toprint}:')\n",
    "    print('=' * 40)\n",
    "    print(f'Training accuracy: {result_dict[model_name][\"acc_train\"]:.6f}')\n",
    "    print(f'Testing accuracy: {result_dict[model_name][\"acc_test\"]:.6f}')"
   ]
  },
  {
   "cell_type": "code",
   "execution_count": 152,
   "metadata": {},
   "outputs": [
    {
     "name": "stdout",
     "output_type": "stream",
     "text": [
      "Random Forest Classifier:\n",
      "========================================\n",
      "Training accuracy: 0.998303\n",
      "Testing accuracy: 0.367260\n"
     ]
    }
   ],
   "source": [
    "print_results('Random Forest Classifier', comparison, 'rf_clf')"
   ]
  },
  {
   "cell_type": "markdown",
   "metadata": {},
   "source": [
    "**Discussion:**\n",
    "1. Training accuracy is much higher than Testing accuracy. The model is overfitted."
   ]
  },
  {
   "cell_type": "markdown",
   "metadata": {},
   "source": [
    "### 4. Confusion Matrix:"
   ]
  },
  {
   "cell_type": "markdown",
   "metadata": {},
   "source": [
    "**1. Generate a confusion matrix for the Random Forest classifier's predictions on the test data.**"
   ]
  },
  {
   "cell_type": "code",
   "execution_count": 49,
   "metadata": {},
   "outputs": [],
   "source": [
    "# create a confusion matrix\n",
    "cm = confusion_matrix(y_test, y_pred_rf_clf)"
   ]
  },
  {
   "cell_type": "markdown",
   "metadata": {},
   "source": [
    "**2. Visualize this matrix (you may need to implement or use a utility function for visualization).**"
   ]
  },
  {
   "cell_type": "code",
   "execution_count": 50,
   "metadata": {},
   "outputs": [
    {
     "data": {
      "image/png": "[encoded data removed]",
      "text/plain": [
       "<Figure size 1200x1200 with 2 Axes>"
      ]
     },
     "metadata": {},
     "output_type": "display_data"
    }
   ],
   "source": [
    "# display the confusion matrix with matplotlib\n",
    "plt.figure(figsize=(12, 12))\n",
    "\n",
    "plt.imshow(cm, cmap=plt.cm.tab10, interpolation='none')\n",
    "\n",
    "plt.title('Confusion Matrix')\n",
    "plt.xlabel('Predicted labels')\n",
    "plt.ylabel('True labels')\n",
    "\n",
    "ticks = np.linspace(0, 199, num=50, dtype=np.int32)\n",
    "plt.xticks(ticks=ticks, fontsize=5)\n",
    "plt.yticks(ticks=ticks, fontsize=5)\n",
    "\n",
    "plt.colorbar()\n",
    "\n",
    "plt.show()"
   ]
  },
  {
   "cell_type": "markdown",
   "metadata": {},
   "source": [
    "**Discussion**\n",
    "\n",
    "From the Confustion Matrix, we can see that many dots are along the diagonal line, which means that those predictions are correct. "
   ]
  },
  {
   "cell_type": "markdown",
   "metadata": {},
   "source": [
    "### 5. Model Comparisons:"
   ]
  },
  {
   "cell_type": "markdown",
   "metadata": {},
   "source": [
    "#### 5.1 KNN:"
   ]
  },
  {
   "cell_type": "markdown",
   "metadata": {},
   "source": [
    "**1. Implement a K-Nearest Neighbors (KNN) classifier.**"
   ]
  },
  {
   "cell_type": "code",
   "execution_count": 51,
   "metadata": {},
   "outputs": [],
   "source": [
    "# create a KNeighborsClassifier object with default parameters\n",
    "knn_clf = KNeighborsClassifier()"
   ]
  },
  {
   "cell_type": "markdown",
   "metadata": {},
   "source": [
    "**2. Train and test the KNN model.**"
   ]
  },
  {
   "cell_type": "code",
   "execution_count": 52,
   "metadata": {},
   "outputs": [
    {
     "data": {
      "text/html": [
       "<style>#sk-container-id-2 {color: black;}#sk-container-id-2 pre{padding: 0;}#sk-container-id-2 div.sk-toggleable {background-color: white;}#sk-container-id-2 label.sk-toggleable__label {cursor: pointer;display: block;width: 100%;margin-bottom: 0;padding: 0.3em;box-sizing: border-box;text-align: center;}#sk-container-id-2 label.sk-toggleable__label-arrow:before {content: \"▸\";float: left;margin-right: 0.25em;color: #696969;}#sk-container-id-2 label.sk-toggleable__label-arrow:hover:before {color: black;}#sk-container-id-2 div.sk-estimator:hover label.sk-toggleable__label-arrow:before {color: black;}#sk-container-id-2 div.sk-toggleable__content {max-height: 0;max-width: 0;overflow: hidden;text-align: left;background-color: #f0f8ff;}#sk-container-id-2 div.sk-toggleable__content pre {margin: 0.2em;color: black;border-radius: 0.25em;background-color: #f0f8ff;}#sk-container-id-2 input.sk-toggleable__control:checked~div.sk-toggleable__content {max-height: 200px;max-width: 100%;overflow: auto;}#sk-container-id-2 input.sk-toggleable__control:checked~label.sk-toggleable__label-arrow:before {content: \"▾\";}#sk-container-id-2 div.sk-estimator input.sk-toggleable__control:checked~label.sk-toggleable__label {background-color: #d4ebff;}#sk-container-id-2 div.sk-label input.sk-toggleable__control:checked~label.sk-toggleable__label {background-color: #d4ebff;}#sk-container-id-2 input.sk-hidden--visually {border: 0;clip: rect(1px 1px 1px 1px);clip: rect(1px, 1px, 1px, 1px);height: 1px;margin: -1px;overflow: hidden;padding: 0;position: absolute;width: 1px;}#sk-container-id-2 div.sk-estimator {font-family: monospace;background-color: #f0f8ff;border: 1px dotted black;border-radius: 0.25em;box-sizing: border-box;margin-bottom: 0.5em;}#sk-container-id-2 div.sk-estimator:hover {background-color: #d4ebff;}#sk-container-id-2 div.sk-parallel-item::after {content: \"\";width: 100%;border-bottom: 1px solid gray;flex-grow: 1;}#sk-container-id-2 div.sk-label:hover label.sk-toggleable__label {background-color: #d4ebff;}#sk-container-id-2 div.sk-serial::before {content: \"\";position: absolute;border-left: 1px solid gray;box-sizing: border-box;top: 0;bottom: 0;left: 50%;z-index: 0;}#sk-container-id-2 div.sk-serial {display: flex;flex-direction: column;align-items: center;background-color: white;padding-right: 0.2em;padding-left: 0.2em;position: relative;}#sk-container-id-2 div.sk-item {position: relative;z-index: 1;}#sk-container-id-2 div.sk-parallel {display: flex;align-items: stretch;justify-content: center;background-color: white;position: relative;}#sk-container-id-2 div.sk-item::before, #sk-container-id-2 div.sk-parallel-item::before {content: \"\";position: absolute;border-left: 1px solid gray;box-sizing: border-box;top: 0;bottom: 0;left: 50%;z-index: -1;}#sk-container-id-2 div.sk-parallel-item {display: flex;flex-direction: column;z-index: 1;position: relative;background-color: white;}#sk-container-id-2 div.sk-parallel-item:first-child::after {align-self: flex-end;width: 50%;}#sk-container-id-2 div.sk-parallel-item:last-child::after {align-self: flex-start;width: 50%;}#sk-container-id-2 div.sk-parallel-item:only-child::after {width: 0;}#sk-container-id-2 div.sk-dashed-wrapped {border: 1px dashed gray;margin: 0 0.4em 0.5em 0.4em;box-sizing: border-box;padding-bottom: 0.4em;background-color: white;}#sk-container-id-2 div.sk-label label {font-family: monospace;font-weight: bold;display: inline-block;line-height: 1.2em;}#sk-container-id-2 div.sk-label-container {text-align: center;}#sk-container-id-2 div.sk-container {/* jupyter's `normalize.less` sets `[hidden] { display: none; }` but bootstrap.min.css set `[hidden] { display: none !important; }` so we also need the `!important` here to be able to override the default hidden behavior on the sphinx rendered scikit-learn.org. See: https://github.com/scikit-learn/scikit-learn/issues/21755 */display: inline-block !important;position: relative;}#sk-container-id-2 div.sk-text-repr-fallback {display: none;}</style><div id=\"sk-container-id-2\" class=\"sk-top-container\"><div class=\"sk-text-repr-fallback\"><pre>KNeighborsClassifier()</pre><b>In a Jupyter environment, please rerun this cell to show the HTML representation or trust the notebook. <br />On GitHub, the HTML representation is unable to render, please try loading this page with nbviewer.org.</b></div><div class=\"sk-container\" hidden><div class=\"sk-item\"><div class=\"sk-estimator sk-toggleable\"><input class=\"sk-toggleable__control sk-hidden--visually\" id=\"sk-estimator-id-2\" type=\"checkbox\" checked><label for=\"sk-estimator-id-2\" class=\"sk-toggleable__label sk-toggleable__label-arrow\">KNeighborsClassifier</label><div class=\"sk-toggleable__content\"><pre>KNeighborsClassifier()</pre></div></div></div></div></div>"
      ],
      "text/plain": [
       "KNeighborsClassifier()"
      ]
     },
     "execution_count": 52,
     "metadata": {},
     "output_type": "execute_result"
    }
   ],
   "source": [
    "# fit the model with X_train and y_train\n",
    "knn_clf.fit(X_train, y_train)"
   ]
  },
  {
   "cell_type": "code",
   "execution_count": 53,
   "metadata": {},
   "outputs": [],
   "source": [
    "# predict the labels of X_test\n",
    "y_pred_knn_clf = knn_clf.predict(X_test)"
   ]
  },
  {
   "cell_type": "markdown",
   "metadata": {},
   "source": [
    "**3. Output the test results.**"
   ]
  },
  {
   "cell_type": "code",
   "execution_count": 153,
   "metadata": {},
   "outputs": [],
   "source": [
    "# save the accuracies to the comparison dictionary\n",
    "comparison['knn_clf'] = {\n",
    "    'acc_train': knn_clf.score(X_train, y_train), \n",
    "    'acc_test': knn_clf.score(X_test, y_test)}"
   ]
  },
  {
   "cell_type": "code",
   "execution_count": 154,
   "metadata": {},
   "outputs": [
    {
     "name": "stdout",
     "output_type": "stream",
     "text": [
      "KNN Classifier:\n",
      "========================================\n",
      "Training accuracy: 0.532669\n",
      "Testing accuracy: 0.303647\n"
     ]
    }
   ],
   "source": [
    "# print the results\n",
    "print_results('KNN Classifier', comparison, 'knn_clf')"
   ]
  },
  {
   "cell_type": "markdown",
   "metadata": {},
   "source": [
    "#### 5.2 Decision Tree:"
   ]
  },
  {
   "cell_type": "markdown",
   "metadata": {},
   "source": [
    "**1. Implement a Decision Tree classifier.**"
   ]
  },
  {
   "cell_type": "code",
   "execution_count": 56,
   "metadata": {},
   "outputs": [],
   "source": [
    "# create a DecisionTreeClassifier object\n",
    "dt_clf = DecisionTreeClassifier(random_state=10)"
   ]
  },
  {
   "cell_type": "markdown",
   "metadata": {},
   "source": [
    "**2. Train and test the Decision Tree model.**"
   ]
  },
  {
   "cell_type": "code",
   "execution_count": 57,
   "metadata": {},
   "outputs": [
    {
     "data": {
      "text/html": [
       "<style>#sk-container-id-3 {color: black;}#sk-container-id-3 pre{padding: 0;}#sk-container-id-3 div.sk-toggleable {background-color: white;}#sk-container-id-3 label.sk-toggleable__label {cursor: pointer;display: block;width: 100%;margin-bottom: 0;padding: 0.3em;box-sizing: border-box;text-align: center;}#sk-container-id-3 label.sk-toggleable__label-arrow:before {content: \"▸\";float: left;margin-right: 0.25em;color: #696969;}#sk-container-id-3 label.sk-toggleable__label-arrow:hover:before {color: black;}#sk-container-id-3 div.sk-estimator:hover label.sk-toggleable__label-arrow:before {color: black;}#sk-container-id-3 div.sk-toggleable__content {max-height: 0;max-width: 0;overflow: hidden;text-align: left;background-color: #f0f8ff;}#sk-container-id-3 div.sk-toggleable__content pre {margin: 0.2em;color: black;border-radius: 0.25em;background-color: #f0f8ff;}#sk-container-id-3 input.sk-toggleable__control:checked~div.sk-toggleable__content {max-height: 200px;max-width: 100%;overflow: auto;}#sk-container-id-3 input.sk-toggleable__control:checked~label.sk-toggleable__label-arrow:before {content: \"▾\";}#sk-container-id-3 div.sk-estimator input.sk-toggleable__control:checked~label.sk-toggleable__label {background-color: #d4ebff;}#sk-container-id-3 div.sk-label input.sk-toggleable__control:checked~label.sk-toggleable__label {background-color: #d4ebff;}#sk-container-id-3 input.sk-hidden--visually {border: 0;clip: rect(1px 1px 1px 1px);clip: rect(1px, 1px, 1px, 1px);height: 1px;margin: -1px;overflow: hidden;padding: 0;position: absolute;width: 1px;}#sk-container-id-3 div.sk-estimator {font-family: monospace;background-color: #f0f8ff;border: 1px dotted black;border-radius: 0.25em;box-sizing: border-box;margin-bottom: 0.5em;}#sk-container-id-3 div.sk-estimator:hover {background-color: #d4ebff;}#sk-container-id-3 div.sk-parallel-item::after {content: \"\";width: 100%;border-bottom: 1px solid gray;flex-grow: 1;}#sk-container-id-3 div.sk-label:hover label.sk-toggleable__label {background-color: #d4ebff;}#sk-container-id-3 div.sk-serial::before {content: \"\";position: absolute;border-left: 1px solid gray;box-sizing: border-box;top: 0;bottom: 0;left: 50%;z-index: 0;}#sk-container-id-3 div.sk-serial {display: flex;flex-direction: column;align-items: center;background-color: white;padding-right: 0.2em;padding-left: 0.2em;position: relative;}#sk-container-id-3 div.sk-item {position: relative;z-index: 1;}#sk-container-id-3 div.sk-parallel {display: flex;align-items: stretch;justify-content: center;background-color: white;position: relative;}#sk-container-id-3 div.sk-item::before, #sk-container-id-3 div.sk-parallel-item::before {content: \"\";position: absolute;border-left: 1px solid gray;box-sizing: border-box;top: 0;bottom: 0;left: 50%;z-index: -1;}#sk-container-id-3 div.sk-parallel-item {display: flex;flex-direction: column;z-index: 1;position: relative;background-color: white;}#sk-container-id-3 div.sk-parallel-item:first-child::after {align-self: flex-end;width: 50%;}#sk-container-id-3 div.sk-parallel-item:last-child::after {align-self: flex-start;width: 50%;}#sk-container-id-3 div.sk-parallel-item:only-child::after {width: 0;}#sk-container-id-3 div.sk-dashed-wrapped {border: 1px dashed gray;margin: 0 0.4em 0.5em 0.4em;box-sizing: border-box;padding-bottom: 0.4em;background-color: white;}#sk-container-id-3 div.sk-label label {font-family: monospace;font-weight: bold;display: inline-block;line-height: 1.2em;}#sk-container-id-3 div.sk-label-container {text-align: center;}#sk-container-id-3 div.sk-container {/* jupyter's `normalize.less` sets `[hidden] { display: none; }` but bootstrap.min.css set `[hidden] { display: none !important; }` so we also need the `!important` here to be able to override the default hidden behavior on the sphinx rendered scikit-learn.org. See: https://github.com/scikit-learn/scikit-learn/issues/21755 */display: inline-block !important;position: relative;}#sk-container-id-3 div.sk-text-repr-fallback {display: none;}</style><div id=\"sk-container-id-3\" class=\"sk-top-container\"><div class=\"sk-text-repr-fallback\"><pre>DecisionTreeClassifier(random_state=10)</pre><b>In a Jupyter environment, please rerun this cell to show the HTML representation or trust the notebook. <br />On GitHub, the HTML representation is unable to render, please try loading this page with nbviewer.org.</b></div><div class=\"sk-container\" hidden><div class=\"sk-item\"><div class=\"sk-estimator sk-toggleable\"><input class=\"sk-toggleable__control sk-hidden--visually\" id=\"sk-estimator-id-3\" type=\"checkbox\" checked><label for=\"sk-estimator-id-3\" class=\"sk-toggleable__label sk-toggleable__label-arrow\">DecisionTreeClassifier</label><div class=\"sk-toggleable__content\"><pre>DecisionTreeClassifier(random_state=10)</pre></div></div></div></div></div>"
      ],
      "text/plain": [
       "DecisionTreeClassifier(random_state=10)"
      ]
     },
     "execution_count": 57,
     "metadata": {},
     "output_type": "execute_result"
    }
   ],
   "source": [
    "# fit the model with X_train and y_train\n",
    "dt_clf.fit(X_train, y_train)"
   ]
  },
  {
   "cell_type": "code",
   "execution_count": 58,
   "metadata": {},
   "outputs": [],
   "source": [
    "# predict the labels of X_test\n",
    "y_pred_dt_clf = dt_clf.predict(X_test)"
   ]
  },
  {
   "cell_type": "markdown",
   "metadata": {},
   "source": [
    "**3. Output the test results.**"
   ]
  },
  {
   "cell_type": "code",
   "execution_count": 155,
   "metadata": {},
   "outputs": [],
   "source": [
    "# save the accuracies to the comparison dictionary\n",
    "comparison['dt_clf'] = {\n",
    "    'acc_train': dt_clf.score(X_train, y_train), \n",
    "    'acc_test': dt_clf.score(X_test, y_test)}"
   ]
  },
  {
   "cell_type": "code",
   "execution_count": 156,
   "metadata": {},
   "outputs": [
    {
     "name": "stdout",
     "output_type": "stream",
     "text": [
      "Decision Tree Classifier:\n",
      "========================================\n",
      "Training accuracy: 0.998409\n",
      "Testing accuracy: 0.278626\n"
     ]
    }
   ],
   "source": [
    "# print the results\n",
    "print_results('Decision Tree Classifier', comparison, 'dt_clf')"
   ]
  },
  {
   "cell_type": "markdown",
   "metadata": {},
   "source": [
    "#### 5.3 Compare the performance of the Random Forest, KNN, and Decision Tree models and report their accuracies."
   ]
  },
  {
   "cell_type": "code",
   "execution_count": 157,
   "metadata": {},
   "outputs": [
    {
     "name": "stdout",
     "output_type": "stream",
     "text": [
      "+---------+--------------------+---------------------+\n",
      "|  Model  | Training Accuracy  |   Testing Accuracy  |\n",
      "+---------+--------------------+---------------------+\n",
      "|  rf_clf | 0.9983029274501485 |  0.3672603901611535 |\n",
      "| knn_clf | 0.5326686465846415 | 0.30364715860899066 |\n",
      "|  dt_clf | 0.9984089944845143 |  0.2786259541984733 |\n",
      "+---------+--------------------+---------------------+\n"
     ]
    }
   ],
   "source": [
    "# create a PrettyTable object\n",
    "pt = PrettyTable()\n",
    "\n",
    "# add the column names\n",
    "pt.field_names = ['Model', 'Training Accuracy', 'Testing Accuracy']\n",
    "\n",
    "# add the values to the table\n",
    "for k, v in comparison.items():\n",
    "    pt.add_row([k, v['acc_train'], v['acc_test']])\n",
    "\n",
    "print(pt)"
   ]
  },
  {
   "cell_type": "markdown",
   "metadata": {},
   "source": [
    "**Discussion**\n",
    "\n",
    "1. The K-nearest Neighbour (knn) model and the Decision Tree (dt) model are implemented using the default parameters. \n",
    "2. The knn model performs unsatisfactorily with the training accuracy only at 0.53.\n",
    "3. Random Forest (rf) model and the dt model perform very well in Training. They both achieved an accuracy of more than 0.998.\n",
    "4. For all 3 models, the training accuracy is much higher than the testing accuracy. It implies they are overfitted. They are not good at classifying new data. \n",
    "5. We should find alternative algorithm for this classification problem."
   ]
  },
  {
   "cell_type": "markdown",
   "metadata": {},
   "source": [
    "### 6. Cross-Validation:"
   ]
  },
  {
   "cell_type": "markdown",
   "metadata": {},
   "source": [
    "**1. Perform 5-fold cross-validation on the Random Forest, KNN, and Decision Tree models.**"
   ]
  },
  {
   "cell_type": "markdown",
   "metadata": {},
   "source": [
    "**Discussion**\n",
    "\n",
    "Since the dataset is imbalanced, we should use stratified K-fold for cross validation."
   ]
  },
  {
   "cell_type": "code",
   "execution_count": 158,
   "metadata": {},
   "outputs": [],
   "source": [
    "# set up cross validation with 5 folds in a stratified manner\n",
    "cv_skf = StratifiedKFold(n_splits=5, shuffle=True, random_state=10)"
   ]
  },
  {
   "cell_type": "code",
   "execution_count": 159,
   "metadata": {},
   "outputs": [],
   "source": [
    "# perform 5-fold cross validation on the random forest classifier\n",
    "rf_scores = cross_val_score(rf_clf, X_np, y_np, cv=cv_skf)\n",
    "\n",
    "# save the scores to the comparison dictionary\n",
    "comparison['rf_clf']['5-fold_scores'] = rf_scores"
   ]
  },
  {
   "cell_type": "code",
   "execution_count": 160,
   "metadata": {},
   "outputs": [],
   "source": [
    "# perform 5-fold cross validation on the knn classifier\n",
    "knn_scores = cross_val_score(knn_clf, X_np, y_np, cv=cv_skf)\n",
    "\n",
    "# save the scores to the comparison dictionary\n",
    "comparison['knn_clf']['5-fold_scores'] = knn_scores"
   ]
  },
  {
   "cell_type": "code",
   "execution_count": 161,
   "metadata": {},
   "outputs": [],
   "source": [
    "# perform 5-fold cross validation on the dt classifier\n",
    "dt_scores = cross_val_score(dt_clf, X_np, y_np, cv=cv_skf)\n",
    "\n",
    "# save the scores to the comparison dictionary\n",
    "comparison['dt_clf']['5-fold_scores'] = dt_scores"
   ]
  },
  {
   "cell_type": "markdown",
   "metadata": {},
   "source": [
    "**2. Print the average accuracy and standard deviation for all three models.**"
   ]
  },
  {
   "cell_type": "code",
   "execution_count": 162,
   "metadata": {},
   "outputs": [
    {
     "name": "stdout",
     "output_type": "stream",
     "text": [
      "+---------+--------------------+---------------------+--------------------------------------+------------------------------------+\n",
      "|  Model  | Training Accuracy  |   Testing Accuracy  | Stratified 5-fold Accuracy (Average) | Stratified 5-fold Accuracy Std Dev |\n",
      "+---------+--------------------+---------------------+--------------------------------------+------------------------------------+\n",
      "|  rf_clf | 0.9983029274501485 |  0.3672603901611535 |          0.4052258391170905          |        0.008354016810558482        |\n",
      "| knn_clf | 0.5326686465846415 | 0.30364715860899066 |          0.3258095370727226          |        0.009426081103632184        |\n",
      "|  dt_clf | 0.9984089944845143 |  0.2786259541984733 |          0.2791442882317231          |        0.013298848564163227        |\n",
      "+---------+--------------------+---------------------+--------------------------------------+------------------------------------+\n"
     ]
    }
   ],
   "source": [
    "# add columns to the PrettyTable object\n",
    "pt.add_column('Stratified 5-fold Accuracy (Average)', \n",
    "              [v['5-fold_scores'].mean() for k, v in comparison.items()])\n",
    "pt.add_column('Stratified 5-fold Accuracy Std Dev', \n",
    "              [v['5-fold_scores'].std() for k, v in comparison.items()])\n",
    "\n",
    "print(pt)"
   ]
  },
  {
   "cell_type": "markdown",
   "metadata": {},
   "source": [
    "**Discussion**\n",
    "1. With stratified 5-fold cross validation, the best model is random forest with average accuracy at 0.405226 +/- 0.008354 (mean +/- 1 s.d.)."
   ]
  },
  {
   "cell_type": "markdown",
   "metadata": {},
   "source": [
    "### 7. Hyperparameter Tuning:"
   ]
  },
  {
   "cell_type": "markdown",
   "metadata": {},
   "source": [
    "**1. For the Random Forest classifier, experiment with different values of *max_features* (range: 5 to 50 in steps of 5) and *n_estimators* (range: 10 to 200 in steps of 10). Note: you may use *GridSearchCV*.(this can take a while you can shorten the search if you run into memory problems)**"
   ]
  },
  {
   "cell_type": "code",
   "execution_count": 67,
   "metadata": {},
   "outputs": [],
   "source": [
    "# set up the parameters\n",
    "max_features_v = np.arange(5, 50, 5)\n",
    "n_estimators_v = np.arange(10, 200, 10)"
   ]
  },
  {
   "cell_type": "code",
   "execution_count": 68,
   "metadata": {},
   "outputs": [],
   "source": [
    "# create a dictionary of parameters\n",
    "param_grid = {\n",
    "    'max_features': max_features_v,\n",
    "    'n_estimators': n_estimators_v\n",
    "}"
   ]
  },
  {
   "cell_type": "code",
   "execution_count": 69,
   "metadata": {},
   "outputs": [],
   "source": [
    "# create the cross validation object\n",
    "cv = KFold(n_splits=5, shuffle=True, random_state=10)"
   ]
  },
  {
   "cell_type": "code",
   "execution_count": 70,
   "metadata": {},
   "outputs": [],
   "source": [
    "# create a GridSearchCV object\n",
    "grid_search = GridSearchCV(\n",
    "    estimator=rf_clf, \n",
    "    param_grid=param_grid,\n",
    "    cv=cv,\n",
    "    verbose=1)"
   ]
  },
  {
   "cell_type": "code",
   "execution_count": 71,
   "metadata": {},
   "outputs": [
    {
     "name": "stdout",
     "output_type": "stream",
     "text": [
      "Fitting 5 folds for each of 171 candidates, totalling 855 fits\n"
     ]
    },
    {
     "data": {
      "text/html": [
       "<style>#sk-container-id-4 {color: black;}#sk-container-id-4 pre{padding: 0;}#sk-container-id-4 div.sk-toggleable {background-color: white;}#sk-container-id-4 label.sk-toggleable__label {cursor: pointer;display: block;width: 100%;margin-bottom: 0;padding: 0.3em;box-sizing: border-box;text-align: center;}#sk-container-id-4 label.sk-toggleable__label-arrow:before {content: \"▸\";float: left;margin-right: 0.25em;color: #696969;}#sk-container-id-4 label.sk-toggleable__label-arrow:hover:before {color: black;}#sk-container-id-4 div.sk-estimator:hover label.sk-toggleable__label-arrow:before {color: black;}#sk-container-id-4 div.sk-toggleable__content {max-height: 0;max-width: 0;overflow: hidden;text-align: left;background-color: #f0f8ff;}#sk-container-id-4 div.sk-toggleable__content pre {margin: 0.2em;color: black;border-radius: 0.25em;background-color: #f0f8ff;}#sk-container-id-4 input.sk-toggleable__control:checked~div.sk-toggleable__content {max-height: 200px;max-width: 100%;overflow: auto;}#sk-container-id-4 input.sk-toggleable__control:checked~label.sk-toggleable__label-arrow:before {content: \"▾\";}#sk-container-id-4 div.sk-estimator input.sk-toggleable__control:checked~label.sk-toggleable__label {background-color: #d4ebff;}#sk-container-id-4 div.sk-label input.sk-toggleable__control:checked~label.sk-toggleable__label {background-color: #d4ebff;}#sk-container-id-4 input.sk-hidden--visually {border: 0;clip: rect(1px 1px 1px 1px);clip: rect(1px, 1px, 1px, 1px);height: 1px;margin: -1px;overflow: hidden;padding: 0;position: absolute;width: 1px;}#sk-container-id-4 div.sk-estimator {font-family: monospace;background-color: #f0f8ff;border: 1px dotted black;border-radius: 0.25em;box-sizing: border-box;margin-bottom: 0.5em;}#sk-container-id-4 div.sk-estimator:hover {background-color: #d4ebff;}#sk-container-id-4 div.sk-parallel-item::after {content: \"\";width: 100%;border-bottom: 1px solid gray;flex-grow: 1;}#sk-container-id-4 div.sk-label:hover label.sk-toggleable__label {background-color: #d4ebff;}#sk-container-id-4 div.sk-serial::before {content: \"\";position: absolute;border-left: 1px solid gray;box-sizing: border-box;top: 0;bottom: 0;left: 50%;z-index: 0;}#sk-container-id-4 div.sk-serial {display: flex;flex-direction: column;align-items: center;background-color: white;padding-right: 0.2em;padding-left: 0.2em;position: relative;}#sk-container-id-4 div.sk-item {position: relative;z-index: 1;}#sk-container-id-4 div.sk-parallel {display: flex;align-items: stretch;justify-content: center;background-color: white;position: relative;}#sk-container-id-4 div.sk-item::before, #sk-container-id-4 div.sk-parallel-item::before {content: \"\";position: absolute;border-left: 1px solid gray;box-sizing: border-box;top: 0;bottom: 0;left: 50%;z-index: -1;}#sk-container-id-4 div.sk-parallel-item {display: flex;flex-direction: column;z-index: 1;position: relative;background-color: white;}#sk-container-id-4 div.sk-parallel-item:first-child::after {align-self: flex-end;width: 50%;}#sk-container-id-4 div.sk-parallel-item:last-child::after {align-self: flex-start;width: 50%;}#sk-container-id-4 div.sk-parallel-item:only-child::after {width: 0;}#sk-container-id-4 div.sk-dashed-wrapped {border: 1px dashed gray;margin: 0 0.4em 0.5em 0.4em;box-sizing: border-box;padding-bottom: 0.4em;background-color: white;}#sk-container-id-4 div.sk-label label {font-family: monospace;font-weight: bold;display: inline-block;line-height: 1.2em;}#sk-container-id-4 div.sk-label-container {text-align: center;}#sk-container-id-4 div.sk-container {/* jupyter's `normalize.less` sets `[hidden] { display: none; }` but bootstrap.min.css set `[hidden] { display: none !important; }` so we also need the `!important` here to be able to override the default hidden behavior on the sphinx rendered scikit-learn.org. See: https://github.com/scikit-learn/scikit-learn/issues/21755 */display: inline-block !important;position: relative;}#sk-container-id-4 div.sk-text-repr-fallback {display: none;}</style><div id=\"sk-container-id-4\" class=\"sk-top-container\"><div class=\"sk-text-repr-fallback\"><pre>GridSearchCV(cv=KFold(n_splits=5, random_state=10, shuffle=True),\n",
       "             estimator=RandomForestClassifier(max_features=15, n_estimators=25,\n",
       "                                              random_state=10),\n",
       "             param_grid={&#x27;max_features&#x27;: array([ 5, 10, 15, 20, 25, 30, 35, 40, 45]),\n",
       "                         &#x27;n_estimators&#x27;: array([ 10,  20,  30,  40,  50,  60,  70,  80,  90, 100, 110, 120, 130,\n",
       "       140, 150, 160, 170, 180, 190])},\n",
       "             verbose=1)</pre><b>In a Jupyter environment, please rerun this cell to show the HTML representation or trust the notebook. <br />On GitHub, the HTML representation is unable to render, please try loading this page with nbviewer.org.</b></div><div class=\"sk-container\" hidden><div class=\"sk-item sk-dashed-wrapped\"><div class=\"sk-label-container\"><div class=\"sk-label sk-toggleable\"><input class=\"sk-toggleable__control sk-hidden--visually\" id=\"sk-estimator-id-4\" type=\"checkbox\" ><label for=\"sk-estimator-id-4\" class=\"sk-toggleable__label sk-toggleable__label-arrow\">GridSearchCV</label><div class=\"sk-toggleable__content\"><pre>GridSearchCV(cv=KFold(n_splits=5, random_state=10, shuffle=True),\n",
       "             estimator=RandomForestClassifier(max_features=15, n_estimators=25,\n",
       "                                              random_state=10),\n",
       "             param_grid={&#x27;max_features&#x27;: array([ 5, 10, 15, 20, 25, 30, 35, 40, 45]),\n",
       "                         &#x27;n_estimators&#x27;: array([ 10,  20,  30,  40,  50,  60,  70,  80,  90, 100, 110, 120, 130,\n",
       "       140, 150, 160, 170, 180, 190])},\n",
       "             verbose=1)</pre></div></div></div><div class=\"sk-parallel\"><div class=\"sk-parallel-item\"><div class=\"sk-item\"><div class=\"sk-label-container\"><div class=\"sk-label sk-toggleable\"><input class=\"sk-toggleable__control sk-hidden--visually\" id=\"sk-estimator-id-5\" type=\"checkbox\" ><label for=\"sk-estimator-id-5\" class=\"sk-toggleable__label sk-toggleable__label-arrow\">estimator: RandomForestClassifier</label><div class=\"sk-toggleable__content\"><pre>RandomForestClassifier(max_features=15, n_estimators=25, random_state=10)</pre></div></div></div><div class=\"sk-serial\"><div class=\"sk-item\"><div class=\"sk-estimator sk-toggleable\"><input class=\"sk-toggleable__control sk-hidden--visually\" id=\"sk-estimator-id-6\" type=\"checkbox\" ><label for=\"sk-estimator-id-6\" class=\"sk-toggleable__label sk-toggleable__label-arrow\">RandomForestClassifier</label><div class=\"sk-toggleable__content\"><pre>RandomForestClassifier(max_features=15, n_estimators=25, random_state=10)</pre></div></div></div></div></div></div></div></div></div></div>"
      ],
      "text/plain": [
       "GridSearchCV(cv=KFold(n_splits=5, random_state=10, shuffle=True),\n",
       "             estimator=RandomForestClassifier(max_features=15, n_estimators=25,\n",
       "                                              random_state=10),\n",
       "             param_grid={'max_features': array([ 5, 10, 15, 20, 25, 30, 35, 40, 45]),\n",
       "                         'n_estimators': array([ 10,  20,  30,  40,  50,  60,  70,  80,  90, 100, 110, 120, 130,\n",
       "       140, 150, 160, 170, 180, 190])},\n",
       "             verbose=1)"
      ]
     },
     "execution_count": 71,
     "metadata": {},
     "output_type": "execute_result"
    }
   ],
   "source": [
    "# fit the model with X_train and y_train\n",
    "grid_search.fit(X_train, y_train)"
   ]
  },
  {
   "cell_type": "markdown",
   "metadata": {},
   "source": [
    "**2. Output the grid search results, and indicate the best settings.**"
   ]
  },
  {
   "cell_type": "code",
   "execution_count": 72,
   "metadata": {},
   "outputs": [
    {
     "data": {
      "text/plain": [
       "{'mean_fit_time': array([ 0.41467791,  0.79651699,  1.20956855,  1.55720639,  2.06536064,\n",
       "         2.59229703,  2.96237221,  3.61044946,  4.03062429,  4.61832304,\n",
       "         5.19346867,  5.58683453,  6.16989417,  6.2468565 ,  6.58285685,\n",
       "         7.04268389,  7.88856978,  8.06177649,  8.7250773 ,  0.54138079,\n",
       "         1.13646193,  1.56139317,  2.13075175,  2.50652013,  3.02885594,\n",
       "         3.51526427,  4.01767926,  4.50916214,  5.02171879,  5.5074985 ,\n",
       "         6.01059909,  6.50679545,  7.1814332 ,  7.57816858,  7.98656306,\n",
       "         8.50088506,  9.15607314,  9.93397574,  0.53493886,  1.06417303,\n",
       "         1.60966334,  2.11397657,  2.622786  ,  3.13512225,  3.67252855,\n",
       "         4.16314993,  4.7078424 ,  5.18897266,  5.69199538,  6.06158247,\n",
       "         6.42795577,  7.19800129,  7.78388729,  7.86265497,  9.34558311,\n",
       "         9.3412066 ,  9.34018464,  0.54318528,  1.06560178,  1.59694781,\n",
       "         2.15486188,  2.70623484,  3.30692701,  3.94019089,  4.6303062 ,\n",
       "         5.22914963,  5.35105195,  5.9984292 ,  6.77722077,  7.37619333,\n",
       "         7.4444942 ,  8.11843252,  9.28125854,  9.36496143,  9.6562562 ,\n",
       "        10.74330649,  0.67237248,  1.27975187,  1.87905641,  2.43944831,\n",
       "         2.98439879,  3.58850155,  4.37254977,  4.98680501,  5.79191518,\n",
       "         6.15339956,  6.70820198,  7.65186324,  8.58881183,  8.53531437,\n",
       "         9.304282  , 10.46856141, 10.99715333, 11.78881059, 16.83607373,\n",
       "         0.93260536,  1.78475976,  2.47277002,  3.30447297,  4.09292727,\n",
       "         4.66686487,  5.54243207,  6.11236649,  6.55023165,  7.72924762,\n",
       "         8.6931314 ,  9.73995962, 12.3121788 , 12.35576649, 11.85501795,\n",
       "        12.50118775, 13.11855221, 13.98619027, 15.05787497,  0.86113729,\n",
       "         1.70404496,  2.57055779,  3.41150336,  4.23013697,  5.09132109,\n",
       "         5.92276244,  6.92965269,  7.62038727,  8.46696057,  9.32242785,\n",
       "        10.18700371, 11.17233453, 11.88340015, 12.81087365, 13.5633081 ,\n",
       "        14.71660604, 15.26342521, 16.23866272,  0.95453377,  1.86772861,\n",
       "         2.77170801,  3.70507064,  4.81269388,  5.5894733 ,  6.44646616,\n",
       "         7.37544265,  8.30288363,  9.47196307, 10.30958595, 11.95057712,\n",
       "        12.11974926, 13.00346031, 14.40812335, 15.18507595, 15.84682269,\n",
       "        16.89183149, 17.94352574,  1.01427155,  2.02265644,  2.9904428 ,\n",
       "         4.10090127,  5.02754083,  5.94982557,  7.01475029,  8.02883348,\n",
       "         8.96693521, 10.16322355, 12.85292716, 13.48301053, 12.94131107,\n",
       "        14.15066967, 15.01325397, 16.07314987, 16.83965325, 18.40993571,\n",
       "        18.90919461]),\n",
       " 'std_fit_time': array([0.02373091, 0.01318362, 0.01472391, 0.03218381, 0.12839076,\n",
       "        0.07339912, 0.09612022, 0.25909189, 0.1506115 , 0.21486375,\n",
       "        0.24199659, 0.16449336, 0.2477812 , 0.21011905, 0.03371004,\n",
       "        0.0423087 , 0.62191254, 0.10859725, 0.30225401, 0.02027   ,\n",
       "        0.1390496 , 0.0413871 , 0.18136926, 0.02107093, 0.01109817,\n",
       "        0.03265408, 0.07556231, 0.0610252 , 0.04310805, 0.05283785,\n",
       "        0.04949252, 0.06179672, 0.23432821, 0.15360789, 0.06112236,\n",
       "        0.09535089, 0.18735792, 0.42938962, 0.00881474, 0.02530092,\n",
       "        0.01319184, 0.01655481, 0.03519433, 0.03409564, 0.04104209,\n",
       "        0.01217532, 0.07306086, 0.02782436, 0.00660377, 0.1297247 ,\n",
       "        0.24058842, 0.0956013 , 0.0482662 , 0.1021059 , 0.95513754,\n",
       "        0.04835864, 0.47613896, 0.00870027, 0.0089022 , 0.01724274,\n",
       "        0.03456943, 0.01777351, 0.0277441 , 0.03990261, 0.06632677,\n",
       "        0.2612517 , 0.04655493, 0.06837967, 0.08324662, 0.17608954,\n",
       "        0.04701735, 0.10708606, 0.30925805, 0.21563356, 0.09776366,\n",
       "        0.24578249, 0.02142701, 0.00430185, 0.02109914, 0.02138502,\n",
       "        0.01202112, 0.02607365, 0.20356213, 0.07092094, 0.08910492,\n",
       "        0.07953075, 0.09167503, 0.22168823, 0.10151103, 0.19122276,\n",
       "        0.3122553 , 0.21007727, 0.47330488, 1.07751429, 1.23052487,\n",
       "        0.04871363, 0.08624178, 0.13671757, 0.10292339, 0.2475555 ,\n",
       "        0.03599819, 0.16719179, 0.05531155, 0.14278209, 0.46278032,\n",
       "        0.51955838, 0.49369087, 1.91548072, 0.84698042, 0.45657062,\n",
       "        0.23929238, 0.09497003, 0.37340095, 0.70185006, 0.00773161,\n",
       "        0.02472859, 0.03686199, 0.02432946, 0.02638541, 0.04027606,\n",
       "        0.04288702, 0.20663186, 0.03939546, 0.05322154, 0.05504883,\n",
       "        0.05991856, 0.18251256, 0.04773337, 0.1642051 , 0.09385911,\n",
       "        0.31033426, 0.09912651, 0.19897072, 0.0187739 , 0.02877379,\n",
       "        0.03041893, 0.02035419, 0.20623739, 0.01735816, 0.03099172,\n",
       "        0.05602081, 0.04903066, 0.45761259, 0.19054716, 1.17316653,\n",
       "        0.18460316, 0.18727356, 0.59476029, 0.3255506 , 0.08682365,\n",
       "        0.39353337, 0.37016058, 0.02220569, 0.04510587, 0.01487006,\n",
       "        0.1339521 , 0.06369881, 0.03483323, 0.08359425, 0.03030535,\n",
       "        0.0543598 , 0.3724259 , 1.28470796, 1.57956888, 0.06561892,\n",
       "        0.35171498, 0.14276406, 0.32582849, 0.02874066, 0.43007466,\n",
       "        0.126514  ]),\n",
       " 'mean_score_time': array([0.02769952, 0.05267091, 0.07797837, 0.09977064, 0.12753339,\n",
       "        0.15885754, 0.17940755, 0.23027573, 0.23629456, 0.29905081,\n",
       "        0.30130258, 0.33322148, 0.35214715, 0.3733572 , 0.40944757,\n",
       "        0.4370748 , 0.45735145, 0.49185128, 0.52142463, 0.02951398,\n",
       "        0.05880561, 0.08212914, 0.10238757, 0.12448773, 0.14945254,\n",
       "        0.18196487, 0.20121918, 0.22707911, 0.25321908, 0.27269025,\n",
       "        0.29867644, 0.32281795, 0.34925561, 0.38939738, 0.39463348,\n",
       "        0.4320374 , 0.44568486, 0.51154056, 0.02750354, 0.05260634,\n",
       "        0.07786899, 0.10020819, 0.12476187, 0.15903249, 0.1763905 ,\n",
       "        0.20003276, 0.22441559, 0.25183005, 0.27212472, 0.29757671,\n",
       "        0.31535625, 0.34539642, 0.3733747 , 0.3959867 , 0.45533724,\n",
       "        0.44675746, 0.4584847 , 0.02608147, 0.0482626 , 0.0726059 ,\n",
       "        0.09632425, 0.11801019, 0.1429255 , 0.16841936, 0.19558525,\n",
       "        0.23334155, 0.2387661 , 0.25894003, 0.28917704, 0.31058865,\n",
       "        0.33152118, 0.35123696, 0.38751898, 0.41202931, 0.42307558,\n",
       "        0.45040326, 0.02670178, 0.05003242, 0.07363601, 0.09829469,\n",
       "        0.11723194, 0.13931389, 0.16643128, 0.18963566, 0.21613355,\n",
       "        0.23360157, 0.26078987, 0.28781695, 0.31640005, 0.32747908,\n",
       "        0.35210834, 0.39037304, 0.41326547, 0.45425296, 0.56578283,\n",
       "        0.03166995, 0.06048555, 0.08481421, 0.10819817, 0.13146901,\n",
       "        0.15526514, 0.18192225, 0.20295506, 0.22297192, 0.2641871 ,\n",
       "        0.27610178, 0.33338041, 0.35914474, 0.39850211, 0.38372202,\n",
       "        0.40676212, 0.43007541, 0.48240042, 0.50479426, 0.0275702 ,\n",
       "        0.05286317, 0.07743421, 0.10451488, 0.12865963, 0.15182538,\n",
       "        0.17793727, 0.20103846, 0.22786808, 0.25204539, 0.2777967 ,\n",
       "        0.30085063, 0.32669382, 0.35206008, 0.37686176, 0.3989893 ,\n",
       "        0.43882012, 0.45499096, 0.50929551, 0.02858605, 0.05366302,\n",
       "        0.07821341, 0.1018528 , 0.13215213, 0.15551324, 0.17478127,\n",
       "        0.20170293, 0.22602515, 0.24883661, 0.31613026, 0.31352224,\n",
       "        0.33522239, 0.3567687 , 0.39236817, 0.43472586, 0.43874254,\n",
       "        0.46864796, 0.49943771, 0.02808394, 0.05269542, 0.08177252,\n",
       "        0.10462937, 0.12860074, 0.1514184 , 0.18432636, 0.20232759,\n",
       "        0.22888761, 0.25370817, 0.33668866, 0.30533171, 0.33172493,\n",
       "        0.37465858, 0.38256311, 0.39971724, 0.42513099, 0.49334722,\n",
       "        0.48708124]),\n",
       " 'std_score_time': array([0.00166737, 0.00205457, 0.00525914, 0.00500201, 0.01172925,\n",
       "        0.0126072 , 0.00530154, 0.02491773, 0.0135169 , 0.03294284,\n",
       "        0.01356204, 0.01158958, 0.00947332, 0.02208776, 0.01126885,\n",
       "        0.01254828, 0.01089385, 0.01956767, 0.01508344, 0.00151457,\n",
       "        0.00796212, 0.00666231, 0.00152645, 0.00082971, 0.00132022,\n",
       "        0.0162669 , 0.00237348, 0.00614888, 0.00396392, 0.00287991,\n",
       "        0.00385084, 0.00324412, 0.00696783, 0.03037787, 0.00411657,\n",
       "        0.01418102, 0.00442091, 0.08486267, 0.00061883, 0.00244206,\n",
       "        0.00194748, 0.00117175, 0.00312249, 0.01916436, 0.00358922,\n",
       "        0.00412048, 0.00079175, 0.00417164, 0.00429471, 0.00736904,\n",
       "        0.0025146 , 0.00435471, 0.00588172, 0.03210211, 0.04755954,\n",
       "        0.00872865, 0.0100555 , 0.00073938, 0.00114242, 0.00079617,\n",
       "        0.00140524, 0.00435934, 0.00232336, 0.00175317, 0.00268191,\n",
       "        0.02719581, 0.00916594, 0.00538872, 0.00787811, 0.00818125,\n",
       "        0.01794078, 0.00504243, 0.00912729, 0.0285659 , 0.00734241,\n",
       "        0.00611414, 0.00055149, 0.00049129, 0.00089393, 0.00256485,\n",
       "        0.0023169 , 0.00200976, 0.00450778, 0.00452679, 0.00328688,\n",
       "        0.00269348, 0.00200007, 0.00311595, 0.00242854, 0.00485396,\n",
       "        0.00449685, 0.01470875, 0.02921281, 0.06039135, 0.06170803,\n",
       "        0.00229993, 0.00595971, 0.0092747 , 0.00227353, 0.01070517,\n",
       "        0.00448664, 0.01031545, 0.00378789, 0.00532446, 0.03153981,\n",
       "        0.00464476, 0.03320218, 0.04702639, 0.02960379, 0.01328363,\n",
       "        0.00819991, 0.00753676, 0.04723605, 0.01543382, 0.00052818,\n",
       "        0.00032381, 0.00104033, 0.0030199 , 0.00444439, 0.00135643,\n",
       "        0.00135452, 0.00193836, 0.00455479, 0.00222677, 0.00428346,\n",
       "        0.00158286, 0.00403741, 0.00416559, 0.00278326, 0.00371512,\n",
       "        0.03405875, 0.00370719, 0.03889465, 0.00080951, 0.00138138,\n",
       "        0.00093722, 0.00049375, 0.00962038, 0.00643151, 0.00210019,\n",
       "        0.0008405 , 0.00235037, 0.00093278, 0.08276559, 0.01892695,\n",
       "        0.01177939, 0.01190937, 0.00830169, 0.01244295, 0.01258679,\n",
       "        0.01194956, 0.01515098, 0.00061667, 0.00082644, 0.00712905,\n",
       "        0.00346288, 0.0035756 , 0.00066645, 0.01525794, 0.00185847,\n",
       "        0.00258503, 0.00126617, 0.06099489, 0.00943958, 0.00628884,\n",
       "        0.03085988, 0.01671898, 0.00377835, 0.00427716, 0.07825921,\n",
       "        0.01312898]),\n",
       " 'param_max_features': masked_array(data=[5, 5, 5, 5, 5, 5, 5, 5, 5, 5, 5, 5, 5, 5, 5, 5, 5, 5,\n",
       "                    5, 10, 10, 10, 10, 10, 10, 10, 10, 10, 10, 10, 10, 10,\n",
       "                    10, 10, 10, 10, 10, 10, 15, 15, 15, 15, 15, 15, 15, 15,\n",
       "                    15, 15, 15, 15, 15, 15, 15, 15, 15, 15, 15, 20, 20, 20,\n",
       "                    20, 20, 20, 20, 20, 20, 20, 20, 20, 20, 20, 20, 20, 20,\n",
       "                    20, 20, 25, 25, 25, 25, 25, 25, 25, 25, 25, 25, 25, 25,\n",
       "                    25, 25, 25, 25, 25, 25, 25, 30, 30, 30, 30, 30, 30, 30,\n",
       "                    30, 30, 30, 30, 30, 30, 30, 30, 30, 30, 30, 30, 35, 35,\n",
       "                    35, 35, 35, 35, 35, 35, 35, 35, 35, 35, 35, 35, 35, 35,\n",
       "                    35, 35, 35, 40, 40, 40, 40, 40, 40, 40, 40, 40, 40, 40,\n",
       "                    40, 40, 40, 40, 40, 40, 40, 40, 45, 45, 45, 45, 45, 45,\n",
       "                    45, 45, 45, 45, 45, 45, 45, 45, 45, 45, 45, 45, 45],\n",
       "              mask=[False, False, False, False, False, False, False, False,\n",
       "                    False, False, False, False, False, False, False, False,\n",
       "                    False, False, False, False, False, False, False, False,\n",
       "                    False, False, False, False, False, False, False, False,\n",
       "                    False, False, False, False, False, False, False, False,\n",
       "                    False, False, False, False, False, False, False, False,\n",
       "                    False, False, False, False, False, False, False, False,\n",
       "                    False, False, False, False, False, False, False, False,\n",
       "                    False, False, False, False, False, False, False, False,\n",
       "                    False, False, False, False, False, False, False, False,\n",
       "                    False, False, False, False, False, False, False, False,\n",
       "                    False, False, False, False, False, False, False, False,\n",
       "                    False, False, False, False, False, False, False, False,\n",
       "                    False, False, False, False, False, False, False, False,\n",
       "                    False, False, False, False, False, False, False, False,\n",
       "                    False, False, False, False, False, False, False, False,\n",
       "                    False, False, False, False, False, False, False, False,\n",
       "                    False, False, False, False, False, False, False, False,\n",
       "                    False, False, False, False, False, False, False, False,\n",
       "                    False, False, False, False, False, False, False, False,\n",
       "                    False, False, False, False, False, False, False, False,\n",
       "                    False, False, False],\n",
       "        fill_value='?',\n",
       "             dtype=object),\n",
       " 'param_n_estimators': masked_array(data=[10, 20, 30, 40, 50, 60, 70, 80, 90, 100, 110, 120, 130,\n",
       "                    140, 150, 160, 170, 180, 190, 10, 20, 30, 40, 50, 60,\n",
       "                    70, 80, 90, 100, 110, 120, 130, 140, 150, 160, 170,\n",
       "                    180, 190, 10, 20, 30, 40, 50, 60, 70, 80, 90, 100, 110,\n",
       "                    120, 130, 140, 150, 160, 170, 180, 190, 10, 20, 30, 40,\n",
       "                    50, 60, 70, 80, 90, 100, 110, 120, 130, 140, 150, 160,\n",
       "                    170, 180, 190, 10, 20, 30, 40, 50, 60, 70, 80, 90, 100,\n",
       "                    110, 120, 130, 140, 150, 160, 170, 180, 190, 10, 20,\n",
       "                    30, 40, 50, 60, 70, 80, 90, 100, 110, 120, 130, 140,\n",
       "                    150, 160, 170, 180, 190, 10, 20, 30, 40, 50, 60, 70,\n",
       "                    80, 90, 100, 110, 120, 130, 140, 150, 160, 170, 180,\n",
       "                    190, 10, 20, 30, 40, 50, 60, 70, 80, 90, 100, 110, 120,\n",
       "                    130, 140, 150, 160, 170, 180, 190, 10, 20, 30, 40, 50,\n",
       "                    60, 70, 80, 90, 100, 110, 120, 130, 140, 150, 160, 170,\n",
       "                    180, 190],\n",
       "              mask=[False, False, False, False, False, False, False, False,\n",
       "                    False, False, False, False, False, False, False, False,\n",
       "                    False, False, False, False, False, False, False, False,\n",
       "                    False, False, False, False, False, False, False, False,\n",
       "                    False, False, False, False, False, False, False, False,\n",
       "                    False, False, False, False, False, False, False, False,\n",
       "                    False, False, False, False, False, False, False, False,\n",
       "                    False, False, False, False, False, False, False, False,\n",
       "                    False, False, False, False, False, False, False, False,\n",
       "                    False, False, False, False, False, False, False, False,\n",
       "                    False, False, False, False, False, False, False, False,\n",
       "                    False, False, False, False, False, False, False, False,\n",
       "                    False, False, False, False, False, False, False, False,\n",
       "                    False, False, False, False, False, False, False, False,\n",
       "                    False, False, False, False, False, False, False, False,\n",
       "                    False, False, False, False, False, False, False, False,\n",
       "                    False, False, False, False, False, False, False, False,\n",
       "                    False, False, False, False, False, False, False, False,\n",
       "                    False, False, False, False, False, False, False, False,\n",
       "                    False, False, False, False, False, False, False, False,\n",
       "                    False, False, False, False, False, False, False, False,\n",
       "                    False, False, False],\n",
       "        fill_value='?',\n",
       "             dtype=object),\n",
       " 'params': [{'max_features': 5, 'n_estimators': 10},\n",
       "  {'max_features': 5, 'n_estimators': 20},\n",
       "  {'max_features': 5, 'n_estimators': 30},\n",
       "  {'max_features': 5, 'n_estimators': 40},\n",
       "  {'max_features': 5, 'n_estimators': 50},\n",
       "  {'max_features': 5, 'n_estimators': 60},\n",
       "  {'max_features': 5, 'n_estimators': 70},\n",
       "  {'max_features': 5, 'n_estimators': 80},\n",
       "  {'max_features': 5, 'n_estimators': 90},\n",
       "  {'max_features': 5, 'n_estimators': 100},\n",
       "  {'max_features': 5, 'n_estimators': 110},\n",
       "  {'max_features': 5, 'n_estimators': 120},\n",
       "  {'max_features': 5, 'n_estimators': 130},\n",
       "  {'max_features': 5, 'n_estimators': 140},\n",
       "  {'max_features': 5, 'n_estimators': 150},\n",
       "  {'max_features': 5, 'n_estimators': 160},\n",
       "  {'max_features': 5, 'n_estimators': 170},\n",
       "  {'max_features': 5, 'n_estimators': 180},\n",
       "  {'max_features': 5, 'n_estimators': 190},\n",
       "  {'max_features': 10, 'n_estimators': 10},\n",
       "  {'max_features': 10, 'n_estimators': 20},\n",
       "  {'max_features': 10, 'n_estimators': 30},\n",
       "  {'max_features': 10, 'n_estimators': 40},\n",
       "  {'max_features': 10, 'n_estimators': 50},\n",
       "  {'max_features': 10, 'n_estimators': 60},\n",
       "  {'max_features': 10, 'n_estimators': 70},\n",
       "  {'max_features': 10, 'n_estimators': 80},\n",
       "  {'max_features': 10, 'n_estimators': 90},\n",
       "  {'max_features': 10, 'n_estimators': 100},\n",
       "  {'max_features': 10, 'n_estimators': 110},\n",
       "  {'max_features': 10, 'n_estimators': 120},\n",
       "  {'max_features': 10, 'n_estimators': 130},\n",
       "  {'max_features': 10, 'n_estimators': 140},\n",
       "  {'max_features': 10, 'n_estimators': 150},\n",
       "  {'max_features': 10, 'n_estimators': 160},\n",
       "  {'max_features': 10, 'n_estimators': 170},\n",
       "  {'max_features': 10, 'n_estimators': 180},\n",
       "  {'max_features': 10, 'n_estimators': 190},\n",
       "  {'max_features': 15, 'n_estimators': 10},\n",
       "  {'max_features': 15, 'n_estimators': 20},\n",
       "  {'max_features': 15, 'n_estimators': 30},\n",
       "  {'max_features': 15, 'n_estimators': 40},\n",
       "  {'max_features': 15, 'n_estimators': 50},\n",
       "  {'max_features': 15, 'n_estimators': 60},\n",
       "  {'max_features': 15, 'n_estimators': 70},\n",
       "  {'max_features': 15, 'n_estimators': 80},\n",
       "  {'max_features': 15, 'n_estimators': 90},\n",
       "  {'max_features': 15, 'n_estimators': 100},\n",
       "  {'max_features': 15, 'n_estimators': 110},\n",
       "  {'max_features': 15, 'n_estimators': 120},\n",
       "  {'max_features': 15, 'n_estimators': 130},\n",
       "  {'max_features': 15, 'n_estimators': 140},\n",
       "  {'max_features': 15, 'n_estimators': 150},\n",
       "  {'max_features': 15, 'n_estimators': 160},\n",
       "  {'max_features': 15, 'n_estimators': 170},\n",
       "  {'max_features': 15, 'n_estimators': 180},\n",
       "  {'max_features': 15, 'n_estimators': 190},\n",
       "  {'max_features': 20, 'n_estimators': 10},\n",
       "  {'max_features': 20, 'n_estimators': 20},\n",
       "  {'max_features': 20, 'n_estimators': 30},\n",
       "  {'max_features': 20, 'n_estimators': 40},\n",
       "  {'max_features': 20, 'n_estimators': 50},\n",
       "  {'max_features': 20, 'n_estimators': 60},\n",
       "  {'max_features': 20, 'n_estimators': 70},\n",
       "  {'max_features': 20, 'n_estimators': 80},\n",
       "  {'max_features': 20, 'n_estimators': 90},\n",
       "  {'max_features': 20, 'n_estimators': 100},\n",
       "  {'max_features': 20, 'n_estimators': 110},\n",
       "  {'max_features': 20, 'n_estimators': 120},\n",
       "  {'max_features': 20, 'n_estimators': 130},\n",
       "  {'max_features': 20, 'n_estimators': 140},\n",
       "  {'max_features': 20, 'n_estimators': 150},\n",
       "  {'max_features': 20, 'n_estimators': 160},\n",
       "  {'max_features': 20, 'n_estimators': 170},\n",
       "  {'max_features': 20, 'n_estimators': 180},\n",
       "  {'max_features': 20, 'n_estimators': 190},\n",
       "  {'max_features': 25, 'n_estimators': 10},\n",
       "  {'max_features': 25, 'n_estimators': 20},\n",
       "  {'max_features': 25, 'n_estimators': 30},\n",
       "  {'max_features': 25, 'n_estimators': 40},\n",
       "  {'max_features': 25, 'n_estimators': 50},\n",
       "  {'max_features': 25, 'n_estimators': 60},\n",
       "  {'max_features': 25, 'n_estimators': 70},\n",
       "  {'max_features': 25, 'n_estimators': 80},\n",
       "  {'max_features': 25, 'n_estimators': 90},\n",
       "  {'max_features': 25, 'n_estimators': 100},\n",
       "  {'max_features': 25, 'n_estimators': 110},\n",
       "  {'max_features': 25, 'n_estimators': 120},\n",
       "  {'max_features': 25, 'n_estimators': 130},\n",
       "  {'max_features': 25, 'n_estimators': 140},\n",
       "  {'max_features': 25, 'n_estimators': 150},\n",
       "  {'max_features': 25, 'n_estimators': 160},\n",
       "  {'max_features': 25, 'n_estimators': 170},\n",
       "  {'max_features': 25, 'n_estimators': 180},\n",
       "  {'max_features': 25, 'n_estimators': 190},\n",
       "  {'max_features': 30, 'n_estimators': 10},\n",
       "  {'max_features': 30, 'n_estimators': 20},\n",
       "  {'max_features': 30, 'n_estimators': 30},\n",
       "  {'max_features': 30, 'n_estimators': 40},\n",
       "  {'max_features': 30, 'n_estimators': 50},\n",
       "  {'max_features': 30, 'n_estimators': 60},\n",
       "  {'max_features': 30, 'n_estimators': 70},\n",
       "  {'max_features': 30, 'n_estimators': 80},\n",
       "  {'max_features': 30, 'n_estimators': 90},\n",
       "  {'max_features': 30, 'n_estimators': 100},\n",
       "  {'max_features': 30, 'n_estimators': 110},\n",
       "  {'max_features': 30, 'n_estimators': 120},\n",
       "  {'max_features': 30, 'n_estimators': 130},\n",
       "  {'max_features': 30, 'n_estimators': 140},\n",
       "  {'max_features': 30, 'n_estimators': 150},\n",
       "  {'max_features': 30, 'n_estimators': 160},\n",
       "  {'max_features': 30, 'n_estimators': 170},\n",
       "  {'max_features': 30, 'n_estimators': 180},\n",
       "  {'max_features': 30, 'n_estimators': 190},\n",
       "  {'max_features': 35, 'n_estimators': 10},\n",
       "  {'max_features': 35, 'n_estimators': 20},\n",
       "  {'max_features': 35, 'n_estimators': 30},\n",
       "  {'max_features': 35, 'n_estimators': 40},\n",
       "  {'max_features': 35, 'n_estimators': 50},\n",
       "  {'max_features': 35, 'n_estimators': 60},\n",
       "  {'max_features': 35, 'n_estimators': 70},\n",
       "  {'max_features': 35, 'n_estimators': 80},\n",
       "  {'max_features': 35, 'n_estimators': 90},\n",
       "  {'max_features': 35, 'n_estimators': 100},\n",
       "  {'max_features': 35, 'n_estimators': 110},\n",
       "  {'max_features': 35, 'n_estimators': 120},\n",
       "  {'max_features': 35, 'n_estimators': 130},\n",
       "  {'max_features': 35, 'n_estimators': 140},\n",
       "  {'max_features': 35, 'n_estimators': 150},\n",
       "  {'max_features': 35, 'n_estimators': 160},\n",
       "  {'max_features': 35, 'n_estimators': 170},\n",
       "  {'max_features': 35, 'n_estimators': 180},\n",
       "  {'max_features': 35, 'n_estimators': 190},\n",
       "  {'max_features': 40, 'n_estimators': 10},\n",
       "  {'max_features': 40, 'n_estimators': 20},\n",
       "  {'max_features': 40, 'n_estimators': 30},\n",
       "  {'max_features': 40, 'n_estimators': 40},\n",
       "  {'max_features': 40, 'n_estimators': 50},\n",
       "  {'max_features': 40, 'n_estimators': 60},\n",
       "  {'max_features': 40, 'n_estimators': 70},\n",
       "  {'max_features': 40, 'n_estimators': 80},\n",
       "  {'max_features': 40, 'n_estimators': 90},\n",
       "  {'max_features': 40, 'n_estimators': 100},\n",
       "  {'max_features': 40, 'n_estimators': 110},\n",
       "  {'max_features': 40, 'n_estimators': 120},\n",
       "  {'max_features': 40, 'n_estimators': 130},\n",
       "  {'max_features': 40, 'n_estimators': 140},\n",
       "  {'max_features': 40, 'n_estimators': 150},\n",
       "  {'max_features': 40, 'n_estimators': 160},\n",
       "  {'max_features': 40, 'n_estimators': 170},\n",
       "  {'max_features': 40, 'n_estimators': 180},\n",
       "  {'max_features': 40, 'n_estimators': 190},\n",
       "  {'max_features': 45, 'n_estimators': 10},\n",
       "  {'max_features': 45, 'n_estimators': 20},\n",
       "  {'max_features': 45, 'n_estimators': 30},\n",
       "  {'max_features': 45, 'n_estimators': 40},\n",
       "  {'max_features': 45, 'n_estimators': 50},\n",
       "  {'max_features': 45, 'n_estimators': 60},\n",
       "  {'max_features': 45, 'n_estimators': 70},\n",
       "  {'max_features': 45, 'n_estimators': 80},\n",
       "  {'max_features': 45, 'n_estimators': 90},\n",
       "  {'max_features': 45, 'n_estimators': 100},\n",
       "  {'max_features': 45, 'n_estimators': 110},\n",
       "  {'max_features': 45, 'n_estimators': 120},\n",
       "  {'max_features': 45, 'n_estimators': 130},\n",
       "  {'max_features': 45, 'n_estimators': 140},\n",
       "  {'max_features': 45, 'n_estimators': 150},\n",
       "  {'max_features': 45, 'n_estimators': 160},\n",
       "  {'max_features': 45, 'n_estimators': 170},\n",
       "  {'max_features': 45, 'n_estimators': 180},\n",
       "  {'max_features': 45, 'n_estimators': 190}],\n",
       " 'split0_test_score': array([0.25980912, 0.33191941, 0.35630965, 0.38706257, 0.4019088 ,\n",
       "        0.40933192, 0.40933192, 0.40827147, 0.42205726, 0.42788971,\n",
       "        0.42629905, 0.42629905, 0.4300106 , 0.4300106 , 0.42682927,\n",
       "        0.42735949, 0.43796394, 0.43849417, 0.44326617, 0.28897137,\n",
       "        0.35206787, 0.38176034, 0.4019088 , 0.40615058, 0.41410392,\n",
       "        0.41887593, 0.42576882, 0.42629905, 0.43319194, 0.43372216,\n",
       "        0.4300106 , 0.43266172, 0.4369035 , 0.4369035 , 0.44220573,\n",
       "        0.44061506, 0.4369035 , 0.44379639, 0.29851538, 0.35949099,\n",
       "        0.38388123, 0.38918346, 0.40615058, 0.41675504, 0.41781548,\n",
       "        0.42364793, 0.42895016, 0.43478261, 0.43372216, 0.43637328,\n",
       "        0.43849417, 0.44273595, 0.44538706, 0.44273595, 0.44538706,\n",
       "        0.44432662, 0.44644751, 0.30646872, 0.36585366, 0.39554613,\n",
       "        0.40402969, 0.41198303, 0.42205726, 0.42948038, 0.4300106 ,\n",
       "        0.43743372, 0.43849417, 0.43955461, 0.43849417, 0.43849417,\n",
       "        0.44273595, 0.43743372, 0.43902439, 0.44379639, 0.44750795,\n",
       "        0.44644751, 0.32502651, 0.37804878, 0.39872747, 0.40668081,\n",
       "        0.42152704, 0.42205726, 0.42258749, 0.42576882, 0.42788971,\n",
       "        0.42895016, 0.43425239, 0.43160127, 0.43425239, 0.43531283,\n",
       "        0.44061506, 0.43425239, 0.43849417, 0.4369035 , 0.4416755 ,\n",
       "        0.32290562, 0.36426299, 0.39130435, 0.40296925, 0.4088017 ,\n",
       "        0.4252386 , 0.42788971, 0.43266172, 0.43054083, 0.42735949,\n",
       "        0.43531283, 0.43478261, 0.4369035 , 0.44114528, 0.43796394,\n",
       "        0.44061506, 0.44220573, 0.43849417, 0.4416755 , 0.33032874,\n",
       "        0.38016967, 0.3971368 , 0.41039236, 0.41834571, 0.41728526,\n",
       "        0.42629905, 0.42576882, 0.43107105, 0.42841994, 0.43054083,\n",
       "        0.43796394, 0.43425239, 0.43637328, 0.4416755 , 0.44008484,\n",
       "        0.4416755 , 0.44114528, 0.44008484, 0.33722163, 0.37751856,\n",
       "        0.40402969, 0.40721103, 0.41251326, 0.42364793, 0.42682927,\n",
       "        0.42629905, 0.42205726, 0.42735949, 0.42629905, 0.4300106 ,\n",
       "        0.43319194, 0.43849417, 0.43584305, 0.43849417, 0.43849417,\n",
       "        0.43955461, 0.43955461, 0.33085896, 0.378579  , 0.39819724,\n",
       "        0.40827147, 0.42417815, 0.42629905, 0.42841994, 0.42895016,\n",
       "        0.43637328, 0.43955461, 0.43531283, 0.4321315 , 0.43796394,\n",
       "        0.43478261, 0.43584305, 0.43160127, 0.43637328, 0.43319194,\n",
       "        0.43372216]),\n",
       " 'split1_test_score': array([0.2757158 , 0.35206787, 0.38600212, 0.39925769, 0.41516437,\n",
       "        0.41675504, 0.42788971, 0.43054083, 0.43902439, 0.4416755 ,\n",
       "        0.44485684, 0.45068929, 0.45440085, 0.45174973, 0.45652174,\n",
       "        0.45440085, 0.45440085, 0.45281018, 0.45387063, 0.29851538,\n",
       "        0.36002121, 0.38918346, 0.40774125, 0.42470838, 0.43425239,\n",
       "        0.4321315 , 0.4416755 , 0.44273595, 0.43955461, 0.44697773,\n",
       "        0.45068929, 0.45599152, 0.46129374, 0.46129374, 0.46394486,\n",
       "        0.46288441, 0.46553552, 0.46765642, 0.32343584, 0.37539767,\n",
       "        0.40296925, 0.41993637, 0.4300106 , 0.4321315 , 0.45068929,\n",
       "        0.45387063, 0.45652174, 0.46288441, 0.45705196, 0.46076352,\n",
       "        0.46182397, 0.46235419, 0.46182397, 0.45917285, 0.46341463,\n",
       "        0.45811241, 0.46288441, 0.32608696, 0.37910923, 0.4088017 ,\n",
       "        0.42682927, 0.43054083, 0.43266172, 0.4416755 , 0.44538706,\n",
       "        0.44962884, 0.45599152, 0.45440085, 0.45705196, 0.45864263,\n",
       "        0.45493107, 0.45599152, 0.45705196, 0.45917285, 0.45970308,\n",
       "        0.46182397, 0.3340403 , 0.39236479, 0.41410392, 0.43107105,\n",
       "        0.43743372, 0.45015907, 0.44962884, 0.45917285, 0.45440085,\n",
       "        0.45705196, 0.45387063, 0.45546129, 0.45705196, 0.45705196,\n",
       "        0.46341463, 0.46129374, 0.46235419, 0.4650053 , 0.46394486,\n",
       "        0.35153765, 0.38388123, 0.4088017 , 0.42682927, 0.44485684,\n",
       "        0.44697773, 0.44644751, 0.44114528, 0.44750795, 0.45281018,\n",
       "        0.45811241, 0.45546129, 0.45917285, 0.4602333 , 0.45917285,\n",
       "        0.45917285, 0.45705196, 0.46129374, 0.45864263, 0.35790032,\n",
       "        0.40721103, 0.42417815, 0.43902439, 0.43902439, 0.44114528,\n",
       "        0.44644751, 0.45440085, 0.45546129, 0.45599152, 0.4650053 ,\n",
       "        0.46765642, 0.4650053 , 0.46553552, 0.46235419, 0.46288441,\n",
       "        0.46394486, 0.46553552, 0.46659597, 0.34040297, 0.39236479,\n",
       "        0.41410392, 0.42470838, 0.44061506, 0.44750795, 0.44750795,\n",
       "        0.44750795, 0.45281018, 0.45493107, 0.45387063, 0.45546129,\n",
       "        0.45811241, 0.45599152, 0.45864263, 0.46182397, 0.45917285,\n",
       "        0.45758218, 0.45917285, 0.35630965, 0.39501591, 0.41463415,\n",
       "        0.42205726, 0.43372216, 0.43584305, 0.44644751, 0.44220573,\n",
       "        0.44909862, 0.45068929, 0.45174973, 0.45121951, 0.45652174,\n",
       "        0.45758218, 0.45652174, 0.45917285, 0.45440085, 0.45546129,\n",
       "        0.45068929]),\n",
       " 'split2_test_score': array([0.25821845, 0.32078473, 0.35630965, 0.38441145, 0.40349947,\n",
       "        0.41198303, 0.40986214, 0.41887593, 0.41781548, 0.42099682,\n",
       "        0.42735949, 0.4321315 , 0.43531283, 0.4369035 , 0.43955461,\n",
       "        0.44326617, 0.44432662, 0.44485684, 0.4485684 , 0.29798515,\n",
       "        0.35683987, 0.38282078, 0.39766702, 0.41251326, 0.41993637,\n",
       "        0.4204666 , 0.43107105, 0.44114528, 0.44326617, 0.44962884,\n",
       "        0.44697773, 0.44644751, 0.44644751, 0.45068929, 0.4533404 ,\n",
       "        0.45705196, 0.45705196, 0.46129374, 0.32343584, 0.36267232,\n",
       "        0.38918346, 0.40349947, 0.42576882, 0.42735949, 0.4300106 ,\n",
       "        0.43531283, 0.43743372, 0.44114528, 0.44326617, 0.44485684,\n",
       "        0.44803818, 0.4533404 , 0.45493107, 0.45068929, 0.45705196,\n",
       "        0.4602333 , 0.46341463, 0.31654295, 0.36744433, 0.39077413,\n",
       "        0.40349947, 0.41622481, 0.42629905, 0.43743372, 0.43796394,\n",
       "        0.44220573, 0.44114528, 0.45387063, 0.45652174, 0.46076352,\n",
       "        0.46076352, 0.46182397, 0.45546129, 0.46129374, 0.46076352,\n",
       "        0.46288441, 0.33191941, 0.38388123, 0.40243902, 0.41198303,\n",
       "        0.4300106 , 0.43425239, 0.43902439, 0.44538706, 0.45227996,\n",
       "        0.45015907, 0.45068929, 0.45227996, 0.45811241, 0.46341463,\n",
       "        0.46606575, 0.46606575, 0.4650053 , 0.46924708, 0.46659597,\n",
       "        0.34305408, 0.39766702, 0.41410392, 0.42311771, 0.4300106 ,\n",
       "        0.43531283, 0.43531283, 0.4485684 , 0.44962884, 0.44750795,\n",
       "        0.44909862, 0.45281018, 0.4533404 , 0.45811241, 0.46235419,\n",
       "        0.45864263, 0.46235419, 0.4602333 , 0.46235419, 0.33297985,\n",
       "        0.38016967, 0.40509014, 0.42576882, 0.42205726, 0.42735949,\n",
       "        0.43160127, 0.44008484, 0.44750795, 0.4485684 , 0.45387063,\n",
       "        0.45599152, 0.45015907, 0.45281018, 0.45121951, 0.45281018,\n",
       "        0.45811241, 0.45917285, 0.45493107, 0.34676564, 0.3971368 ,\n",
       "        0.4135737 , 0.42470838, 0.42576882, 0.43160127, 0.43319194,\n",
       "        0.43584305, 0.44273595, 0.44750795, 0.4485684 , 0.45068929,\n",
       "        0.45121951, 0.4533404 , 0.45227996, 0.45811241, 0.45652174,\n",
       "        0.45705196, 0.45811241, 0.34199364, 0.38123012, 0.40933192,\n",
       "        0.42576882, 0.42682927, 0.4321315 , 0.43743372, 0.44485684,\n",
       "        0.44644751, 0.44909862, 0.45121951, 0.44962884, 0.45227996,\n",
       "        0.45387063, 0.45546129, 0.45864263, 0.46076352, 0.45705196,\n",
       "        0.45546129]),\n",
       " 'split3_test_score': array([0.27851459, 0.33527851, 0.36498674, 0.37984085, 0.39681698,\n",
       "        0.41220159, 0.4127321 , 0.42122016, 0.42546419, 0.4265252 ,\n",
       "        0.43395225, 0.43554377, 0.43713528, 0.4397878 , 0.44562334,\n",
       "        0.44509284, 0.44827586, 0.44933687, 0.44880637, 0.29018568,\n",
       "        0.35172414, 0.4       , 0.41007958, 0.4265252 , 0.43713528,\n",
       "        0.44297082, 0.45039788, 0.46047745, 0.46472149, 0.46472149,\n",
       "        0.46472149, 0.46366048, 0.46312997, 0.46206897, 0.46366048,\n",
       "        0.46578249, 0.46153846, 0.45835544, 0.30344828, 0.37029178,\n",
       "        0.39893899, 0.41962865, 0.4403183 , 0.43713528, 0.44244032,\n",
       "        0.45039788, 0.44986737, 0.44721485, 0.44774536, 0.4535809 ,\n",
       "        0.45464191, 0.45782493, 0.46153846, 0.466313  , 0.46578249,\n",
       "        0.46472149, 0.46419098, 0.3193634 , 0.37082228, 0.40424403,\n",
       "        0.42175066, 0.43501326, 0.44562334, 0.44880637, 0.44774536,\n",
       "        0.44509284, 0.45092838, 0.45198939, 0.45411141, 0.45941645,\n",
       "        0.45411141, 0.45888594, 0.46366048, 0.46153846, 0.46312997,\n",
       "        0.46578249, 0.33262599, 0.38355438, 0.41220159, 0.41697613,\n",
       "        0.43342175, 0.43713528, 0.44456233, 0.44562334, 0.45464191,\n",
       "        0.45570292, 0.45888594, 0.45623342, 0.45464191, 0.45782493,\n",
       "        0.46047745, 0.46312997, 0.46419098, 0.46472149, 0.46100796,\n",
       "        0.33262599, 0.38514589, 0.39734748, 0.41114058, 0.41856764,\n",
       "        0.43183024, 0.44244032, 0.4397878 , 0.44509284, 0.44721485,\n",
       "        0.45092838, 0.45570292, 0.45570292, 0.45835544, 0.45941645,\n",
       "        0.45782493, 0.45676393, 0.46047745, 0.46100796, 0.33687003,\n",
       "        0.39469496, 0.41750663, 0.43395225, 0.43342175, 0.44509284,\n",
       "        0.44774536, 0.44509284, 0.44986737, 0.4535809 , 0.45039788,\n",
       "        0.45145889, 0.45251989, 0.45411141, 0.46047745, 0.45888594,\n",
       "        0.45941645, 0.46153846, 0.45941645, 0.35172414, 0.40318302,\n",
       "        0.42493369, 0.42387268, 0.43289125, 0.43713528, 0.44880637,\n",
       "        0.45198939, 0.4535809 , 0.45782493, 0.45464191, 0.45835544,\n",
       "        0.45888594, 0.45729443, 0.45411141, 0.4530504 , 0.45570292,\n",
       "        0.45570292, 0.45729443, 0.34482759, 0.40265252, 0.42122016,\n",
       "        0.43448276, 0.44933687, 0.44721485, 0.44933687, 0.4535809 ,\n",
       "        0.45888594, 0.46259947, 0.45994695, 0.45623342, 0.46100796,\n",
       "        0.46153846, 0.45941645, 0.45835544, 0.46100796, 0.46312997,\n",
       "        0.46472149]),\n",
       " 'split4_test_score': array([0.266313  , 0.33474801, 0.36286472, 0.39045093, 0.40265252,\n",
       "        0.40848806, 0.41167109, 0.41750663, 0.41803714, 0.42917772,\n",
       "        0.43660477, 0.43236074, 0.43766578, 0.43501326, 0.4403183 ,\n",
       "        0.44403183, 0.44403183, 0.44350133, 0.44403183, 0.28700265,\n",
       "        0.35013263, 0.3872679 , 0.40901857, 0.41485411, 0.4270557 ,\n",
       "        0.43129973, 0.43023873, 0.42864721, 0.43183024, 0.43819629,\n",
       "        0.44615385, 0.44668435, 0.44986737, 0.45039788, 0.44668435,\n",
       "        0.44774536, 0.44880637, 0.44880637, 0.29814324, 0.37241379,\n",
       "        0.39363395, 0.41485411, 0.42387268, 0.43448276, 0.42864721,\n",
       "        0.43660477, 0.43448276, 0.43925729, 0.43925729, 0.44562334,\n",
       "        0.44244032, 0.44774536, 0.44933687, 0.44933687, 0.45039788,\n",
       "        0.45039788, 0.45623342, 0.32572944, 0.37559682, 0.40212202,\n",
       "        0.42228117, 0.42493369, 0.43023873, 0.43395225, 0.43076923,\n",
       "        0.43766578, 0.4397878 , 0.44244032, 0.44562334, 0.44933687,\n",
       "        0.45198939, 0.45251989, 0.45835544, 0.45994695, 0.4535809 ,\n",
       "        0.45729443, 0.31830239, 0.37931034, 0.41061008, 0.42281167,\n",
       "        0.42175066, 0.42068966, 0.43129973, 0.43342175, 0.43501326,\n",
       "        0.43872679, 0.43713528, 0.43713528, 0.44137931, 0.44137931,\n",
       "        0.4403183 , 0.44297082, 0.44562334, 0.44562334, 0.44827586,\n",
       "        0.32732095, 0.37612732, 0.39681698, 0.40318302, 0.41644562,\n",
       "        0.42334218, 0.43129973, 0.43183024, 0.43289125, 0.43607427,\n",
       "        0.44350133, 0.44350133, 0.44668435, 0.44615385, 0.44880637,\n",
       "        0.44721485, 0.44933687, 0.44933687, 0.45198939, 0.34482759,\n",
       "        0.3867374 , 0.40636605, 0.42334218, 0.42917772, 0.43819629,\n",
       "        0.43819629, 0.44350133, 0.44615385, 0.44456233, 0.44615385,\n",
       "        0.44615385, 0.4535809 , 0.44986737, 0.45092838, 0.45570292,\n",
       "        0.45411141, 0.45092838, 0.4535809 , 0.3469496 , 0.38938992,\n",
       "        0.41061008, 0.41750663, 0.42811671, 0.43448276, 0.43448276,\n",
       "        0.43342175, 0.43819629, 0.44456233, 0.44509284, 0.44350133,\n",
       "        0.44084881, 0.44350133, 0.44615385, 0.44721485, 0.44933687,\n",
       "        0.45092838, 0.4535809 , 0.34748011, 0.39257294, 0.4132626 ,\n",
       "        0.41697613, 0.43076923, 0.43660477, 0.43819629, 0.43395225,\n",
       "        0.43819629, 0.43183024, 0.43872679, 0.44137931, 0.44350133,\n",
       "        0.44244032, 0.44297082, 0.44403183, 0.44350133, 0.44350133,\n",
       "        0.44721485]),\n",
       " 'mean_test_score': array([0.26771419, 0.33495971, 0.36529458, 0.3882047 , 0.40400843,\n",
       "        0.41175193, 0.41429739, 0.419283  , 0.42447969, 0.42925299,\n",
       "        0.43381448, 0.43540487, 0.43890507, 0.43869298, 0.44176945,\n",
       "        0.44283024, 0.44579982, 0.44579988, 0.44770868, 0.29253205,\n",
       "        0.35415714, 0.3882065 , 0.40528304, 0.41695031, 0.42649673,\n",
       "        0.42914892, 0.4358304 , 0.43986099, 0.44251289, 0.4466493 ,\n",
       "        0.44771059, 0.44908911, 0.45152842, 0.45227068, 0.45396716,\n",
       "        0.45481586, 0.45396716, 0.45598167, 0.30939571, 0.36805331,\n",
       "        0.39372138, 0.40942041, 0.4252242 , 0.42957281, 0.43392058,\n",
       "        0.43996681, 0.44145115, 0.44505689, 0.44420859, 0.44823958,\n",
       "        0.44908771, 0.45280017, 0.45460349, 0.45364959, 0.45640681,\n",
       "        0.45555834, 0.45863419, 0.31883829, 0.37176526, 0.4002976 ,\n",
       "        0.41567805, 0.42373912, 0.43137602, 0.43826965, 0.43837524,\n",
       "        0.44240538, 0.44526943, 0.44845116, 0.45036052, 0.45333073,\n",
       "        0.45290627, 0.45333101, 0.45471071, 0.45714968, 0.45693708,\n",
       "        0.45884656, 0.32838292, 0.38343191, 0.40761642, 0.41790454,\n",
       "        0.42882876, 0.43285873, 0.43742056, 0.44187477, 0.44484514,\n",
       "        0.44611818, 0.4469667 , 0.44654224, 0.4490876 , 0.45099673,\n",
       "        0.45417824, 0.45354253, 0.4551336 , 0.45630014, 0.45630003,\n",
       "        0.33548886, 0.38141689, 0.40167488, 0.41344797, 0.42373648,\n",
       "        0.43254032, 0.43667802, 0.43879869, 0.44113234, 0.44219335,\n",
       "        0.44739071, 0.44845167, 0.4503608 , 0.45280005, 0.45354276,\n",
       "        0.45269407, 0.45354253, 0.45396711, 0.45513393, 0.3405813 ,\n",
       "        0.38979655, 0.41005555, 0.426496  , 0.42840537, 0.43381583,\n",
       "        0.43805789, 0.44176973, 0.4460123 , 0.44622462, 0.4491937 ,\n",
       "        0.45184492, 0.45110351, 0.45173955, 0.45333101, 0.45407366,\n",
       "        0.45545212, 0.4556641 , 0.45492184, 0.3446128 , 0.39191862,\n",
       "        0.41345022, 0.41960142, 0.42798102, 0.43487504, 0.43816366,\n",
       "        0.43901224, 0.44187612, 0.44643716, 0.44569456, 0.44760359,\n",
       "        0.44845172, 0.44972437, 0.44940618, 0.45173916, 0.45184571,\n",
       "        0.45216401, 0.45354304, 0.34429399, 0.3900101 , 0.41132921,\n",
       "        0.42151129, 0.43296714, 0.43561864, 0.43996686, 0.44070918,\n",
       "        0.44580033, 0.44675445, 0.44739116, 0.44611852, 0.45025499,\n",
       "        0.45004284, 0.45004267, 0.4503608 , 0.45120939, 0.4504673 ,\n",
       "        0.45036182]),\n",
       " 'std_test_score': array([0.00818898, 0.01003005, 0.01092025, 0.00652474, 0.00604447,\n",
       "        0.00289123, 0.00690545, 0.00714235, 0.00780133, 0.00680865,\n",
       "        0.0067511 , 0.00820403, 0.00820735, 0.00726366, 0.0096198 ,\n",
       "        0.00871753, 0.00541859, 0.00492343, 0.00382541, 0.0047811 ,\n",
       "        0.0036896 , 0.00650355, 0.00474116, 0.0076496 , 0.00860536,\n",
       "        0.00878048, 0.00896136, 0.01220351, 0.01186204, 0.01071591,\n",
       "        0.01108597, 0.01041718, 0.00972029, 0.00916057, 0.00877814,\n",
       "        0.00940238, 0.01018302, 0.0086037 , 0.0116157 , 0.00600387,\n",
       "        0.00678492, 0.01173806, 0.01110556, 0.00716993, 0.0114564 ,\n",
       "        0.01096715, 0.01018753, 0.00976703, 0.00790986, 0.00830031,\n",
       "        0.00837346, 0.00698082, 0.00652712, 0.00821388, 0.00768077,\n",
       "        0.00728181, 0.00672419, 0.00719141, 0.00496229, 0.00639524,\n",
       "        0.00988766, 0.00859613, 0.00798182, 0.00662136, 0.00727946,\n",
       "        0.00461783, 0.00692745, 0.00620592, 0.00721188, 0.0084448 ,\n",
       "        0.00585772, 0.00852581, 0.00831249, 0.00673295, 0.00567127,\n",
       "        0.0067738 , 0.00592282, 0.00501954, 0.00596477, 0.00847744,\n",
       "        0.0063238 , 0.0108101 , 0.00959275, 0.01145833, 0.01119569,\n",
       "        0.01074353, 0.00961146, 0.01017952, 0.0095418 , 0.01073288,\n",
       "        0.01133456, 0.01259128, 0.01094476, 0.012685  , 0.00964239,\n",
       "        0.01046943, 0.01101164, 0.00842788, 0.00993036, 0.01255672,\n",
       "        0.00842082, 0.00687999, 0.00613439, 0.00785647, 0.00920504,\n",
       "        0.00763399, 0.00814937, 0.00786999, 0.00767258, 0.00904403,\n",
       "        0.0074781 , 0.0070221 , 0.00890146, 0.00761531, 0.00994636,\n",
       "        0.01021734, 0.009593  , 0.009822  , 0.00748358, 0.01014913,\n",
       "        0.00829711, 0.00930005, 0.00811964, 0.00974444, 0.01122943,\n",
       "        0.00992387, 0.0098616 , 0.00934589, 0.0074642 , 0.00775533,\n",
       "        0.00756984, 0.00868893, 0.00869967, 0.00515788, 0.00857988,\n",
       "        0.00676942, 0.00675745, 0.00925087, 0.00776683, 0.0085711 ,\n",
       "        0.00941813, 0.01152062, 0.01068126, 0.01031223, 0.01013123,\n",
       "        0.01000528, 0.00740949, 0.00787713, 0.00824548, 0.00741604,\n",
       "        0.0067275 , 0.00724326, 0.00825353, 0.00893549, 0.0076017 ,\n",
       "        0.00874693, 0.00881236, 0.0068485 , 0.00738484, 0.00859133,\n",
       "        0.00811445, 0.01045574, 0.00908029, 0.00847055, 0.00843422,\n",
       "        0.009943  , 0.00906474, 0.01097389, 0.00976733, 0.01072943,\n",
       "        0.01018915]),\n",
       " 'rank_test_score': array([171, 166, 160, 155, 147, 141, 138, 134, 129, 121, 115, 111, 100,\n",
       "        102,  92,  85,  79,  78,  64, 170, 161, 154, 146, 136, 126, 122,\n",
       "        109,  98,  86,  70,  63,  56,  41,  35,  20,  15,  20,   8, 169,\n",
       "        159, 150, 144, 128, 120, 113,  97,  93,  82,  84,  62,  57,  32,\n",
       "         17,  23,   5,  10,   2, 168, 158, 149, 137, 130, 119, 104, 103,\n",
       "         87,  81,  61,  49,  30,  31,  28,  16,   3,   4,   1, 167, 156,\n",
       "        145, 135, 123, 117, 107,  90,  83,  75,  68,  71,  58,  44,  18,\n",
       "         26,  13,   6,   7, 165, 157, 148, 140, 131, 118, 108, 101,  94,\n",
       "         88,  67,  60,  47,  33,  25,  34,  26,  22,  12, 164, 153, 143,\n",
       "        127, 124, 114, 106,  91,  76,  73,  55,  38,  43,  39,  28,  19,\n",
       "         11,   9,  14, 162, 151, 139, 133, 125, 112, 105,  99,  89,  72,\n",
       "         80,  65,  59,  53,  54,  40,  37,  36,  24, 163, 152, 142, 132,\n",
       "        116, 110,  96,  95,  77,  69,  66,  74,  50,  51,  52,  47,  42,\n",
       "         45,  46])}"
      ]
     },
     "execution_count": 72,
     "metadata": {},
     "output_type": "execute_result"
    }
   ],
   "source": [
    "# output the grid search results\n",
    "grid_search.cv_results_"
   ]
  },
  {
   "cell_type": "code",
   "execution_count": 73,
   "metadata": {},
   "outputs": [
    {
     "data": {
      "text/plain": [
       "0.45884656170976423"
      ]
     },
     "execution_count": 73,
     "metadata": {},
     "output_type": "execute_result"
    }
   ],
   "source": [
    "# print the best parameters\n",
    "grid_search.best_score_"
   ]
  },
  {
   "cell_type": "code",
   "execution_count": 74,
   "metadata": {},
   "outputs": [
    {
     "data": {
      "text/plain": [
       "{'max_features': 20, 'n_estimators': 190}"
      ]
     },
     "execution_count": 74,
     "metadata": {},
     "output_type": "execute_result"
    }
   ],
   "source": [
    "# print the best parameters\n",
    "grid_search.best_params_"
   ]
  },
  {
   "cell_type": "code",
   "execution_count": 75,
   "metadata": {},
   "outputs": [
    {
     "data": {
      "text/html": [
       "<style>#sk-container-id-5 {color: black;}#sk-container-id-5 pre{padding: 0;}#sk-container-id-5 div.sk-toggleable {background-color: white;}#sk-container-id-5 label.sk-toggleable__label {cursor: pointer;display: block;width: 100%;margin-bottom: 0;padding: 0.3em;box-sizing: border-box;text-align: center;}#sk-container-id-5 label.sk-toggleable__label-arrow:before {content: \"▸\";float: left;margin-right: 0.25em;color: #696969;}#sk-container-id-5 label.sk-toggleable__label-arrow:hover:before {color: black;}#sk-container-id-5 div.sk-estimator:hover label.sk-toggleable__label-arrow:before {color: black;}#sk-container-id-5 div.sk-toggleable__content {max-height: 0;max-width: 0;overflow: hidden;text-align: left;background-color: #f0f8ff;}#sk-container-id-5 div.sk-toggleable__content pre {margin: 0.2em;color: black;border-radius: 0.25em;background-color: #f0f8ff;}#sk-container-id-5 input.sk-toggleable__control:checked~div.sk-toggleable__content {max-height: 200px;max-width: 100%;overflow: auto;}#sk-container-id-5 input.sk-toggleable__control:checked~label.sk-toggleable__label-arrow:before {content: \"▾\";}#sk-container-id-5 div.sk-estimator input.sk-toggleable__control:checked~label.sk-toggleable__label {background-color: #d4ebff;}#sk-container-id-5 div.sk-label input.sk-toggleable__control:checked~label.sk-toggleable__label {background-color: #d4ebff;}#sk-container-id-5 input.sk-hidden--visually {border: 0;clip: rect(1px 1px 1px 1px);clip: rect(1px, 1px, 1px, 1px);height: 1px;margin: -1px;overflow: hidden;padding: 0;position: absolute;width: 1px;}#sk-container-id-5 div.sk-estimator {font-family: monospace;background-color: #f0f8ff;border: 1px dotted black;border-radius: 0.25em;box-sizing: border-box;margin-bottom: 0.5em;}#sk-container-id-5 div.sk-estimator:hover {background-color: #d4ebff;}#sk-container-id-5 div.sk-parallel-item::after {content: \"\";width: 100%;border-bottom: 1px solid gray;flex-grow: 1;}#sk-container-id-5 div.sk-label:hover label.sk-toggleable__label {background-color: #d4ebff;}#sk-container-id-5 div.sk-serial::before {content: \"\";position: absolute;border-left: 1px solid gray;box-sizing: border-box;top: 0;bottom: 0;left: 50%;z-index: 0;}#sk-container-id-5 div.sk-serial {display: flex;flex-direction: column;align-items: center;background-color: white;padding-right: 0.2em;padding-left: 0.2em;position: relative;}#sk-container-id-5 div.sk-item {position: relative;z-index: 1;}#sk-container-id-5 div.sk-parallel {display: flex;align-items: stretch;justify-content: center;background-color: white;position: relative;}#sk-container-id-5 div.sk-item::before, #sk-container-id-5 div.sk-parallel-item::before {content: \"\";position: absolute;border-left: 1px solid gray;box-sizing: border-box;top: 0;bottom: 0;left: 50%;z-index: -1;}#sk-container-id-5 div.sk-parallel-item {display: flex;flex-direction: column;z-index: 1;position: relative;background-color: white;}#sk-container-id-5 div.sk-parallel-item:first-child::after {align-self: flex-end;width: 50%;}#sk-container-id-5 div.sk-parallel-item:last-child::after {align-self: flex-start;width: 50%;}#sk-container-id-5 div.sk-parallel-item:only-child::after {width: 0;}#sk-container-id-5 div.sk-dashed-wrapped {border: 1px dashed gray;margin: 0 0.4em 0.5em 0.4em;box-sizing: border-box;padding-bottom: 0.4em;background-color: white;}#sk-container-id-5 div.sk-label label {font-family: monospace;font-weight: bold;display: inline-block;line-height: 1.2em;}#sk-container-id-5 div.sk-label-container {text-align: center;}#sk-container-id-5 div.sk-container {/* jupyter's `normalize.less` sets `[hidden] { display: none; }` but bootstrap.min.css set `[hidden] { display: none !important; }` so we also need the `!important` here to be able to override the default hidden behavior on the sphinx rendered scikit-learn.org. See: https://github.com/scikit-learn/scikit-learn/issues/21755 */display: inline-block !important;position: relative;}#sk-container-id-5 div.sk-text-repr-fallback {display: none;}</style><div id=\"sk-container-id-5\" class=\"sk-top-container\"><div class=\"sk-text-repr-fallback\"><pre>RandomForestClassifier(max_features=20, n_estimators=190, random_state=10)</pre><b>In a Jupyter environment, please rerun this cell to show the HTML representation or trust the notebook. <br />On GitHub, the HTML representation is unable to render, please try loading this page with nbviewer.org.</b></div><div class=\"sk-container\" hidden><div class=\"sk-item\"><div class=\"sk-estimator sk-toggleable\"><input class=\"sk-toggleable__control sk-hidden--visually\" id=\"sk-estimator-id-7\" type=\"checkbox\" checked><label for=\"sk-estimator-id-7\" class=\"sk-toggleable__label sk-toggleable__label-arrow\">RandomForestClassifier</label><div class=\"sk-toggleable__content\"><pre>RandomForestClassifier(max_features=20, n_estimators=190, random_state=10)</pre></div></div></div></div></div>"
      ],
      "text/plain": [
       "RandomForestClassifier(max_features=20, n_estimators=190, random_state=10)"
      ]
     },
     "execution_count": 75,
     "metadata": {},
     "output_type": "execute_result"
    }
   ],
   "source": [
    "# print the best estimator\n",
    "grid_search.best_estimator_"
   ]
  },
  {
   "cell_type": "markdown",
   "metadata": {},
   "source": [
    "**3. Visualize the results in a 3D scatter plot with the axes representing *max_features*, *n_estimators*, and *accuracy*.**"
   ]
  },
  {
   "cell_type": "code",
   "execution_count": 76,
   "metadata": {},
   "outputs": [
    {
     "data": {
      "image/png": "[encoded data removed]",
      "text/plain": [
       "<Figure size 1200x800 with 1 Axes>"
      ]
     },
     "metadata": {},
     "output_type": "display_data"
    }
   ],
   "source": [
    "# plot 3d on the grid search results: max_features, n_estimators, and accuracy\n",
    "fig = plt.figure(figsize=(12, 8))\n",
    "\n",
    "# create a 3d subplot\n",
    "ax = plt.axes(projection='3d')\n",
    "\n",
    "# create a meshgrid\n",
    "x = max_features_v\n",
    "y = n_estimators_v\n",
    "xx, yy = np.meshgrid(x, y)\n",
    "zz = grid_search.cv_results_['mean_test_score'].reshape(xx.shape)\n",
    "\n",
    "# plot the grid search results\n",
    "ax.plot_surface(xx, yy, zz, cmap='viridis', edgecolor='green', alpha=0.3)\n",
    "\n",
    "ax.set_title('Grid Search Results')\n",
    "ax.set_xlabel('max_features')\n",
    "ax.set_ylabel('n_estimators')\n",
    "ax.set_zlabel('accuracy')\n",
    "\n",
    "plt.show()"
   ]
  },
  {
   "cell_type": "markdown",
   "metadata": {},
   "source": [
    "**4. Retrain your RF with the optimized settings and perform a final test.**"
   ]
  },
  {
   "cell_type": "code",
   "execution_count": 77,
   "metadata": {},
   "outputs": [],
   "source": [
    "# create a RandomForestClassifier object with the best parameters\n",
    "rf_clf_best = RandomForestClassifier(\n",
    "    n_estimators=grid_search.best_params_['n_estimators'], \n",
    "    max_features=grid_search.best_params_['max_features'], \n",
    "    random_state=10)\n",
    "\n",
    "# fit the model with X_train and y_train\n",
    "rf_clf_best.fit(X_train, y_train)\n",
    "\n",
    "# predict the labels of X_test\n",
    "y_pred_rf_clf_best = rf_clf_best.predict(X_test)"
   ]
  },
  {
   "cell_type": "code",
   "execution_count": 245,
   "metadata": {},
   "outputs": [
    {
     "data": {
      "text/plain": [
       "['rf_clf_best.pkl']"
      ]
     },
     "execution_count": 245,
     "metadata": {},
     "output_type": "execute_result"
    }
   ],
   "source": [
    "# save the model\n",
    "joblib.dump(rf_clf_best, 'rf_clf_best.pkl')"
   ]
  },
  {
   "cell_type": "code",
   "execution_count": 163,
   "metadata": {},
   "outputs": [],
   "source": [
    "# save the accuracies to the comparison dictionary\n",
    "comparison['rf_clf_best'] = {\n",
    "    'acc_train': grid_search.best_score_, \n",
    "    'acc_test': rf_clf_best.score(X_test, y_test)}"
   ]
  },
  {
   "cell_type": "code",
   "execution_count": 164,
   "metadata": {},
   "outputs": [],
   "source": [
    "# perform 5-fold cross validation on the rf classifier with best parameters\n",
    "rf_best_scores = cross_val_score(rf_clf_best, X_np, y_np, cv=cv_skf)"
   ]
  },
  {
   "cell_type": "code",
   "execution_count": 165,
   "metadata": {},
   "outputs": [],
   "source": [
    "# save the scores to the comparison dictionary\n",
    "comparison['rf_clf_best']['5-fold_scores'] = rf_best_scores"
   ]
  },
  {
   "cell_type": "code",
   "execution_count": 166,
   "metadata": {},
   "outputs": [],
   "source": [
    "# append row to the PrettyTable object\n",
    "def append_row (pt, model_name):\n",
    "    '''\n",
    "    This function appends the results of the model to the PrettyTable object.\n",
    "    '''\n",
    "    pt.add_row([model_name, \n",
    "                comparison[model_name]['acc_train'], \n",
    "                comparison[model_name]['acc_test'], \n",
    "                comparison[model_name]['5-fold_scores'].mean(), \n",
    "                comparison[model_name]['5-fold_scores'].std()])"
   ]
  },
  {
   "cell_type": "code",
   "execution_count": 167,
   "metadata": {},
   "outputs": [],
   "source": [
    "# append the results to the PrettyTable object\n",
    "append_row(pt, 'rf_clf_best')"
   ]
  },
  {
   "cell_type": "markdown",
   "metadata": {},
   "source": [
    "**5. Output your test results.**"
   ]
  },
  {
   "cell_type": "code",
   "execution_count": 169,
   "metadata": {},
   "outputs": [
    {
     "name": "stdout",
     "output_type": "stream",
     "text": [
      "Random Forest Classifier with Best Parameters:\n",
      "========================================\n",
      "Training accuracy: 0.458847\n",
      "Testing accuracy: 0.451230\n"
     ]
    }
   ],
   "source": [
    "# print the results\n",
    "print_results('Random Forest Classifier with Best Parameters', comparison, 'rf_clf_best')"
   ]
  },
  {
   "cell_type": "markdown",
   "metadata": {},
   "source": [
    "### 8. Stacking Ensemble:"
   ]
  },
  {
   "cell_type": "markdown",
   "metadata": {},
   "source": [
    "**1. Create a stacking ensemble using the Decision Tree, KNN, and SVM as base learners, and a Random Forest as the meta-model.**"
   ]
  },
  {
   "cell_type": "code",
   "execution_count": 186,
   "metadata": {},
   "outputs": [],
   "source": [
    "# define the base learners\n",
    "base_learners = [\n",
    "    ('dt_clf_en', DecisionTreeClassifier(random_state=10)),\n",
    "    ('knn_clf_en', KNeighborsClassifier()),\n",
    "    ('svm_clf_en', SVC(random_state=10))\n",
    "]\n",
    "\n",
    "# define the meta learner\n",
    "clf_meta = RandomForestClassifier(random_state=10)"
   ]
  },
  {
   "cell_type": "code",
   "execution_count": 88,
   "metadata": {},
   "outputs": [],
   "source": [
    "# create a StackingClassifier object\n",
    "stack_clf = StackingClassifier(\n",
    "    estimators=base_learners,\n",
    "    final_estimator=clf_meta,\n",
    "    cv=cv_skf,\n",
    "    verbose=1)"
   ]
  },
  {
   "cell_type": "markdown",
   "metadata": {},
   "source": [
    "**2. Train this ensemble on the training data and evaluate its performance on the test data.**"
   ]
  },
  {
   "cell_type": "code",
   "execution_count": 142,
   "metadata": {},
   "outputs": [],
   "source": [
    "# save the results to the comparison dictionary\n",
    "def save_results (dict, model_name, model, scores):\n",
    "    '''\n",
    "    This function saves the results of the model to the dictionary.\n",
    "    '''\n",
    "    # save the accuracies to the dictionary for comparison\n",
    "    dict[model_name] = {\n",
    "        'acc_train': model.score(X_train, y_train), \n",
    "        'acc_test': model.score(X_test, y_test)\n",
    "        }\n",
    "    # save the scores to the dictionary for comparison\n",
    "    dict[model_name]['5-fold_scores'] = scores"
   ]
  },
  {
   "cell_type": "code",
   "execution_count": 89,
   "metadata": {},
   "outputs": [],
   "source": [
    "# fit the model with X_train and y_train\n",
    "stack_clf.fit(X_train, y_train)\n",
    "\n",
    "# predict the labels of X_test\n",
    "y_pred_stack_clf = stack_clf.predict(X_test)"
   ]
  },
  {
   "cell_type": "code",
   "execution_count": 246,
   "metadata": {},
   "outputs": [
    {
     "data": {
      "text/plain": [
       "['stack_clf.pkl']"
      ]
     },
     "execution_count": 246,
     "metadata": {},
     "output_type": "execute_result"
    }
   ],
   "source": [
    "# save the model\n",
    "joblib.dump(stack_clf, 'stack_clf.pkl')"
   ]
  },
  {
   "cell_type": "code",
   "execution_count": 144,
   "metadata": {},
   "outputs": [],
   "source": [
    "# perform 5-fold cross validation on the ensemble classifier\n",
    "stack_clf_scores = cross_val_score(stack_clf, X_np, y_np, cv=cv_skf)"
   ]
  },
  {
   "cell_type": "code",
   "execution_count": 172,
   "metadata": {},
   "outputs": [],
   "source": [
    "# save the results to the comparison dictionary\n",
    "save_results(comparison, 'stack_clf', stack_clf, stack_clf_scores)"
   ]
  },
  {
   "cell_type": "code",
   "execution_count": 175,
   "metadata": {},
   "outputs": [],
   "source": [
    "# append the results to the PrettyTable object\n",
    "append_row(pt, 'stack_clf')"
   ]
  },
  {
   "cell_type": "markdown",
   "metadata": {},
   "source": [
    "**3. Compare the performance of the stacking ensemble to the previous models and report its accuracy.**"
   ]
  },
  {
   "cell_type": "code",
   "execution_count": 173,
   "metadata": {},
   "outputs": [
    {
     "name": "stdout",
     "output_type": "stream",
     "text": [
      "Stacking Classifier:\n",
      "========================================\n",
      "Training accuracy: 0.918647\n",
      "Testing accuracy: 0.443172\n"
     ]
    }
   ],
   "source": [
    "# print the results\n",
    "print_results('Stacking Classifier', comparison, 'stack_clf')"
   ]
  },
  {
   "cell_type": "code",
   "execution_count": 176,
   "metadata": {},
   "outputs": [
    {
     "name": "stdout",
     "output_type": "stream",
     "text": [
      "+-------------+---------------------+---------------------+--------------------------------------+------------------------------------+\n",
      "|    Model    |  Training Accuracy  |   Testing Accuracy  | Stratified 5-fold Accuracy (Average) | Stratified 5-fold Accuracy Std Dev |\n",
      "+-------------+---------------------+---------------------+--------------------------------------+------------------------------------+\n",
      "|    rf_clf   |  0.9983029274501485 |  0.3672603901611535 |          0.4052258391170905          |        0.008354016810558482        |\n",
      "|   knn_clf   |  0.5326686465846415 | 0.30364715860899066 |          0.3258095370727226          |        0.009426081103632184        |\n",
      "|    dt_clf   |  0.9984089944845143 |  0.2786259541984733 |          0.2791442882317231          |        0.013298848564163227        |\n",
      "| rf_clf_best | 0.45884656170976423 | 0.45122985581000846 |          0.4761582178291218          |        0.014082522265795813        |\n",
      "|  stack_clf  |  0.9186465846414934 |  0.4431721798134012 |         0.46724869489867044          |        0.01539063145278802         |\n",
      "+-------------+---------------------+---------------------+--------------------------------------+------------------------------------+\n"
     ]
    }
   ],
   "source": [
    "print(pt)"
   ]
  },
  {
   "cell_type": "markdown",
   "metadata": {},
   "source": [
    "**Discussion**\n",
    "1. The Stacking ensemble model gives a testing accuracy of 0.443172. It performs almost as good as the best random forest model.\n",
    "2. Considering the stratified 5-fold cross validation, the best random forest model is also better than the stacking ensemble model. The stratified 5-fold average accuracy of the stacking ensemble is 0.467249 with a standard deviation of 0.015391. The average accuracy is slightly less than that of the best random forest model while the standard deviation is also slightly larger than that of the best random forest model."
   ]
  },
  {
   "cell_type": "markdown",
   "metadata": {},
   "source": [
    "### 9. Improving Performance"
   ]
  },
  {
   "cell_type": "markdown",
   "metadata": {},
   "source": [
    "**1. Improve the score of your ensemble using any means.**"
   ]
  },
  {
   "cell_type": "markdown",
   "metadata": {},
   "source": [
    "**Hints:**\n",
    "**For hyperparameter tuning, you can use nested loops or other methods to systematically explore the parameter space.**"
   ]
  },
  {
   "cell_type": "markdown",
   "metadata": {},
   "source": [
    "**Discussion**\n",
    "\n",
    "For this section, we would investigate some experiments in model architecture to increase the accuracy score of the ensemble. Since the dataset is imbalanced, in addition to training accuracy and testing accuracy, we would also look at the stratified 5-fold cross validation metrics for performance consideration."
   ]
  },
  {
   "cell_type": "markdown",
   "metadata": {},
   "source": [
    "##### Experiment 1 - adding more models as base learners\n",
    "1. In addition to DT, KNN and SVM, we would also add Gaussian Naive Bayes, a Bagging classifier and An AdaBoost classifier to the base learners. \n",
    "2. For the Final estimator, we would keep the same RF we used in the model stack_clf."
   ]
  },
  {
   "cell_type": "code",
   "execution_count": 95,
   "metadata": {},
   "outputs": [],
   "source": [
    "# define the base learners\n",
    "base_learners_02 = [\n",
    "    ('dt_clf_en', DecisionTreeClassifier(random_state=10)),\n",
    "    ('knn_clf_en', KNeighborsClassifier()),\n",
    "    ('svm_clf_en', SVC(random_state=10)),\n",
    "    ('nb_clf_en', GaussianNB()),\n",
    "    ('bag_clf_en', BaggingClassifier(random_state=10)),\n",
    "    ('ada_clf_en', AdaBoostClassifier(random_state=10))\n",
    "]"
   ]
  },
  {
   "cell_type": "code",
   "execution_count": 96,
   "metadata": {},
   "outputs": [],
   "source": [
    "# create a StackingClassifier object\n",
    "stack_clf_02 = StackingClassifier(\n",
    "    estimators=base_learners_02,\n",
    "    final_estimator=clf_meta,\n",
    "    cv=cv_skf,\n",
    "    verbose=1)"
   ]
  },
  {
   "cell_type": "code",
   "execution_count": 97,
   "metadata": {},
   "outputs": [],
   "source": [
    "# fit the model with X_train and y_train\n",
    "stack_clf_02.fit(X_train, y_train)\n",
    "\n",
    "# predict the labels of X_test\n",
    "y_pred_stack_clf_02 = stack_clf_02.predict(X_test)"
   ]
  },
  {
   "cell_type": "code",
   "execution_count": 247,
   "metadata": {},
   "outputs": [
    {
     "data": {
      "text/plain": [
       "['stack_clf_02.pkl']"
      ]
     },
     "execution_count": 247,
     "metadata": {},
     "output_type": "execute_result"
    }
   ],
   "source": [
    "# save the model\n",
    "joblib.dump(stack_clf_02, 'stack_clf_02.pkl')"
   ]
  },
  {
   "cell_type": "code",
   "execution_count": 99,
   "metadata": {},
   "outputs": [],
   "source": [
    "# perform 5-fold cross validation on the stacking 02 ensemble\n",
    "stack_clf_02_scores = cross_val_score(stack_clf_02, X_np, y_np, cv=cv_skf)"
   ]
  },
  {
   "cell_type": "code",
   "execution_count": 177,
   "metadata": {},
   "outputs": [],
   "source": [
    "# save the results to the comparison dictionary\n",
    "save_results(comparison, 'stack_clf_02', stack_clf_02, stack_clf_02_scores)"
   ]
  },
  {
   "cell_type": "code",
   "execution_count": 178,
   "metadata": {},
   "outputs": [],
   "source": [
    "# append the results to the PrettyTable object\n",
    "append_row(pt, 'stack_clf_02')"
   ]
  },
  {
   "cell_type": "code",
   "execution_count": 179,
   "metadata": {},
   "outputs": [
    {
     "name": "stdout",
     "output_type": "stream",
     "text": [
      "+--------------+---------------------+---------------------+--------------------------------------+------------------------------------+\n",
      "|    Model     |  Training Accuracy  |   Testing Accuracy  | Stratified 5-fold Accuracy (Average) | Stratified 5-fold Accuracy Std Dev |\n",
      "+--------------+---------------------+---------------------+--------------------------------------+------------------------------------+\n",
      "|    rf_clf    |  0.9983029274501485 |  0.3672603901611535 |          0.4052258391170905          |        0.008354016810558482        |\n",
      "|   knn_clf    |  0.5326686465846415 | 0.30364715860899066 |          0.3258095370727226          |        0.009426081103632184        |\n",
      "|    dt_clf    |  0.9984089944845143 |  0.2786259541984733 |          0.2791442882317231          |        0.013298848564163227        |\n",
      "| rf_clf_best  | 0.45884656170976423 | 0.45122985581000846 |          0.4761582178291218          |        0.014082522265795813        |\n",
      "|  stack_clf   |  0.9186465846414934 |  0.4431721798134012 |         0.46724869489867044          |        0.01539063145278802         |\n",
      "| stack_clf_02 |  0.8953118370810352 |  0.4397794741306192 |         0.46003653240145487          |        0.008871479159910434        |\n",
      "+--------------+---------------------+---------------------+--------------------------------------+------------------------------------+\n"
     ]
    }
   ],
   "source": [
    "print(pt)"
   ]
  },
  {
   "cell_type": "markdown",
   "metadata": {},
   "source": [
    "**Comment**\n",
    "\n",
    "1. The stacking ensemble 02 model does not have an improvement in average accuracy. It is 0.460037, which is not greater than that of model stack_clf.\n",
    "2. There is a significant improvement in accuracy standard deviation. It is 0.008871, which is a much less than that of model stack_clf at 0.015391."
   ]
  },
  {
   "cell_type": "markdown",
   "metadata": {},
   "source": [
    "##### Experiment 2 - use the best parameters for each base learner\n",
    "1. We continue the journey to experience other options. Based on stack_clf, we would use the best models in both the base learners and the final estimator. \n",
    "2. We would perform grid search to help us find the best model."
   ]
  },
  {
   "cell_type": "code",
   "execution_count": 123,
   "metadata": {},
   "outputs": [],
   "source": [
    "# carry out grid search on the dt classifier\n",
    "param_grid_dt = {\n",
    "    'max_depth': np.arange(10, 50, 5),\n",
    "    'min_samples_split': np.arange(5, 20, 5),\n",
    "    'min_samples_leaf': np.arange(5, 20, 5),\n",
    "    'criterion': ['gini', 'entropy']\n",
    "}"
   ]
  },
  {
   "cell_type": "code",
   "execution_count": 124,
   "metadata": {},
   "outputs": [],
   "source": [
    "# create a GridSearchCV object\n",
    "grid_search_dt = GridSearchCV(\n",
    "    estimator=dt_clf, \n",
    "    param_grid=param_grid_dt,\n",
    "    cv=cv_skf,\n",
    "    verbose=1)"
   ]
  },
  {
   "cell_type": "code",
   "execution_count": 125,
   "metadata": {},
   "outputs": [
    {
     "name": "stdout",
     "output_type": "stream",
     "text": [
      "Fitting 5 folds for each of 144 candidates, totalling 720 fits\n"
     ]
    },
    {
     "data": {
      "text/plain": [
       "{'criterion': 'gini',\n",
       " 'max_depth': 40,\n",
       " 'min_samples_leaf': 5,\n",
       " 'min_samples_split': 15}"
      ]
     },
     "execution_count": 125,
     "metadata": {},
     "output_type": "execute_result"
    }
   ],
   "source": [
    "# fit the model with X_train and y_train\n",
    "grid_search_dt.fit(X_train, y_train)\n",
    "\n",
    "# print the best parameters\n",
    "grid_search_dt.best_params_"
   ]
  },
  {
   "cell_type": "code",
   "execution_count": 181,
   "metadata": {},
   "outputs": [],
   "source": [
    "# setup the best dt classifier\n",
    "dt_clf_best = DecisionTreeClassifier(\n",
    "    criterion=grid_search_dt.best_params_['criterion'],\n",
    "    max_depth=grid_search_dt.best_params_['max_depth'],\n",
    "    min_samples_leaf=grid_search_dt.best_params_['min_samples_leaf'],\n",
    "    min_samples_split=grid_search_dt.best_params_['min_samples_split'],\n",
    "    random_state=10)"
   ]
  },
  {
   "cell_type": "code",
   "execution_count": 134,
   "metadata": {},
   "outputs": [],
   "source": [
    "# carry out grid search on the knn classifier\n",
    "param_grid_knn = {\n",
    "    'n_neighbors': np.arange(5, 100, 5),\n",
    "    'weights': ['uniform', 'distance']\n",
    "}"
   ]
  },
  {
   "cell_type": "code",
   "execution_count": 135,
   "metadata": {},
   "outputs": [],
   "source": [
    "# create a GridSearchCV object\n",
    "grid_search_knn = GridSearchCV(\n",
    "    estimator=knn_clf, \n",
    "    param_grid=param_grid_knn,\n",
    "    cv=cv_skf,\n",
    "    verbose=1)"
   ]
  },
  {
   "cell_type": "code",
   "execution_count": 136,
   "metadata": {},
   "outputs": [
    {
     "name": "stdout",
     "output_type": "stream",
     "text": [
      "Fitting 5 folds for each of 38 candidates, totalling 190 fits\n"
     ]
    },
    {
     "data": {
      "text/plain": [
       "{'n_neighbors': 10, 'weights': 'distance'}"
      ]
     },
     "execution_count": 136,
     "metadata": {},
     "output_type": "execute_result"
    }
   ],
   "source": [
    "# fit the model with X_train and y_train\n",
    "grid_search_knn.fit(X_train, y_train)\n",
    "\n",
    "# print the best parameters\n",
    "grid_search_knn.best_params_"
   ]
  },
  {
   "cell_type": "code",
   "execution_count": 182,
   "metadata": {},
   "outputs": [],
   "source": [
    "# setup the best knn classifier\n",
    "knn_clf_best = KNeighborsClassifier(\n",
    "    n_neighbors=grid_search_knn.best_params_['n_neighbors'],\n",
    "    weights=grid_search_knn.best_params_['weights'])"
   ]
  },
  {
   "cell_type": "code",
   "execution_count": 138,
   "metadata": {},
   "outputs": [],
   "source": [
    "# carry out grid search on the svm classifier\n",
    "param_grid_svm = {\n",
    "    'C': [0.1, 1, 10, 100],\n",
    "    'gamma': [1, 0.1, 0.01, 0.001],\n",
    "    'kernel': ['rbf', 'poly', 'sigmoid']\n",
    "}"
   ]
  },
  {
   "cell_type": "code",
   "execution_count": 139,
   "metadata": {},
   "outputs": [],
   "source": [
    "# create a GridSearchCV object\n",
    "grid_search_svm = GridSearchCV(\n",
    "    estimator=SVC(), \n",
    "    param_grid=param_grid_svm,\n",
    "    cv=cv_skf,\n",
    "    verbose=1)"
   ]
  },
  {
   "cell_type": "code",
   "execution_count": 140,
   "metadata": {},
   "outputs": [
    {
     "name": "stdout",
     "output_type": "stream",
     "text": [
      "Fitting 5 folds for each of 48 candidates, totalling 240 fits\n"
     ]
    },
    {
     "data": {
      "text/plain": [
       "{'C': 10, 'gamma': 0.01, 'kernel': 'rbf'}"
      ]
     },
     "execution_count": 140,
     "metadata": {},
     "output_type": "execute_result"
    }
   ],
   "source": [
    "# fit the model with X_train and y_train\n",
    "grid_search_svm.fit(X_train, y_train)\n",
    "\n",
    "# print the best parameters\n",
    "grid_search_svm.best_params_"
   ]
  },
  {
   "cell_type": "code",
   "execution_count": 183,
   "metadata": {},
   "outputs": [],
   "source": [
    "# setup the best svm classifier\n",
    "svm_clf_best = SVC(\n",
    "    C=grid_search_svm.best_params_['C'],\n",
    "    gamma=grid_search_svm.best_params_['gamma'],\n",
    "    kernel=grid_search_svm.best_params_['kernel'],\n",
    "    random_state=10)"
   ]
  },
  {
   "cell_type": "markdown",
   "metadata": {},
   "source": [
    "We have obtained the best models of DT, KNN and SVM for base learners. For the final estimator, we would use the best RF (rf_clf_best) we obtained previously. "
   ]
  },
  {
   "cell_type": "code",
   "execution_count": 185,
   "metadata": {},
   "outputs": [],
   "source": [
    "# define the base learners\n",
    "base_learners_03 = [\n",
    "    ('dt_clf_en', dt_clf_best),\n",
    "    ('knn_clf_en', knn_clf_best),\n",
    "    ('svm_clf_en', svm_clf_best)\n",
    "]\n",
    "\n",
    "# define the meta learner\n",
    "clf_meta_03 = rf_clf_best"
   ]
  },
  {
   "cell_type": "code",
   "execution_count": 187,
   "metadata": {},
   "outputs": [],
   "source": [
    "# create a StackingClassifier object\n",
    "stack_clf_03 = StackingClassifier(\n",
    "    estimators=base_learners_03,\n",
    "    final_estimator=clf_meta_03,\n",
    "    cv=cv_skf,\n",
    "    verbose=1)"
   ]
  },
  {
   "cell_type": "code",
   "execution_count": 188,
   "metadata": {},
   "outputs": [],
   "source": [
    "# fit the model with X_train and y_train\n",
    "stack_clf_03.fit(X_train, y_train)\n",
    "\n",
    "# predict the labels of X_test\n",
    "y_pred_stack_clf_03 = stack_clf_03.predict(X_test)"
   ]
  },
  {
   "cell_type": "code",
   "execution_count": 244,
   "metadata": {},
   "outputs": [
    {
     "data": {
      "text/plain": [
       "['stack_clf_03.pkl']"
      ]
     },
     "execution_count": 244,
     "metadata": {},
     "output_type": "execute_result"
    }
   ],
   "source": [
    "# save the model\n",
    "joblib.dump(stack_clf_03, 'stack_clf_03.pkl')"
   ]
  },
  {
   "cell_type": "code",
   "execution_count": 189,
   "metadata": {},
   "outputs": [],
   "source": [
    "# perform 5-fold cross validation on the ensemble classifier\n",
    "stack_clf_03_scores = cross_val_score(stack_clf_03, X_np, y_np, cv=cv_skf)"
   ]
  },
  {
   "cell_type": "code",
   "execution_count": 190,
   "metadata": {},
   "outputs": [],
   "source": [
    "# save the results to the comparison dictionary\n",
    "save_results(comparison, 'stack_clf_03', stack_clf_03, stack_clf_03_scores)"
   ]
  },
  {
   "cell_type": "code",
   "execution_count": 191,
   "metadata": {},
   "outputs": [],
   "source": [
    "# append the results to the PrettyTable object\n",
    "append_row(pt, 'stack_clf_03')"
   ]
  },
  {
   "cell_type": "code",
   "execution_count": 192,
   "metadata": {},
   "outputs": [
    {
     "name": "stdout",
     "output_type": "stream",
     "text": [
      "+--------------+---------------------+---------------------+--------------------------------------+------------------------------------+\n",
      "|    Model     |  Training Accuracy  |   Testing Accuracy  | Stratified 5-fold Accuracy (Average) | Stratified 5-fold Accuracy Std Dev |\n",
      "+--------------+---------------------+---------------------+--------------------------------------+------------------------------------+\n",
      "|    rf_clf    |  0.9983029274501485 |  0.3672603901611535 |          0.4052258391170905          |        0.008354016810558482        |\n",
      "|   knn_clf    |  0.5326686465846415 | 0.30364715860899066 |          0.3258095370727226          |        0.009426081103632184        |\n",
      "|    dt_clf    |  0.9984089944845143 |  0.2786259541984733 |          0.2791442882317231          |        0.013298848564163227        |\n",
      "| rf_clf_best  | 0.45884656170976423 | 0.45122985581000846 |          0.4761582178291218          |        0.014082522265795813        |\n",
      "|  stack_clf   |  0.9186465846414934 |  0.4431721798134012 |         0.46724869489867044          |        0.01539063145278802         |\n",
      "| stack_clf_02 |  0.8953118370810352 |  0.4397794741306192 |         0.46003653240145487          |        0.008871479159910434        |\n",
      "| stack_clf_03 |  0.9497242257106492 | 0.45674300254452926 |         0.48158737458630263          |        0.011850046355957862        |\n",
      "+--------------+---------------------+---------------------+--------------------------------------+------------------------------------+\n"
     ]
    }
   ],
   "source": [
    "print(pt)"
   ]
  },
  {
   "cell_type": "markdown",
   "metadata": {},
   "source": [
    "**Comment**\n",
    "\n",
    "1. For this stacking ensemble stack_clf_03, the average accuracy is 0.481587 and the standard deviation of accuracy is 0.011850. Both metrics are better than the original (stack_clf) stacking ensemble. \n",
    "2. The stack_clf_03 also performs better than the best random forest ensemble (rf_clf_best)."
   ]
  },
  {
   "cell_type": "markdown",
   "metadata": {},
   "source": [
    "##### Experiment 3 - use grid search on the stacking classifier to find its best parameters\n",
    "There are parameters that we can set on the stacking classifier itself. We would do a grid search on those parameters.\n",
    "\n",
    "*note*: There are 3 options in 'stack_method', namely 'predict_proba', 'decision_function', 'predict', but only 'predict' works for our base learners."
   ]
  },
  {
   "cell_type": "code",
   "execution_count": 198,
   "metadata": {},
   "outputs": [],
   "source": [
    "# carry out grid search on the stacking classifier\n",
    "param_grid_stack = {\n",
    "    'stack_method': ['predict'],\n",
    "    'passthrough': [True, False]\n",
    "}"
   ]
  },
  {
   "cell_type": "code",
   "execution_count": 199,
   "metadata": {},
   "outputs": [],
   "source": [
    "# create a GridSearchCV object\n",
    "grid_search_stack = GridSearchCV(\n",
    "    estimator=stack_clf, \n",
    "    param_grid=param_grid_stack,\n",
    "    cv=cv_skf,\n",
    "    verbose=1)"
   ]
  },
  {
   "cell_type": "code",
   "execution_count": 200,
   "metadata": {},
   "outputs": [
    {
     "name": "stdout",
     "output_type": "stream",
     "text": [
      "Fitting 5 folds for each of 2 candidates, totalling 10 fits\n"
     ]
    },
    {
     "data": {
      "text/plain": [
       "{'passthrough': True, 'stack_method': 'predict'}"
      ]
     },
     "execution_count": 200,
     "metadata": {},
     "output_type": "execute_result"
    }
   ],
   "source": [
    "# fit the model with X_train and y_train\n",
    "grid_search_stack.fit(X_train, y_train)\n",
    "\n",
    "# print the best parameters\n",
    "grid_search_stack.best_params_"
   ]
  },
  {
   "cell_type": "code",
   "execution_count": 201,
   "metadata": {},
   "outputs": [],
   "source": [
    "# set up the best stacking classifier\n",
    "stack_clf_04 = StackingClassifier(\n",
    "    estimators=base_learners,\n",
    "    final_estimator=clf_meta,\n",
    "    cv=cv_skf,\n",
    "    verbose=1,\n",
    "    stack_method=grid_search_stack.best_params_['stack_method'],\n",
    "    passthrough=grid_search_stack.best_params_['passthrough'])"
   ]
  },
  {
   "cell_type": "code",
   "execution_count": 204,
   "metadata": {},
   "outputs": [],
   "source": [
    "# fit the model with X_train and y_train\n",
    "stack_clf_04.fit(X_train, y_train)\n",
    "\n",
    "# predict the labels of X_test\n",
    "y_pred_stack_clf_04 = stack_clf_04.predict(X_test)"
   ]
  },
  {
   "cell_type": "code",
   "execution_count": 243,
   "metadata": {},
   "outputs": [
    {
     "data": {
      "text/plain": [
       "['stack_clf_04.joblib']"
      ]
     },
     "execution_count": 243,
     "metadata": {},
     "output_type": "execute_result"
    }
   ],
   "source": [
    "# save the model \n",
    "joblib.dump(stack_clf_04, 'stack_clf_04.joblib')"
   ]
  },
  {
   "cell_type": "code",
   "execution_count": 205,
   "metadata": {},
   "outputs": [],
   "source": [
    "# perform 5-fold cross validation on the ensemble classifier\n",
    "stack_clf_04_scores = cross_val_score(stack_clf_04, X_np, y_np, cv=cv_skf)"
   ]
  },
  {
   "cell_type": "code",
   "execution_count": 206,
   "metadata": {},
   "outputs": [],
   "source": [
    "# save the results to the comparison dictionary\n",
    "save_results(comparison, 'stack_clf_04', stack_clf_04, stack_clf_04_scores)"
   ]
  },
  {
   "cell_type": "code",
   "execution_count": 207,
   "metadata": {},
   "outputs": [],
   "source": [
    "# append the results to the PrettyTable object\n",
    "append_row(pt, 'stack_clf_04')"
   ]
  },
  {
   "cell_type": "code",
   "execution_count": 208,
   "metadata": {},
   "outputs": [
    {
     "name": "stdout",
     "output_type": "stream",
     "text": [
      "+--------------+---------------------+---------------------+--------------------------------------+------------------------------------+\n",
      "|    Model     |  Training Accuracy  |   Testing Accuracy  | Stratified 5-fold Accuracy (Average) | Stratified 5-fold Accuracy Std Dev |\n",
      "+--------------+---------------------+---------------------+--------------------------------------+------------------------------------+\n",
      "|    rf_clf    |  0.9983029274501485 |  0.3672603901611535 |          0.4052258391170905          |        0.008354016810558482        |\n",
      "|   knn_clf    |  0.5326686465846415 | 0.30364715860899066 |          0.3258095370727226          |        0.009426081103632184        |\n",
      "|    dt_clf    |  0.9984089944845143 |  0.2786259541984733 |          0.2791442882317231          |        0.013298848564163227        |\n",
      "| rf_clf_best  | 0.45884656170976423 | 0.45122985581000846 |          0.4761582178291218          |        0.014082522265795813        |\n",
      "|  stack_clf   |  0.9186465846414934 |  0.4431721798134012 |         0.46724869489867044          |        0.01539063145278802         |\n",
      "| stack_clf_02 |  0.8953118370810352 |  0.4397794741306192 |         0.46003653240145487          |        0.008871479159910434        |\n",
      "| stack_clf_03 |  0.9497242257106492 | 0.45674300254452926 |         0.48158737458630263          |        0.011850046355957862        |\n",
      "| stack_clf_04 |  0.9951209164191769 | 0.45589482612383375 |          0.4766664039730785          |        0.01404144793668405         |\n",
      "+--------------+---------------------+---------------------+--------------------------------------+------------------------------------+\n"
     ]
    }
   ],
   "source": [
    "print(pt)"
   ]
  },
  {
   "cell_type": "markdown",
   "metadata": {},
   "source": [
    "**Comment**\n",
    "\n",
    "1. For this stacking ensemble stack_clf_04, the average accuracy is 0.476666 and the standard deviation of accuracy is 0.014041. Both metrics are better than the original (stack_clf) stacking ensemble. \n",
    "2. It is slightly better than the random forest ensemble (rf_clf_best) for both metrics too."
   ]
  },
  {
   "cell_type": "markdown",
   "metadata": {},
   "source": [
    "##### Experiment 4 - combine Experiment 1, 2 and 3\n",
    "From the above 3 experiments that we varied from the stack_clf, we have achieved improvements in increase in accuracy and decrease in standard deviation. In this attempt, we would combine the architecture."
   ]
  },
  {
   "cell_type": "code",
   "execution_count": 212,
   "metadata": {},
   "outputs": [],
   "source": [
    "# continue to carry out grid search on the base learners\n",
    "# find the best parameters for the naive bayes classifier\n",
    "param_grid_nb = {\n",
    "    'var_smoothing': [1e-11, 1e-10, 1e-9, 1e-8, 1e-7]\n",
    "}"
   ]
  },
  {
   "cell_type": "code",
   "execution_count": 213,
   "metadata": {},
   "outputs": [],
   "source": [
    "# create a GridSearchCV object\n",
    "grid_search_nb = GridSearchCV(\n",
    "    estimator=GaussianNB(), \n",
    "    param_grid=param_grid_nb,\n",
    "    cv=cv_skf,\n",
    "    verbose=1)"
   ]
  },
  {
   "cell_type": "code",
   "execution_count": 214,
   "metadata": {},
   "outputs": [
    {
     "name": "stdout",
     "output_type": "stream",
     "text": [
      "Fitting 5 folds for each of 5 candidates, totalling 25 fits\n"
     ]
    },
    {
     "data": {
      "text/plain": [
       "{'var_smoothing': 1e-07}"
      ]
     },
     "execution_count": 214,
     "metadata": {},
     "output_type": "execute_result"
    }
   ],
   "source": [
    "# fit the model with X_train and y_train\n",
    "grid_search_nb.fit(X_train, y_train)\n",
    "\n",
    "# print the best parameters\n",
    "grid_search_nb.best_params_"
   ]
  },
  {
   "cell_type": "code",
   "execution_count": 215,
   "metadata": {},
   "outputs": [],
   "source": [
    "# set up the best naive bayes classifier\n",
    "nb_clf_best = GaussianNB(\n",
    "    var_smoothing=grid_search_nb.best_params_['var_smoothing'])"
   ]
  },
  {
   "cell_type": "code",
   "execution_count": 225,
   "metadata": {},
   "outputs": [],
   "source": [
    "# find the best parameters for the bagging classifier\n",
    "param_grid_bag = {\n",
    "    'n_estimators': np.arange(10, 40, 10),\n",
    "    'max_samples': np.arange(0.05, 0.8, 0.2),\n",
    "    'max_features': np.arange(0.05, 0.8, 0.2),\n",
    "    'bootstrap': [True, False],\n",
    "    'bootstrap_features': [True, False]\n",
    "}"
   ]
  },
  {
   "cell_type": "code",
   "execution_count": 226,
   "metadata": {},
   "outputs": [],
   "source": [
    "# create a GridSearchCV object\n",
    "grid_search_bag = GridSearchCV(\n",
    "    estimator=BaggingClassifier(random_state=10), \n",
    "    param_grid=param_grid_bag,\n",
    "    cv=cv_skf,\n",
    "    verbose=1)"
   ]
  },
  {
   "cell_type": "code",
   "execution_count": 227,
   "metadata": {},
   "outputs": [
    {
     "name": "stdout",
     "output_type": "stream",
     "text": [
      "Fitting 5 folds for each of 192 candidates, totalling 960 fits\n"
     ]
    },
    {
     "data": {
      "text/plain": [
       "{'bootstrap': False,\n",
       " 'bootstrap_features': True,\n",
       " 'max_features': 0.6500000000000001,\n",
       " 'max_samples': 0.6500000000000001,\n",
       " 'n_estimators': 30}"
      ]
     },
     "execution_count": 227,
     "metadata": {},
     "output_type": "execute_result"
    }
   ],
   "source": [
    "# fit the model with X_train and y_train\n",
    "grid_search_bag.fit(X_train, y_train)\n",
    "\n",
    "# print the best parameters\n",
    "grid_search_bag.best_params_"
   ]
  },
  {
   "cell_type": "code",
   "execution_count": 228,
   "metadata": {},
   "outputs": [],
   "source": [
    "# set up the best bagging classifier\n",
    "bag_clf_best = BaggingClassifier(\n",
    "    n_estimators=grid_search_bag.best_params_['n_estimators'],\n",
    "    max_samples=grid_search_bag.best_params_['max_samples'],\n",
    "    max_features=grid_search_bag.best_params_['max_features'],\n",
    "    bootstrap=grid_search_bag.best_params_['bootstrap'],\n",
    "    bootstrap_features=grid_search_bag.best_params_['bootstrap_features'],\n",
    "    random_state=10)"
   ]
  },
  {
   "cell_type": "code",
   "execution_count": 229,
   "metadata": {},
   "outputs": [],
   "source": [
    "# find the best parameters for the adaboost classifier\n",
    "param_grid_ada = {\n",
    "    'n_estimators': np.arange(10, 40, 10),\n",
    "    'learning_rate': np.arange(0.1, 1.0, 0.3),\n",
    "    'algorithm': ['SAMME', 'SAMME.R']\n",
    "}"
   ]
  },
  {
   "cell_type": "code",
   "execution_count": 230,
   "metadata": {},
   "outputs": [],
   "source": [
    "# create a GridSearchCV object\n",
    "grid_search_ada = GridSearchCV(\n",
    "    estimator=AdaBoostClassifier(random_state=10), \n",
    "    param_grid=param_grid_ada,\n",
    "    cv=cv_skf,\n",
    "    verbose=1)"
   ]
  },
  {
   "cell_type": "code",
   "execution_count": 231,
   "metadata": {},
   "outputs": [
    {
     "name": "stdout",
     "output_type": "stream",
     "text": [
      "Fitting 5 folds for each of 18 candidates, totalling 90 fits\n"
     ]
    },
    {
     "data": {
      "text/plain": [
       "{'algorithm': 'SAMME.R', 'learning_rate': 0.4, 'n_estimators': 30}"
      ]
     },
     "execution_count": 231,
     "metadata": {},
     "output_type": "execute_result"
    }
   ],
   "source": [
    "# fit the model with X_train and y_train\n",
    "grid_search_ada.fit(X_train, y_train)\n",
    "\n",
    "# print the best parameters\n",
    "grid_search_ada.best_params_"
   ]
  },
  {
   "cell_type": "code",
   "execution_count": 232,
   "metadata": {},
   "outputs": [],
   "source": [
    "# set up the best adaboost classifier\n",
    "ada_clf_best = AdaBoostClassifier(\n",
    "    n_estimators=grid_search_ada.best_params_['n_estimators'],\n",
    "    learning_rate=grid_search_ada.best_params_['learning_rate'],\n",
    "    algorithm=grid_search_ada.best_params_['algorithm'],\n",
    "    random_state=10)"
   ]
  },
  {
   "cell_type": "markdown",
   "metadata": {},
   "source": [
    "We use 6 models in base learners and 1 final estimator. All 7 models are tuned to best performance using grid search and stratified 5-fold cross validation."
   ]
  },
  {
   "cell_type": "code",
   "execution_count": 233,
   "metadata": {},
   "outputs": [],
   "source": [
    "# define the base learners\n",
    "base_learners_04 = [\n",
    "    ('dt_clf_en', dt_clf_best),\n",
    "    ('knn_clf_en', knn_clf_best),\n",
    "    ('svm_clf_en', svm_clf_best),\n",
    "    ('nb_clf_en', nb_clf_best),\n",
    "    ('bag_clf_en', bag_clf_best),\n",
    "    ('ada_clf_en', ada_clf_best)\n",
    "]"
   ]
  },
  {
   "cell_type": "code",
   "execution_count": 234,
   "metadata": {},
   "outputs": [],
   "source": [
    "# define the meta learner\n",
    "clf_meta_04 = rf_clf_best"
   ]
  },
  {
   "cell_type": "markdown",
   "metadata": {},
   "source": [
    "We use 'tuned' parameters for the stacking classifier."
   ]
  },
  {
   "cell_type": "code",
   "execution_count": 235,
   "metadata": {},
   "outputs": [],
   "source": [
    "# create a StackingClassifier object\n",
    "stack_clf_05 = StackingClassifier(\n",
    "    estimators=base_learners_04,\n",
    "    final_estimator=clf_meta_04,\n",
    "    cv=cv_skf,\n",
    "    verbose=1,\n",
    "    stack_method=grid_search_stack.best_params_['stack_method'],\n",
    "    passthrough=grid_search_stack.best_params_['passthrough'])"
   ]
  },
  {
   "cell_type": "code",
   "execution_count": 236,
   "metadata": {},
   "outputs": [],
   "source": [
    "# fit the model with X_train and y_train\n",
    "stack_clf_05.fit(X_train, y_train)\n",
    "\n",
    "# predict the labels of X_test\n",
    "y_pred_stack_clf_05 = stack_clf_05.predict(X_test)"
   ]
  },
  {
   "cell_type": "code",
   "execution_count": 242,
   "metadata": {},
   "outputs": [
    {
     "data": {
      "text/plain": [
       "['stack_clf_05.pkl']"
      ]
     },
     "execution_count": 242,
     "metadata": {},
     "output_type": "execute_result"
    }
   ],
   "source": [
    "# save the model to a file\n",
    "joblib.dump(stack_clf_05, 'stack_clf_05.pkl')"
   ]
  },
  {
   "cell_type": "code",
   "execution_count": 237,
   "metadata": {},
   "outputs": [],
   "source": [
    "# perform 5-fold cross validation on the ensemble classifier\n",
    "stack_clf_05_scores = cross_val_score(stack_clf_05, X_np, y_np, cv=cv_skf)"
   ]
  },
  {
   "cell_type": "code",
   "execution_count": 238,
   "metadata": {},
   "outputs": [],
   "source": [
    "# save the results to the comparison dictionary\n",
    "save_results(comparison, 'stack_clf_05', stack_clf_05, stack_clf_05_scores)"
   ]
  },
  {
   "cell_type": "code",
   "execution_count": 239,
   "metadata": {},
   "outputs": [],
   "source": [
    "# append the results to the PrettyTable object\n",
    "append_row(pt, 'stack_clf_05')"
   ]
  },
  {
   "cell_type": "code",
   "execution_count": 240,
   "metadata": {},
   "outputs": [
    {
     "name": "stdout",
     "output_type": "stream",
     "text": [
      "+--------------+---------------------+---------------------+--------------------------------------+------------------------------------+\n",
      "|    Model     |  Training Accuracy  |   Testing Accuracy  | Stratified 5-fold Accuracy (Average) | Stratified 5-fold Accuracy Std Dev |\n",
      "+--------------+---------------------+---------------------+--------------------------------------+------------------------------------+\n",
      "|    rf_clf    |  0.9983029274501485 |  0.3672603901611535 |          0.4052258391170905          |        0.008354016810558482        |\n",
      "|   knn_clf    |  0.5326686465846415 | 0.30364715860899066 |          0.3258095370727226          |        0.009426081103632184        |\n",
      "|    dt_clf    |  0.9984089944845143 |  0.2786259541984733 |          0.2791442882317231          |        0.013298848564163227        |\n",
      "| rf_clf_best  | 0.45884656170976423 | 0.45122985581000846 |          0.4761582178291218          |        0.014082522265795813        |\n",
      "|  stack_clf   |  0.9186465846414934 |  0.4431721798134012 |         0.46724869489867044          |        0.01539063145278802         |\n",
      "| stack_clf_02 |  0.8953118370810352 |  0.4397794741306192 |         0.46003653240145487          |        0.008871479159910434        |\n",
      "| stack_clf_03 |  0.9497242257106492 | 0.45674300254452926 |         0.48158737458630263          |        0.011850046355957862        |\n",
      "| stack_clf_04 |  0.9951209164191769 | 0.45589482612383375 |          0.4766664039730785          |        0.01404144793668405         |\n",
      "| stack_clf_05 |  0.9867416207042851 | 0.47540288379983037 |          0.4841337391049634          |        0.011198076460229326        |\n",
      "+--------------+---------------------+---------------------+--------------------------------------+------------------------------------+\n"
     ]
    }
   ],
   "source": [
    "print(pt)"
   ]
  },
  {
   "cell_type": "markdown",
   "metadata": {},
   "source": [
    "**Discussion**\n",
    "1. The stack_clf_05 model did an excellent job, and it is the best model with our experiments. It gives the highest testing accuracy. Considering stratified 5-fold cross validation, it improves the average accuracy and lowers its standard deviation in accuracy. \n",
    "2. Our experiment may stop here. However, we should be aware that, although stack_clf_05 is the best model, its average accuracy is still less than 50%. We should consider other machine learning algorithms to achieve better accuracy."
   ]
  }
 ],
 "metadata": {
  "kernelspec": {
   "display_name": "python311",
   "language": "python",
   "name": "python3"
  },
  "language_info": {
   "codemirror_mode": {
    "name": "ipython",
    "version": 3
   },
   "file_extension": ".py",
   "mimetype": "text/x-python",
   "name": "python",
   "nbconvert_exporter": "python",
   "pygments_lexer": "ipython3",
   "version": "3.11.5"
  }
 },
 "nbformat": 4,
 "nbformat_minor": 2
}
